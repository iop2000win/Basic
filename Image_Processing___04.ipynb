{
 "cells": [
  {
   "cell_type": "markdown",
   "id": "7a5fcbe4",
   "metadata": {},
   "source": [
    "# 미니 프로젝트: 반자동 문서 스캐너"
   ]
  },
  {
   "cell_type": "markdown",
   "id": "4bfd105c",
   "metadata": {},
   "source": [
    "### 마우스 이벤트 등록"
   ]
  },
  {
   "cell_type": "code",
   "execution_count": 2,
   "id": "68a8b5ae",
   "metadata": {},
   "outputs": [],
   "source": [
    "import cv2\n",
    "\n",
    "img_path = './Data/poker.jpg'"
   ]
  },
  {
   "cell_type": "code",
   "execution_count": 6,
   "id": "6fe94bb1",
   "metadata": {},
   "outputs": [
    {
     "name": "stdout",
     "output_type": "stream",
     "text": [
      "왼쪽 버튼 Down\n",
      "1137 413\n",
      "왼쪽 버트 Up\n",
      "1137 413\n",
      "왼쪽 버튼 Down\n",
      "276 690\n",
      "왼쪽 버트 Up\n",
      "276 690\n",
      "왼쪽 버튼 Double Click\n",
      "왼쪽 버트 Up\n",
      "276 690\n",
      "왼쪽 버튼 Down\n",
      "375 597\n",
      "왼쪽 버트 Up\n",
      "375 597\n"
     ]
    }
   ],
   "source": [
    "img = cv2.imread(img_path)\n",
    "\n",
    "def mouse_handler(event, x, y, flags, param):\n",
    "    # 마우스 작동이 발생했을 때, callback 함수를 통해서\n",
    "    # event : 해당 작동이 무슨 작동이었는지,\n",
    "    # x : 해당 작동이 발생한 마우스 포인트의 x 좌표,\n",
    "    # y : 해당 작동이 발생한 마우스 포인트의 y 좌표\n",
    "    # 를 입력받고 작동하게 된다,\n",
    "    # (What is flags ? and param?)\n",
    "    if event == cv2.EVENT_LBUTTONDOWN:\n",
    "        print('왼쪽 버튼 Down')\n",
    "        print(x, y)\n",
    "    elif event == cv2.EVENT_LBUTTONUP:\n",
    "        print('왼쪽 버튼 Up')\n",
    "        print(x, y)\n",
    "    elif event == cv2.EVENT_LBUTTONDBLCLK:\n",
    "        print('왼쪽 버튼 Double Click')\n",
    "#     elif event == cv2.EVENT_MOUSEMOVE:\n",
    "#         print('마우스 이동')\n",
    "    elif event == cv2.EVENT_RBUTTONDOWN:\n",
    "        print('오른쪽 버튼 Down')\n",
    "\n",
    "cv2.namedWindow('img')\n",
    "cv2.setMouseCallback('img', mouse_handler)\n",
    "# img란 이름의 윈도우를 먼저 만들어두는 것\n",
    "# 여기에 마우스 이벤트를 처리하기 위한 핸들러 적용\n",
    "cv2.imshow('img',img)\n",
    "cv2.waitKey(0)\n",
    "cv2.destroyAllWindows()"
   ]
  },
  {
   "cell_type": "markdown",
   "id": "1034ebf9",
   "metadata": {},
   "source": [
    "### 프로젝트 코드"
   ]
  },
  {
   "cell_type": "code",
   "execution_count": 11,
   "id": "69da71e7",
   "metadata": {},
   "outputs": [],
   "source": [
    "import numpy as np\n",
    "import cv2\n",
    "\n",
    "img_path = './Data/poker.jpg'"
   ]
  },
  {
   "cell_type": "code",
   "execution_count": 17,
   "id": "5f0417c3",
   "metadata": {},
   "outputs": [],
   "source": [
    "src_img = cv2.imread(img_path)\n",
    "\n",
    "# 마우스 지점을 저장할 리스트 필요\n",
    "point_list = []\n",
    "\n",
    "COLOR = (255, 0, 255)\n",
    "THICK = 3\n",
    "drawing = False # 선을 그릴지 여부\n",
    "\n",
    "# 마우스 이벤트 함수를 조정해서, (x, y) 좌표를 출력하는게 아니라 리스트에 append\n",
    "def mouse_handler(event, x, y, flags, param):\n",
    "    global drawing\n",
    "    dest_img = src_img.copy()\n",
    "    \n",
    "    if event == cv2.EVENT_LBUTTONDOWN:\n",
    "        drawing = True\n",
    "        point_list.append((x, y))\n",
    "        \n",
    "    if drawing:\n",
    "        prev_point = None\n",
    "        # 이렇게 작성하면 매번 마우스 액션을 취할 때마다 for문이 도는데,\n",
    "        # 굳이 이렇게 코드를 짜야하나??\n",
    "        # 한 번 코드 수정을 해보자\n",
    "        for point in point_list:\n",
    "            cv2.circle(dest_img, point, 15, COLOR, cv2.FILLED)\n",
    "            if prev_point:\n",
    "                cv2. line(dest_img, prev_point, point, COLOR, THICK, cv2.LINE_AA)\n",
    "            prev_point = point\n",
    "            \n",
    "        next_point = (x, y)\n",
    "        if len(point_list) == 4:\n",
    "            show_result()\n",
    "            next_point = point_list[0]\n",
    "\n",
    "        cv2.line(dest_img, prev_point, next_point, COLOR, THICK, cv2.LINE_AA)\n",
    "        \n",
    "    cv2.imshow('img', dest_img)\n",
    "\n",
    "\n",
    "def show_result():\n",
    "    width, height = 530, 710\n",
    "    src = np.float32(point_list)\n",
    "    dest = np.array([[0, 0],\n",
    "                     [width, 0],\n",
    "                     [width, height],\n",
    "                     [0, height]], dtype = np.float32)\n",
    "    \n",
    "    matrix = cv2.getPerspectiveTransform(src, dest)\n",
    "    result = cv2.warpPerspective(src_img, matrix, (width, height))\n",
    "    \n",
    "    cv2.imshow('result', result)\n",
    "\n",
    "\n",
    "cv2.namedWindow('img')\n",
    "cv2.setMouseCallback('img', mouse_handler)\n",
    "cv2.imshow('img', src_img)\n",
    "cv2.waitKey()\n",
    "cv2.destroyAllWindows()"
   ]
  }
 ],
 "metadata": {
  "kernelspec": {
   "display_name": "Python 3",
   "language": "python",
   "name": "python3"
  },
  "language_info": {
   "codemirror_mode": {
    "name": "ipython",
    "version": 3
   },
   "file_extension": ".py",
   "mimetype": "text/x-python",
   "name": "python",
   "nbconvert_exporter": "python",
   "pygments_lexer": "ipython3",
   "version": "3.8.10"
  }
 },
 "nbformat": 4,
 "nbformat_minor": 5
}
