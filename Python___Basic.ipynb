{
 "cells": [
  {
   "cell_type": "markdown",
   "id": "1b03ad32",
   "metadata": {},
   "source": [
    "### 세미콜론을 통한 주석 - 2023.08.23\n",
    "\n",
    "(변수명) : (자료형) = 값\n",
    "\n",
    "*** 단 주석의 기능만 하는 것으로 코딩상 제약은 없다."
   ]
  },
  {
   "cell_type": "code",
   "execution_count": 5,
   "id": "c2993905",
   "metadata": {},
   "outputs": [],
   "source": [
    "name: str = '김동훈'\n",
    "age: int = 30\n",
    "num_list: list[int] = [i for i in range(10)]"
   ]
  },
  {
   "cell_type": "code",
   "execution_count": 8,
   "id": "057839d1",
   "metadata": {},
   "outputs": [
    {
     "name": "stdout",
     "output_type": "stream",
     "text": [
      "<class 'int'> <class 'int'> <class 'int'>\n"
     ]
    }
   ],
   "source": [
    "# 함수에도 사용 가능\n",
    "def exam(a:int, b:int) -> int:\n",
    "    return a+b\n",
    "    \n",
    "a = 1\n",
    "b = 3\n",
    "result = exam(a, b)\n",
    "print(type(a), type(b), type(result))"
   ]
  },
  {
   "cell_type": "markdown",
   "id": "fc23b9f2",
   "metadata": {},
   "source": [
    "함수에 입력되는 인자에도 주석을 통해 어떤 데이터 타입이 입력되야 하는지 명시할 수 있으며,\n",
    "\n",
    "'->' 화살표를 통해 출력되는 결과 값의 데이터 타입도 명시해줄 수 있다."
   ]
  },
  {
   "cell_type": "markdown",
   "id": "685efab2",
   "metadata": {},
   "source": [
    "### 변수에 함수 할당 - 2023.08.23"
   ]
  },
  {
   "cell_type": "code",
   "execution_count": 28,
   "id": "cade3307",
   "metadata": {},
   "outputs": [
    {
     "name": "stdout",
     "output_type": "stream",
     "text": [
      "<function plus at 0x000002C90A0D80D0> <function plus at 0x000002C90A0D80D0>\n"
     ]
    }
   ],
   "source": [
    "def plus(a, b):\n",
    "    return a+b\n",
    "\n",
    "test1 = plus\n",
    "# test2 = plus(a, b)\n",
    "# test3 = plus(c, d)\n",
    "print(plus, test1) # test 변수는 plus 함수와 동일하다."
   ]
  },
  {
   "cell_type": "code",
   "execution_count": 33,
   "id": "e062fc3f",
   "metadata": {},
   "outputs": [
    {
     "name": "stdout",
     "output_type": "stream",
     "text": [
      "8 8\n"
     ]
    }
   ],
   "source": [
    "a = 3\n",
    "b = 5\n",
    "\n",
    "plus_result = plus(a, b)\n",
    "test_result = test1(a, b)\n",
    "\n",
    "print(plus_result, test_result)"
   ]
  },
  {
   "cell_type": "markdown",
   "id": "44d007e5",
   "metadata": {},
   "source": [
    "### __call__ 함수 - 2023.08.28"
   ]
  },
  {
   "cell_type": "code",
   "execution_count": 1,
   "id": "020a7eed",
   "metadata": {},
   "outputs": [],
   "source": [
    "class A:\n",
    "    def __init__(self):\n",
    "        print('init')\n",
    "        \n",
    "    def __call__(self):\n",
    "        print('call')\n",
    "        \n",
    "    def func(self):\n",
    "        print('func')"
   ]
  },
  {
   "cell_type": "code",
   "execution_count": 3,
   "id": "8a61721d",
   "metadata": {},
   "outputs": [
    {
     "name": "stdout",
     "output_type": "stream",
     "text": [
      "init\n"
     ]
    }
   ],
   "source": [
    "a = A()"
   ]
  },
  {
   "cell_type": "code",
   "execution_count": 5,
   "id": "c5291840",
   "metadata": {},
   "outputs": [
    {
     "name": "stdout",
     "output_type": "stream",
     "text": [
      "call\n"
     ]
    }
   ],
   "source": [
    "a() # 인스턴스를 함수처럼 사용 - 인스턴스가 호출 됐을 때 실행되는 함수"
   ]
  },
  {
   "cell_type": "code",
   "execution_count": 8,
   "id": "cfc15424",
   "metadata": {},
   "outputs": [
    {
     "name": "stdout",
     "output_type": "stream",
     "text": [
      "func\n"
     ]
    }
   ],
   "source": [
    "a.func()"
   ]
  },
  {
   "cell_type": "code",
   "execution_count": 9,
   "id": "b1ab9fc5",
   "metadata": {},
   "outputs": [],
   "source": [
    "class B:\n",
    "    def __init__(self):\n",
    "        print('init')\n",
    "        \n",
    "    def __call__(self, input_num):\n",
    "        print(f'call - {input_num}')"
   ]
  },
  {
   "cell_type": "code",
   "execution_count": 10,
   "id": "1472f9b9",
   "metadata": {},
   "outputs": [
    {
     "name": "stdout",
     "output_type": "stream",
     "text": [
      "init\n"
     ]
    }
   ],
   "source": [
    "b = B()"
   ]
  },
  {
   "cell_type": "code",
   "execution_count": 12,
   "id": "a4070a2b",
   "metadata": {},
   "outputs": [
    {
     "name": "stdout",
     "output_type": "stream",
     "text": [
      "call - 10\n"
     ]
    }
   ],
   "source": [
    "b(10)"
   ]
  },
  {
   "cell_type": "markdown",
   "id": "168538ed",
   "metadata": {},
   "source": [
    "### 문자열 조작 (maketrans, translate) - 2023.09.15\n",
    "\n",
    "maketrans 메서드를 통해 각 문자에 대한 매핑 테이블 생성 후,\n",
    "\n",
    "translate 메서드를 통해 매핑 테이블 값을 통해 원하는 문자열에 대해서 문자 변환을 적용\n",
    "\n",
    "*** replace와의 차이점 이해하기"
   ]
  },
  {
   "cell_type": "code",
   "execution_count": 4,
   "id": "841a0636",
   "metadata": {
    "scrolled": true
   },
   "outputs": [
    {
     "data": {
      "text/plain": [
       "'123451111144444'"
      ]
     },
     "execution_count": 4,
     "metadata": {},
     "output_type": "execute_result"
    }
   ],
   "source": [
    "table = 'a'.maketrans('abcde', '12345')\n",
    "'abcdeaaaaaddddd'.translate(table)"
   ]
  },
  {
   "cell_type": "markdown",
   "id": "bf44033d",
   "metadata": {},
   "source": [
    "### 파일 입력받기 - 2023.09.15\n",
    "\n",
    "알고리즘 문제를 풀다보면 정해진 횟수만큼 입력이 주어지는 것이 아니라, 입력의 종료를 통해 입력 횟수를 설정하는 문제가 있다. 이 경우 입력의 종료를 파일이 끝나는 시점으로 설정해야 하는데, 이를 처리하기 위한 방법을 정리"
   ]
  },
  {
   "cell_type": "code",
   "execution_count": 5,
   "id": "71612038",
   "metadata": {},
   "outputs": [],
   "source": [
    "# sys 패키지를 통한 처리\n",
    "import sys\n",
    "\n",
    "line = sys.stdin.readlines()\n",
    "\n",
    "# sys.stdin.readlines()는 파일의 끝 부분까지 파일을 읽어오는 것이므로,\n",
    "# 해당 함수를 사용하면 간단하게 파일을 끝까지 입력 받을 수 있다."
   ]
  },
  {
   "cell_type": "code",
   "execution_count": 7,
   "id": "9b969696",
   "metadata": {},
   "outputs": [],
   "source": [
    "# EOFError 예외 처리\n",
    "while True:\n",
    "    try:\n",
    "        input_num = int(input())\n",
    "    except EOFError: #End of File Error\n",
    "        break\n",
    "        \n",
    "# 파일의 종료시에 발생하는 에러를 try문을 통해 처리하는 방식"
   ]
  }
 ],
 "metadata": {
  "kernelspec": {
   "display_name": "Python 3 (ipykernel)",
   "language": "python",
   "name": "python3"
  },
  "language_info": {
   "codemirror_mode": {
    "name": "ipython",
    "version": 3
   },
   "file_extension": ".py",
   "mimetype": "text/x-python",
   "name": "python",
   "nbconvert_exporter": "python",
   "pygments_lexer": "ipython3",
   "version": "3.9.15"
  }
 },
 "nbformat": 4,
 "nbformat_minor": 5
}
