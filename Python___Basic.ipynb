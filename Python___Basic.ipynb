{
 "cells": [
  {
   "cell_type": "markdown",
   "id": "1b03ad32",
   "metadata": {},
   "source": [
    "### 세미콜론을 통한 주석 - 2023.08.23\n",
    "\n",
    "(변수명) : (자료형) = 값\n",
    "\n",
    "*** 단 주석의 기능만 하는 것으로 코딩상 제약은 없다."
   ]
  },
  {
   "cell_type": "code",
   "execution_count": 5,
   "id": "c2993905",
   "metadata": {},
   "outputs": [],
   "source": [
    "name: str = '김동훈'\n",
    "age: int = 30\n",
    "num_list: list[int] = [i for i in range(10)]"
   ]
  },
  {
   "cell_type": "code",
   "execution_count": 8,
   "id": "057839d1",
   "metadata": {},
   "outputs": [
    {
     "name": "stdout",
     "output_type": "stream",
     "text": [
      "<class 'int'> <class 'int'> <class 'int'>\n"
     ]
    }
   ],
   "source": [
    "# 함수에도 사용 가능\n",
    "def exam(a:int, b:int) -> int:\n",
    "    return a+b\n",
    "    \n",
    "a = 1\n",
    "b = 3\n",
    "result = exam(a, b)\n",
    "print(type(a), type(b), type(result))"
   ]
  },
  {
   "cell_type": "markdown",
   "id": "fc23b9f2",
   "metadata": {},
   "source": [
    "함수에 입력되는 인자에도 주석을 통해 어떤 데이터 타입이 입력되야 하는지 명시할 수 있으며,\n",
    "\n",
    "'->' 화살표를 통해 출력되는 결과 값의 데이터 타입도 명시해줄 수 있다."
   ]
  },
  {
   "cell_type": "markdown",
   "id": "685efab2",
   "metadata": {},
   "source": [
    "### 변수에 함수 할당 - 2023.08.23"
   ]
  },
  {
   "cell_type": "code",
   "execution_count": 28,
   "id": "cade3307",
   "metadata": {},
   "outputs": [
    {
     "name": "stdout",
     "output_type": "stream",
     "text": [
      "<function plus at 0x000002C90A0D80D0> <function plus at 0x000002C90A0D80D0>\n"
     ]
    }
   ],
   "source": [
    "def plus(a, b):\n",
    "    return a+b\n",
    "\n",
    "test1 = plus\n",
    "# test2 = plus(a, b)\n",
    "# test3 = plus(c, d)\n",
    "print(plus, test1) # test 변수는 plus 함수와 동일하다."
   ]
  },
  {
   "cell_type": "code",
   "execution_count": 33,
   "id": "e062fc3f",
   "metadata": {},
   "outputs": [
    {
     "name": "stdout",
     "output_type": "stream",
     "text": [
      "8 8\n"
     ]
    }
   ],
   "source": [
    "a = 3\n",
    "b = 5\n",
    "\n",
    "plus_result = plus(a, b)\n",
    "test_result = test1(a, b)\n",
    "\n",
    "print(plus_result, test_result)"
   ]
  },
  {
   "cell_type": "markdown",
   "id": "44d007e5",
   "metadata": {},
   "source": [
    "### __call__ 함수 - 2023.08.28"
   ]
  },
  {
   "cell_type": "code",
   "execution_count": 1,
   "id": "020a7eed",
   "metadata": {},
   "outputs": [],
   "source": [
    "class A:\n",
    "    def __init__(self):\n",
    "        print('init')\n",
    "        \n",
    "    def __call__(self):\n",
    "        print('call')\n",
    "        \n",
    "    def func(self):\n",
    "        print('func')"
   ]
  },
  {
   "cell_type": "code",
   "execution_count": 3,
   "id": "8a61721d",
   "metadata": {},
   "outputs": [
    {
     "name": "stdout",
     "output_type": "stream",
     "text": [
      "init\n"
     ]
    }
   ],
   "source": [
    "a = A()"
   ]
  },
  {
   "cell_type": "code",
   "execution_count": 5,
   "id": "c5291840",
   "metadata": {},
   "outputs": [
    {
     "name": "stdout",
     "output_type": "stream",
     "text": [
      "call\n"
     ]
    }
   ],
   "source": [
    "a() # 인스턴스를 함수처럼 사용 - 인스턴스가 호출 됐을 때 실행되는 함수"
   ]
  },
  {
   "cell_type": "code",
   "execution_count": 8,
   "id": "cfc15424",
   "metadata": {},
   "outputs": [
    {
     "name": "stdout",
     "output_type": "stream",
     "text": [
      "func\n"
     ]
    }
   ],
   "source": [
    "a.func()"
   ]
  },
  {
   "cell_type": "code",
   "execution_count": 9,
   "id": "b1ab9fc5",
   "metadata": {},
   "outputs": [],
   "source": [
    "class B:\n",
    "    def __init__(self):\n",
    "        print('init')\n",
    "        \n",
    "    def __call__(self, input_num):\n",
    "        print(f'call - {input_num}')"
   ]
  },
  {
   "cell_type": "code",
   "execution_count": 10,
   "id": "1472f9b9",
   "metadata": {},
   "outputs": [
    {
     "name": "stdout",
     "output_type": "stream",
     "text": [
      "init\n"
     ]
    }
   ],
   "source": [
    "b = B()"
   ]
  },
  {
   "cell_type": "code",
   "execution_count": 12,
   "id": "a4070a2b",
   "metadata": {},
   "outputs": [
    {
     "name": "stdout",
     "output_type": "stream",
     "text": [
      "call - 10\n"
     ]
    }
   ],
   "source": [
    "b(10)"
   ]
  },
  {
   "cell_type": "markdown",
   "id": "168538ed",
   "metadata": {},
   "source": [
    "### 문자열 조작 (maketrans, translate) - 2023.09.15\n",
    "\n",
    "maketrans 메서드를 통해 각 문자에 대한 매핑 테이블 생성 후,\n",
    "\n",
    "translate 메서드를 통해 매핑 테이블 값을 통해 원하는 문자열에 대해서 문자 변환을 적용\n",
    "\n",
    "*** replace와의 차이점 이해하기"
   ]
  },
  {
   "cell_type": "code",
   "execution_count": 4,
   "id": "841a0636",
   "metadata": {
    "scrolled": true
   },
   "outputs": [
    {
     "data": {
      "text/plain": [
       "'123451111144444'"
      ]
     },
     "execution_count": 4,
     "metadata": {},
     "output_type": "execute_result"
    }
   ],
   "source": [
    "table = 'a'.maketrans('abcde', '12345')\n",
    "'abcdeaaaaaddddd'.translate(table)"
   ]
  },
  {
   "cell_type": "markdown",
   "id": "bf44033d",
   "metadata": {},
   "source": [
    "### 파일 입력받기 - 2023.09.15\n",
    "\n",
    "알고리즘 문제를 풀다보면 정해진 횟수만큼 입력이 주어지는 것이 아니라, 입력의 종료를 통해 입력 횟수를 설정하는 문제가 있다. 이 경우 입력의 종료를 파일이 끝나는 시점으로 설정해야 하는데, 이를 처리하기 위한 방법을 정리"
   ]
  },
  {
   "cell_type": "code",
   "execution_count": 5,
   "id": "71612038",
   "metadata": {},
   "outputs": [],
   "source": [
    "# sys 패키지를 통한 처리\n",
    "import sys\n",
    "\n",
    "line = sys.stdin.readlines()\n",
    "\n",
    "# sys.stdin.readlines()는 파일의 끝 부분까지 파일을 읽어오는 것이므로,\n",
    "# 해당 함수를 사용하면 간단하게 파일을 끝까지 입력 받을 수 있다."
   ]
  },
  {
   "cell_type": "code",
   "execution_count": 7,
   "id": "9b969696",
   "metadata": {},
   "outputs": [],
   "source": [
    "# EOFError 예외 처리\n",
    "while True:\n",
    "    try:\n",
    "        input_num = int(input())\n",
    "    except EOFError: #End of File Error\n",
    "        break\n",
    "        \n",
    "# 파일의 종료시에 발생하는 에러를 try문을 통해 처리하는 방식"
   ]
  },
  {
   "cell_type": "markdown",
   "id": "67aabc1c",
   "metadata": {},
   "source": [
    "### 클래스 객체의 리턴 - 2023.11.15\n",
    "\n",
    "클래스를 이용하여 코딩을 하는 경우, 인스턴스에 다양한 변수들이 생성되고, 각 변수들은 작업에 따라서 계속 변화한다.\n",
    "이 때 변수에 대한 작업이 이루어진 후, 인스턴스 자체를 리턴해버리면, method cascading 이 가능해진다.\n",
    "\n",
    "대표적인 예시 코드 제시"
   ]
  },
  {
   "cell_type": "code",
   "execution_count": 2,
   "id": "226bff67",
   "metadata": {},
   "outputs": [],
   "source": [
    "# 메소드에서 self 를 리턴\n",
    "class Counter:\n",
    "    def __init__(self, start = 1):\n",
    "        self.val = start\n",
    "        \n",
    "    def increase(self):\n",
    "        self.val += 1\n",
    "        \n",
    "        return self\n",
    "    \n",
    "    def decrease(self):\n",
    "        self.val -= 1\n",
    "        \n",
    "        return self\n",
    "    \n",
    "# 메소드에서 None 값을 리턴\n",
    "class Counter_:\n",
    "    def __init__(self, start = 1):\n",
    "        self.val = start\n",
    "        \n",
    "    def increase(self):\n",
    "        self.val += 1\n",
    "        \n",
    "        return\n",
    "    \n",
    "    def decrease(self):\n",
    "        self.val -= 1\n",
    "        \n",
    "        return"
   ]
  },
  {
   "cell_type": "code",
   "execution_count": 4,
   "id": "be7649cd",
   "metadata": {},
   "outputs": [
    {
     "name": "stdout",
     "output_type": "stream",
     "text": [
      "1\n",
      "2\n",
      "1\n",
      "1\n",
      "2\n",
      "1\n"
     ]
    }
   ],
   "source": [
    "# 단일 작업 시에는 차이 없음\n",
    "counter = Counter()\n",
    "print(counter.val)\n",
    "\n",
    "counter.increase()\n",
    "print(counter.val)\n",
    "\n",
    "counter.decrease()\n",
    "print(counter.val)\n",
    "\n",
    "\n",
    "counter_ = Counter_()\n",
    "print(counter.val)\n",
    "\n",
    "counter.increase()\n",
    "print(counter.val)\n",
    "\n",
    "counter.decrease()\n",
    "print(counter.val)"
   ]
  },
  {
   "cell_type": "code",
   "execution_count": 5,
   "id": "6a6249fd",
   "metadata": {},
   "outputs": [
    {
     "name": "stdout",
     "output_type": "stream",
     "text": [
      "3\n"
     ]
    },
    {
     "ename": "NameError",
     "evalue": "name 'coutner_' is not defined",
     "output_type": "error",
     "traceback": [
      "\u001b[1;31m---------------------------------------------------------------------------\u001b[0m",
      "\u001b[1;31mNameError\u001b[0m                                 Traceback (most recent call last)",
      "Cell \u001b[1;32mIn[5], line 9\u001b[0m\n\u001b[0;32m      5\u001b[0m \u001b[38;5;28mprint\u001b[39m(counter\u001b[38;5;241m.\u001b[39mval)\n\u001b[0;32m      7\u001b[0m counter_ \u001b[38;5;241m=\u001b[39m Counter_()\n\u001b[1;32m----> 9\u001b[0m \u001b[43mcoutner_\u001b[49m\u001b[38;5;241m.\u001b[39mincrease()\u001b[38;5;241m.\u001b[39mincrease()\u001b[38;5;241m.\u001b[39mdecrease()\u001b[38;5;241m.\u001b[39mincrease()\n\u001b[0;32m     10\u001b[0m \u001b[38;5;28mprint\u001b[39m(counter\u001b[38;5;241m.\u001b[39mval)\n",
      "\u001b[1;31mNameError\u001b[0m: name 'coutner_' is not defined"
     ]
    }
   ],
   "source": [
    "# casecading 작업 시\n",
    "counter = Counter()\n",
    "\n",
    "counter.increase().increase().decrease().increase()\n",
    "print(counter.val)\n",
    "\n",
    "counter_ = Counter_()\n",
    "\n",
    "coutner_.increase().increase().decrease().increase()\n",
    "print(counter.val)"
   ]
  },
  {
   "cell_type": "markdown",
   "id": "8ae4da64",
   "metadata": {},
   "source": [
    "에러가 발생하는 이유는,\n",
    "\n",
    "위 케이스 : (counter.increase()) 까지의 결과가 counter로 리턴되는 것. 즉, 다음 스텝에서는 counter.increase()가 실행되는 것\n",
    "\n",
    "아래 케이스 : (counter.increase()) 까지의 결과가 None으로 리턴되는 것. 즉, 다음 스텝에서는 None.increase()가 실행되므로 에러 발생"
   ]
  },
  {
   "cell_type": "markdown",
   "id": "98db2261",
   "metadata": {},
   "source": [
    "### 클래스 변수와 인스턴스 변수 - 2023.11.15"
   ]
  },
  {
   "cell_type": "code",
   "execution_count": 15,
   "id": "c6111703",
   "metadata": {},
   "outputs": [],
   "source": [
    "class Account:\n",
    "    account_count = 0 # 클래스 변수 - 클래스 네임 스페이스에 위치\n",
    "    '''\n",
    "    인스턴스 간에도 공유가 되어야할 값에 대해서 사용\n",
    "    본 예시에서와 같이,\n",
    "    \n",
    "    각 계좌의 정보는 각각의 인스턴스로 생성되지만, 총 계좌의 카운트는\n",
    "    인스턴스와 상관없이 클래스 변수로 지정하여 관리하는 것이 용이하므로,\n",
    "    클래스 변수로 지정\n",
    "    \n",
    "    * 주의할 점은 변수의 호출 시에, 우선적으로 인스턴스 변수를 먼저 조회한다는 점!\n",
    "    '''\n",
    "    \n",
    "    def __init__(self, name):\n",
    "        self.name = name # 인스턴스 변수 - 인스턴스 네임 스페이스에 위치\n",
    "#         self.account_count = 1000000 # 변수 조회 순서 테스트\n",
    "        \n",
    "        Account.account_count += 1\n",
    "        \n",
    "    def __del__(self):\n",
    "        Account.account_count -= 1"
   ]
  },
  {
   "cell_type": "code",
   "execution_count": 16,
   "id": "6beb125e",
   "metadata": {},
   "outputs": [
    {
     "name": "stdout",
     "output_type": "stream",
     "text": [
      "1000000 kim\n",
      "1000000 lee\n"
     ]
    }
   ],
   "source": [
    "# kim, lee의 인스턴스 생성. 두 개의 계좌가 생겼으니 count 값을 클래스 변수에 저장\n",
    "kim = Account('kim')\n",
    "lee = Account('lee')\n",
    "\n",
    "print(kim.account_count, kim.name)\n",
    "print(lee.account_count, lee.name)"
   ]
  },
  {
   "cell_type": "code",
   "execution_count": 20,
   "id": "83af12c1",
   "metadata": {},
   "outputs": [
    {
     "name": "stdout",
     "output_type": "stream",
     "text": [
      "2\n"
     ]
    }
   ],
   "source": [
    "print(Account.account_count)"
   ]
  },
  {
   "cell_type": "markdown",
   "id": "9aa55e14",
   "metadata": {},
   "source": [
    "### tqdm을 통한 반복문의 진행상황 확인"
   ]
  },
  {
   "cell_type": "code",
   "execution_count": 4,
   "id": "df32f694",
   "metadata": {},
   "outputs": [],
   "source": [
    "from tqdm import tqdm\n",
    "\n",
    "from urllib.request import urlopen\n",
    "\n",
    "import pandas as pd\n",
    "import json"
   ]
  },
  {
   "cell_type": "code",
   "execution_count": 5,
   "id": "9184115a",
   "metadata": {},
   "outputs": [],
   "source": [
    "# def lotto(chasu):\n",
    "#     url = 'http://www.nlotto.co.kr/common.do?method=getLottoNumber&drwNO='+str(chasu)\n",
    "    \n",
    "#     result_data = urlopen(url)\n",
    "#     result = result_data.read()\n",
    "    \n",
    "#     data = json.loads(result)\n",
    "#     data_1 = pd.DataFrame(from_dict(data, orient = 'index'))\n",
    "#     data_1 = data_1.transpose()\n",
    "    \n",
    "#     return data_1"
   ]
  },
  {
   "cell_type": "code",
   "execution_count": 9,
   "id": "6300b94e",
   "metadata": {},
   "outputs": [
    {
     "name": "stderr",
     "output_type": "stream",
     "text": [
      "100%|████████████████████████████████████████████████████████████████████████████| 599/599 [00:00<00:00, 599901.65it/s]"
     ]
    },
    {
     "name": "stdout",
     "output_type": "stream",
     "text": [
      "50\n",
      "100\n",
      "150\n",
      "200\n",
      "250\n",
      "300\n",
      "350\n",
      "400\n",
      "450\n",
      "500\n",
      "550\n"
     ]
    },
    {
     "name": "stderr",
     "output_type": "stream",
     "text": [
      "\n"
     ]
    }
   ],
   "source": [
    "for i in tqdm(range(1, 600)):\n",
    "#     data_1  = lotto(i)\n",
    "#     lotto_db = pd.concat([lotto_db, data_1])\n",
    "    if i % 50 == 0:\n",
    "        print(i)"
   ]
  }
 ],
 "metadata": {
  "kernelspec": {
   "display_name": "Python 3 (ipykernel)",
   "language": "python",
   "name": "python3"
  },
  "language_info": {
   "codemirror_mode": {
    "name": "ipython",
    "version": 3
   },
   "file_extension": ".py",
   "mimetype": "text/x-python",
   "name": "python",
   "nbconvert_exporter": "python",
   "pygments_lexer": "ipython3",
   "version": "3.9.18"
  }
 },
 "nbformat": 4,
 "nbformat_minor": 5
}
