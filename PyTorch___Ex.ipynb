{
 "cells": [
  {
   "cell_type": "code",
   "execution_count": 6,
   "id": "ab43cc59",
   "metadata": {},
   "outputs": [],
   "source": [
    "import numpy as np\n",
    "import pandas as pd\n",
    "\n",
    "from sklearn import datasets\n",
    "\n",
    "import torch\n",
    "import torch.nn as nn\n",
    "import torch.optim as optim"
   ]
  },
  {
   "cell_type": "code",
   "execution_count": 15,
   "id": "308e77a6",
   "metadata": {},
   "outputs": [],
   "source": [
    "# data_set = datasets.load_boston()\n",
    "data_url = \"http://lib.stat.cmu.edu/datasets/boston\"\n",
    "raw_df = pd.read_csv(data_url, sep=\"\\s+\", skiprows=22, header=None)\n",
    "data = np.hstack([raw_df.values[::2, :], raw_df.values[1::2, :2]])\n",
    "target = raw_df.values[1::2, 2]\n",
    "\n",
    "X, y = data, target"
   ]
  },
  {
   "cell_type": "code",
   "execution_count": 56,
   "id": "a7c4e7fc",
   "metadata": {},
   "outputs": [],
   "source": [
    "X = torch.FloatTensor(X)\n",
    "# y = torch.FloatTensor(y).unsqueeze(-1)\n",
    "y = torch.FloatTensor(y).view(-1, 1) # reshape 기능"
   ]
  },
  {
   "cell_type": "code",
   "execution_count": 57,
   "id": "e1581fe8",
   "metadata": {},
   "outputs": [],
   "source": [
    "# standardization - (X - 평균) / 표준편차\n",
    "X = (X - torch.mean(X)) / torch.std(X)"
   ]
  },
  {
   "cell_type": "markdown",
   "id": "9116dbf2",
   "metadata": {},
   "source": [
    "### 선형 회귀"
   ]
  },
  {
   "cell_type": "code",
   "execution_count": 42,
   "id": "5866c792",
   "metadata": {},
   "outputs": [],
   "source": [
    "model = nn.Linear(13, 1) # 선형 회귀 모델\n",
    "\n",
    "criterion = nn.MSELoss()\n",
    "optimizer = optim.SGD(model.parameters(), lr = 0.01)"
   ]
  },
  {
   "cell_type": "code",
   "execution_count": 44,
   "id": "52060b6e",
   "metadata": {},
   "outputs": [],
   "source": [
    "def train(model, criterion, optimizer, X, y):\n",
    "    # 초기화\n",
    "    optimizer.zero_grad()\n",
    "    \n",
    "    hypothesis = model(X) # 가설...?\n",
    "    \n",
    "    loss = criterion(hypothesis, y)\n",
    "    loss.backward()\n",
    "    \n",
    "    optimizer.step()\n",
    "    \n",
    "    return loss.item()"
   ]
  },
  {
   "cell_type": "code",
   "execution_count": 45,
   "id": "2f34bafb",
   "metadata": {},
   "outputs": [
    {
     "name": "stdout",
     "output_type": "stream",
     "text": [
      "epoch: 10, loss: 114.2711\n",
      "epoch: 20, loss: 97.4869\n",
      "epoch: 30, loss: 88.4511\n",
      "epoch: 40, loss: 82.6769\n",
      "epoch: 50, loss: 78.9274\n",
      "epoch: 60, loss: 76.4395\n",
      "epoch: 70, loss: 74.7396\n",
      "epoch: 80, loss: 73.5334\n",
      "epoch: 90, loss: 72.6382\n",
      "epoch: 100, loss: 71.9405\n"
     ]
    }
   ],
   "source": [
    "n_epochs = 100\n",
    "\n",
    "for epoch in range(1, n_epochs+1):\n",
    "    loss = train(model, criterion, optimizer, X, y)\n",
    "    \n",
    "    if epoch % 10 == 0:\n",
    "        print('epoch: {}, loss: {:.4f}'.format(epoch, loss))"
   ]
  },
  {
   "cell_type": "markdown",
   "id": "e6f35ca4",
   "metadata": {},
   "source": [
    "### 로지스틱 회귀"
   ]
  },
  {
   "cell_type": "code",
   "execution_count": 74,
   "id": "1e4ecc9f",
   "metadata": {},
   "outputs": [],
   "source": [
    "data_set = datasets.load_breast_cancer()\n",
    "\n",
    "X, y = data_set['data'], data_set['target']\n",
    "X = torch.FloatTensor(X)\n",
    "y = torch.FloatTensor(y).view(-1, 1)\n",
    "\n",
    "X = (X - torch.mean(X)) / torch.std(X)"
   ]
  },
  {
   "cell_type": "code",
   "execution_count": 81,
   "id": "f2568f7a",
   "metadata": {},
   "outputs": [],
   "source": [
    "model = nn.Sequential(nn.Linear(30, 1),\n",
    "                      nn.Sigmoid())\n",
    "\n",
    "criterion = nn.BCELoss() # binary cross entropy\n",
    "optimizer = optim.SGD(model.parameters(), lr = 0.1)"
   ]
  },
  {
   "cell_type": "code",
   "execution_count": 82,
   "id": "910af574",
   "metadata": {},
   "outputs": [],
   "source": [
    "def train(model, criterion, optimizer, X, y):\n",
    "    optimizer.zero_grad()\n",
    "    \n",
    "    hypothesis = model(X)\n",
    "    \n",
    "    loss = criterion(hypothesis, y)\n",
    "    loss.backward()\n",
    "    \n",
    "    optimizer.step()\n",
    "    \n",
    "    return loss.item()"
   ]
  },
  {
   "cell_type": "code",
   "execution_count": 83,
   "id": "8cc310c0",
   "metadata": {},
   "outputs": [
    {
     "name": "stdout",
     "output_type": "stream",
     "text": [
      "epoch: 10, loss: 0.5725\n",
      "epoch: 20, loss: 0.5093\n",
      "epoch: 30, loss: 0.4635\n",
      "epoch: 40, loss: 0.4289\n",
      "epoch: 50, loss: 0.4019\n",
      "epoch: 60, loss: 0.3804\n",
      "epoch: 70, loss: 0.3627\n",
      "epoch: 80, loss: 0.3481\n",
      "epoch: 90, loss: 0.3357\n",
      "epoch: 100, loss: 0.3250\n"
     ]
    }
   ],
   "source": [
    "n_epochs = 100\n",
    "\n",
    "for epoch in range(1, n_epochs+1):\n",
    "    loss = train(model, criterion, optimizer, X, y)\n",
    "    \n",
    "    if epoch % 10 == 0:\n",
    "        print('epoch: {}, loss: {:.4f}'.format(epoch, loss))"
   ]
  },
  {
   "cell_type": "code",
   "execution_count": 84,
   "id": "9c370d9e",
   "metadata": {},
   "outputs": [
    {
     "name": "stdout",
     "output_type": "stream",
     "text": [
      "accuracy: 0.91\n"
     ]
    }
   ],
   "source": [
    "y_predicted = (model(X) >= 0.5).float()\n",
    "\n",
    "score = (y_predicted == y).float().mean()\n",
    "print('accuracy: {:.2f}'.format(score))"
   ]
  },
  {
   "cell_type": "markdown",
   "id": "bd6d793b",
   "metadata": {},
   "source": [
    "### 클래스를 이용한 모델 정의"
   ]
  },
  {
   "cell_type": "code",
   "execution_count": null,
   "id": "36f0e590",
   "metadata": {},
   "outputs": [],
   "source": [
    "class LinearRegression(nn.Module):\n",
    "    def __init__(self, num_features):\n",
    "        super().__init__()\n",
    "        self.linear = nn.Linear(num_features, 1)\n",
    "        \n",
    "    def forward(self, X):\n",
    "        out = self.linear()\n",
    "        \n",
    "        return out\n",
    "    \n",
    "model = LinearRegression(13)"
   ]
  }
 ],
 "metadata": {
  "kernelspec": {
   "display_name": "Python 3 (ipykernel)",
   "language": "python",
   "name": "python3"
  },
  "language_info": {
   "codemirror_mode": {
    "name": "ipython",
    "version": 3
   },
   "file_extension": ".py",
   "mimetype": "text/x-python",
   "name": "python",
   "nbconvert_exporter": "python",
   "pygments_lexer": "ipython3",
   "version": "3.9.15"
  }
 },
 "nbformat": 4,
 "nbformat_minor": 5
}
