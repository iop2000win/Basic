{
 "cells": [
  {
   "cell_type": "markdown",
   "id": "d42d4c4a",
   "metadata": {},
   "source": [
    "# 1. 이미지 출력"
   ]
  },
  {
   "cell_type": "code",
   "execution_count": 1,
   "id": "be743044",
   "metadata": {},
   "outputs": [
    {
     "data": {
      "text/plain": [
       "'4.5.5'"
      ]
     },
     "execution_count": 1,
     "metadata": {},
     "output_type": "execute_result"
    }
   ],
   "source": [
    "import cv2\n",
    "cv2.__version__"
   ]
  },
  {
   "cell_type": "code",
   "execution_count": 4,
   "id": "1972fcea",
   "metadata": {},
   "outputs": [],
   "source": [
    "img_path = './Data/cat_img.jpg'"
   ]
  },
  {
   "cell_type": "code",
   "execution_count": 2,
   "id": "5cebefc8",
   "metadata": {
    "scrolled": true
   },
   "outputs": [],
   "source": [
    "img = cv2.imread(img_path)\n",
    "cv2.imshow('img', img)\n",
    "cv2.waitKey(5000)\n",
    "cv2.destroyAllWindows()"
   ]
  },
  {
   "cell_type": "markdown",
   "id": "5470fc71",
   "metadata": {},
   "source": [
    "### 읽기 옵션\n",
    "\n",
    "1. cv2.IMREAD_COLOR : 컬러 이미지. 투명 영역은 무시\n",
    "2. cv2.IMREAD_GRAYSCALE : 흑백 이미지\n",
    "3. cv2.IMREAD_UNCHANGED : 투명 영역까지 포함"
   ]
  },
  {
   "cell_type": "code",
   "execution_count": 3,
   "id": "34ef3b9e",
   "metadata": {},
   "outputs": [],
   "source": [
    "import cv2\n",
    "img_color = cv2.imread(img_path, cv2.IMREAD_COLOR)\n",
    "img_gray = cv2.imread(img_path, cv2.IMREAD_GRAYSCALE)\n",
    "img_unchanged = cv2.imread(img_path, cv2.IMREAD_UNCHANGED)\n",
    "\n",
    "cv2.imshow('img_color', img_color)\n",
    "cv2.imshow('img_gray', img_gray)\n",
    "cv2.imshow('img_unchanged', img_unchanged)\n",
    "\n",
    "cv2.waitKey(0)\n",
    "cv2.destroyAllWindows()"
   ]
  },
  {
   "cell_type": "markdown",
   "id": "fcdd8b53",
   "metadata": {},
   "source": [
    "### Shape\n",
    "\n",
    "이미지의 height, width, channel 정보"
   ]
  },
  {
   "cell_type": "code",
   "execution_count": 6,
   "id": "f657c7dd",
   "metadata": {},
   "outputs": [
    {
     "name": "stdout",
     "output_type": "stream",
     "text": [
      "(390, 640, 3)\n"
     ]
    }
   ],
   "source": [
    "import cv2\n",
    "\n",
    "img = cv2.imread(img_path)\n",
    "print(img.shape) # 세로, 가로, Channel"
   ]
  },
  {
   "cell_type": "markdown",
   "id": "ed3de2cc",
   "metadata": {},
   "source": [
    "# 2. 동영상 출력"
   ]
  },
  {
   "cell_type": "markdown",
   "id": "25817d6d",
   "metadata": {},
   "source": [
    "### 동영상 파일 출력"
   ]
  },
  {
   "cell_type": "code",
   "execution_count": 13,
   "id": "b4f48d08",
   "metadata": {},
   "outputs": [],
   "source": [
    "import cv2\n",
    "\n",
    "video_path = './Data/cat_video.mp4'"
   ]
  },
  {
   "cell_type": "code",
   "execution_count": 15,
   "id": "53a59b71",
   "metadata": {},
   "outputs": [
    {
     "name": "stdout",
     "output_type": "stream",
     "text": [
      "더 이상 가져올 프레임이 없다.\n"
     ]
    }
   ],
   "source": [
    "cap = cv2.VideoCapture(video_path)\n",
    "\n",
    "# 반복적으로 프레임을 가져오는 작업 >>> 반복문 사용\n",
    "while cap.isOpened(): # 동영상 파일이 올바로 열렸는지 확인\n",
    "    ret, frame = cap.read() # ret: 성공 여부, frame: 받아온 이미지 프레임\n",
    "    if not ret:\n",
    "        print('더 이상 가져올 프레임이 없다.')\n",
    "        break\n",
    "        \n",
    "    cv2.imshow('video_frame', frame)\n",
    "    \n",
    "    if cv2.waitKey(1) == ord('q'): # waitKey 의 입력값을 통해서 영상 재생 속도 조절 가능\n",
    "        print('사용자 입력에 의해 종료합니다.')\n",
    "        break\n",
    "        \n",
    "cap.release() # 자원 해제\n",
    "cv2.destroyAllWindows() # 모든 창 닫기"
   ]
  },
  {
   "cell_type": "markdown",
   "id": "8a9f741f",
   "metadata": {},
   "source": [
    "# 3. 카메라 출력"
   ]
  },
  {
   "cell_type": "code",
   "execution_count": 16,
   "id": "dda423e2",
   "metadata": {},
   "outputs": [],
   "source": [
    "import cv2"
   ]
  },
  {
   "cell_type": "code",
   "execution_count": 17,
   "id": "04055e57",
   "metadata": {},
   "outputs": [],
   "source": [
    "cap = cv2.VideoCapture(0) # 0번째 카메라 장치 (Device ID)\n",
    "\n",
    "if not cap.isOpened(): # 카메라가 잘 열리지 않은 경우\n",
    "    exit() # 프로그램 종료\n",
    "\n",
    "while True:\n",
    "    ret, frame = cap.read()\n",
    "    if not ret:\n",
    "        break\n",
    "        \n",
    "    cv2.imshow('camera', frame)\n",
    "    if cv2.waitKey(1) == ord('q'): # 사용자가 q를 입력하면 종료\n",
    "        break\n",
    "        \n",
    "cap.release()\n",
    "cv2.destroyAllWindows()"
   ]
  },
  {
   "cell_type": "markdown",
   "id": "64677c2d",
   "metadata": {},
   "source": [
    "# 4. 도형 그리기"
   ]
  },
  {
   "cell_type": "markdown",
   "id": "683eaf81",
   "metadata": {},
   "source": [
    "### 빈 스케치북 만들기"
   ]
  },
  {
   "cell_type": "code",
   "execution_count": 1,
   "id": "9d50bb45",
   "metadata": {},
   "outputs": [],
   "source": [
    "import cv2\n",
    "import numpy as np"
   ]
  },
  {
   "cell_type": "code",
   "execution_count": 3,
   "id": "8147c3a7",
   "metadata": {},
   "outputs": [],
   "source": [
    "# 세로 480 X 가로 640 X Channel 3 에 해당하는 스케치북 만들기\n",
    "img = np.zeros((480, 640, 3), dtype = np.uint8)\n",
    "# img[:] = (255, 255, 255) # 전체 공간을 255로 변경 (B, G, R) 순\n",
    "# print(img)\n",
    "\n",
    "cv2.imshow('img', img)\n",
    "cv2.waitKey(0)\n",
    "cv2.destroyAllWindows()"
   ]
  },
  {
   "cell_type": "markdown",
   "id": "92a64663",
   "metadata": {},
   "source": [
    "### 일부 영역 색칠"
   ]
  },
  {
   "cell_type": "code",
   "execution_count": 4,
   "id": "93499c12",
   "metadata": {},
   "outputs": [],
   "source": [
    "import cv2\n",
    "import numpy as np"
   ]
  },
  {
   "cell_type": "code",
   "execution_count": 6,
   "id": "058cb3b1",
   "metadata": {},
   "outputs": [],
   "source": [
    "img = np.zeros((480, 640, 3), dtype = np.uint8)\n",
    "img[100:200, 200:300,:] = (255, 255, 255) # 범위를 지정하여 vector값 변경\n",
    "\n",
    "cv2.imshow('img', img)\n",
    "cv2.waitKey(0)\n",
    "cv2.destroyAllWindows()"
   ]
  },
  {
   "cell_type": "markdown",
   "id": "c829c024",
   "metadata": {},
   "source": [
    "### 직선\n",
    "\n",
    "- 직선의 종류 (line type)\n",
    "1. cv2.LINE_4: 상하좌우 4방향으로 연결된 선\n",
    "2. cv2.LINE_8: 대각선을 포함한 8방향으로 연결된 선\n",
    "3. cv2.LINE_AA: 부드러운 선"
   ]
  },
  {
   "cell_type": "code",
   "execution_count": 8,
   "id": "4fbc834b",
   "metadata": {},
   "outputs": [],
   "source": [
    "import cv2\n",
    "import numpy as np\n",
    "\n",
    "img = np.zeros((480, 640, 3), dtype = np.uint8)\n",
    "\n",
    "COLOR = (0, 255, 255)\n",
    "THICK = 3\n",
    "\n",
    "cv2.line(img, (50, 100), (400, 50), COLOR, THICK, cv2.LINE_8)\n",
    "# 그릴 위치, 시작점, 끝점, 색깔, 두께, 선 종류\n",
    "cv2.line(img, (50, 200), (400, 150), COLOR, THICK, cv2.LINE_4)\n",
    "cv2.line(img, (50, 300), (400, 250), COLOR, THICK, cv2.LINE_AA)\n",
    "\n",
    "cv2.imshow('img', img)\n",
    "cv2.waitKey(0)\n",
    "cv2.destroyAllWindows()"
   ]
  },
  {
   "cell_type": "markdown",
   "id": "89d35ca1",
   "metadata": {},
   "source": [
    "### 원 / 사각형"
   ]
  },
  {
   "cell_type": "code",
   "execution_count": 9,
   "id": "c21f1a31",
   "metadata": {},
   "outputs": [],
   "source": [
    "import cv2\n",
    "import numpy as np\n",
    "\n",
    "img = np.zeros((480, 640, 3), dtype = np.uint8)\n",
    "\n",
    "COLOR = (255, 255, 0)\n",
    "RADIUS = 50 # 반지름\n",
    "THICK = 10\n",
    "\n",
    "cv2.circle(img, (200, 100), RADIUS, COLOR, THICK, cv2.LINE_AA) # 속이 빈 원\n",
    "cv2.circle(img, (200, 300), RADIUS, COLOR, cv2.FILLED, cv2.LINE_AA) # 속이 찬 원\n",
    "\n",
    "cv2.rectangle(img, (400, 50), (500, 150), (0, 255, 0), THICK, cv2.LINE_4)\n",
    "cv2.rectangle(img, (400, 250), (500, 350), (0, 255, 0), cv2.FILLED)\n",
    "\n",
    "cv2.imshow('img', img)\n",
    "cv2.waitKey(0)\n",
    "cv2.destroyAllWindows()"
   ]
  },
  {
   "cell_type": "markdown",
   "id": "2d419a86",
   "metadata": {},
   "source": [
    "### 다각형"
   ]
  },
  {
   "cell_type": "code",
   "execution_count": 18,
   "id": "c9baa936",
   "metadata": {},
   "outputs": [],
   "source": [
    "import cv2\n",
    "import numpy as np\n",
    "\n",
    "img = np.zeros((480, 640, 3), dtype = np.uint8)\n",
    "\n",
    "COLOR = (0, 0, 255)\n",
    "THICK = 3\n",
    "\n",
    "pts1 = np.array([[100, 100], [200, 100], [100, 200]]) # 3개의 점으로 삼각형 그리기\n",
    "pts2 = np.array([[200, 100], [300, 100], [300, 200]])\n",
    "\n",
    "# cv2.polylines(img, [pts1], isClosed = True, color = COLOR, thickness = THICK, lineType = cv2.LINE_AA)\n",
    "# cv2.polylines(img, [pts2], True, COLOR, THICK, cv2.LINE_AA)\n",
    "cv2.polylines(img, [pts1, pts2], True, COLOR, THICK, cv2.LINE_AA)\n",
    "# list로 좌표값을 입력해주면 한 번에 여러 도형을 그릴 수 있다.\n",
    "\n",
    "# 속이 찬 다각형\n",
    "pts3 = np.array([\n",
    "                 [[100, 300], [200, 300], [100, 200]], \n",
    "                 [[200, 300], [300, 300], [300, 200]]\n",
    "                ])\n",
    "cv2.fillPoly(img, pts3, COLOR, cv2.LINE_AA)\n",
    "\n",
    "cv2.imshow('img', img)\n",
    "cv2.waitKey(0)\n",
    "cv2.destroyAllWindows()"
   ]
  },
  {
   "cell_type": "markdown",
   "id": "2c35f806",
   "metadata": {},
   "source": [
    "# 5. 텍스트"
   ]
  },
  {
   "cell_type": "markdown",
   "id": "b7334230",
   "metadata": {},
   "source": [
    "### OpenCV 에서 사용하는 글꼴 종류\n",
    "\n",
    "1. cv2.FONT_HERSHEY_SIMPLEX: 보통 크기와 산 세리프 글꼴\n",
    "2. cv2.FONT_HERSHEY_PLAIN: 작은 크기의 산 세리프 글꼴\n",
    "3. cv2.FONT_HERSHEY_SCRIPT_SIMPLEX: 필기체 스타일 글꼴\n",
    "4. cv2.FONT_HEYSHEY_TRIPLEX: 보통 크기의 세리프 글꼴\n",
    "5. cv2.FONT_ITALIC:기울임"
   ]
  },
  {
   "cell_type": "code",
   "execution_count": 1,
   "id": "e0f99455",
   "metadata": {},
   "outputs": [],
   "source": [
    "import numpy as np\n",
    "import cv2"
   ]
  },
  {
   "cell_type": "code",
   "execution_count": 9,
   "id": "1d488fb8",
   "metadata": {},
   "outputs": [],
   "source": [
    "img = np.zeros((480, 640, 3), dtype = np.uint8)\n",
    "\n",
    "COLOR = (255, 255, 255)\n",
    "THICK = 2\n",
    "SCALE = 1.5\n",
    "\n",
    "cv2.putText(img,\n",
    "            'Nado Simplex',\n",
    "            (20, 50), #글자 시작 위치 좌표\n",
    "            cv2.FONT_HERSHEY_SIMPLEX,\n",
    "            SCALE, COLOR, THICK\n",
    "           )\n",
    "# 그릴 위치, 텍스트 내용, 시작 위치, 폰트 종류, 크기, 색깔, 두께\n",
    "cv2.putText(img,\n",
    "            'Nado Plain',\n",
    "            (20, 150), #글자 시작 위치 좌표\n",
    "            cv2.FONT_HERSHEY_PLAIN,\n",
    "            SCALE, COLOR, THICK\n",
    "           )\n",
    "cv2.putText(img,\n",
    "            'Nado Script Simplex',\n",
    "            (20, 250), #글자 시작 위치 좌표\n",
    "            cv2.FONT_HERSHEY_SCRIPT_SIMPLEX,\n",
    "            SCALE, COLOR, THICK\n",
    "           )\n",
    "cv2.putText(img,\n",
    "            'Nado Triplex',\n",
    "            (20, 350), #글자 시작 위치 좌표\n",
    "            cv2.FONT_HERSHEY_TRIPLEX,\n",
    "            SCALE, COLOR, THICK\n",
    "           )\n",
    "cv2.putText(img,\n",
    "            'Nado Italic',\n",
    "            (20, 450), #글자 시작 위치 좌표\n",
    "            cv2.FONT_HERSHEY_TRIPLEX | cv2.FONT_ITALIC,\n",
    "            SCALE, COLOR, THICK\n",
    "           )\n",
    "\n",
    "cv2.imshow('img', img)\n",
    "cv2.waitKey(0)\n",
    "cv2.destroyAllWindows()"
   ]
  },
  {
   "cell_type": "markdown",
   "id": "2e1cecf2",
   "metadata": {},
   "source": [
    "### 한글 사용 방법"
   ]
  },
  {
   "cell_type": "code",
   "execution_count": 10,
   "id": "d74ffd1e",
   "metadata": {},
   "outputs": [],
   "source": [
    "import numpy as np\n",
    "import cv2\n",
    "\n",
    "from PIL import ImageFont, ImageDraw, Image # Python Image Library"
   ]
  },
  {
   "cell_type": "code",
   "execution_count": 12,
   "id": "10b4b46e",
   "metadata": {},
   "outputs": [],
   "source": [
    "# PIL 패키지를 이용해서 OpenCV에 한글 적용하기\n",
    "\n",
    "def myPutText(src, text, pos, font_size, font_color):\n",
    "    img_pil = Image.fromarray(src)\n",
    "    draw = ImageDraw.Draw(img_pil)\n",
    "    font = ImageFont.truetype('fonts/gulim.ttc', font_size)\n",
    "    draw.text(pos, text, font = font, fill = font_color)\n",
    "    \n",
    "    return np.array(img_pil)"
   ]
  },
  {
   "cell_type": "code",
   "execution_count": 14,
   "id": "3aff5a67",
   "metadata": {},
   "outputs": [],
   "source": [
    "img = np.zeros((480, 640, 3), dtype = np.uint8)\n",
    "\n",
    "FONT_SIZE = 30\n",
    "COLOR = (255, 255, 255)\n",
    "\n",
    "img = myPutText(img, '나도코딩', (20, 50), FONT_SIZE, COLOR)\n",
    "\n",
    "cv2.imshow('img', img)\n",
    "cv2.waitKey(0)\n",
    "cv2.destroyAllWindows()"
   ]
  }
 ],
 "metadata": {
  "kernelspec": {
   "display_name": "Python 3",
   "language": "python",
   "name": "python3"
  },
  "language_info": {
   "codemirror_mode": {
    "name": "ipython",
    "version": 3
   },
   "file_extension": ".py",
   "mimetype": "text/x-python",
   "name": "python",
   "nbconvert_exporter": "python",
   "pygments_lexer": "ipython3",
   "version": "3.8.10"
  }
 },
 "nbformat": 4,
 "nbformat_minor": 5
}
