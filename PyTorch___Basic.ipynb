{
 "cells": [
  {
   "cell_type": "code",
   "execution_count": 1,
   "id": "8606b845",
   "metadata": {},
   "outputs": [],
   "source": [
    "import torch\n",
    "\n",
    "from torch import nn\n",
    "from torch.utils.data import DataLoader\n",
    "from torchvision import datasets\n",
    "from torchvision.transforms import ToTensor"
   ]
  },
  {
   "cell_type": "code",
   "execution_count": 2,
   "id": "26eab7d3",
   "metadata": {},
   "outputs": [],
   "source": [
    "# 연습용 MNIST 데이터 셋을 읽어오는 작업\n",
    "\n",
    "train_data = datasets.FashionMNIST(\n",
    "                                    root = 'data',\n",
    "                                    train = True,\n",
    "                                    download = True,\n",
    "                                    transform = ToTensor()\n",
    ")\n",
    "\n",
    "test_data = datasets.FashionMNIST(\n",
    "                                    root = 'data',\n",
    "                                    train = False,\n",
    "                                    download = True,\n",
    "                                    transform = ToTensor()\n",
    ")"
   ]
  },
  {
   "cell_type": "markdown",
   "id": "0f4e8bbc",
   "metadata": {},
   "source": [
    "### 데이터 구성 확인"
   ]
  },
  {
   "cell_type": "code",
   "execution_count": 8,
   "id": "de0e565b",
   "metadata": {},
   "outputs": [
    {
     "name": "stdout",
     "output_type": "stream",
     "text": [
      "Dataset FashionMNIST\n",
      "    Number of datapoints: 60000\n",
      "    Root location: data\n",
      "    Split: Train\n",
      "    StandardTransform\n",
      "Transform: ToTensor()\n",
      "\n",
      "type(train_data[0]) =  <class 'tuple'>\n",
      "len(train_data[0]) =  2\n",
      "\n",
      "torch.Size([1, 28, 28])\n",
      "9\n"
     ]
    }
   ],
   "source": [
    "print(train_data)\n",
    "print()\n",
    "\n",
    "print('type(train_data[0]) = ', type(train_data[0]))\n",
    "print('len(train_data[0]) = ', len(train_data[0]))\n",
    "print()\n",
    "\n",
    "print(train_data[0][0].shape) # image data\n",
    "print(train_data[0][1]) # label"
   ]
  },
  {
   "cell_type": "markdown",
   "id": "4bb782a1",
   "metadata": {},
   "source": [
    "### 데이터 로드 생성"
   ]
  },
  {
   "cell_type": "code",
   "execution_count": 18,
   "id": "3766fe1b",
   "metadata": {},
   "outputs": [
    {
     "name": "stdout",
     "output_type": "stream",
     "text": [
      "Shape of X [N, C, H, W]: torch.Size([64, 1, 28, 28])\n",
      "Shape of y: torch.Size([64]) torch.int64\n"
     ]
    },
    {
     "data": {
      "text/plain": [
       "'\\nbatch_size = 한 번의 학습 때 사용할 데이터 갯수\\n\\n즉, batch_size = 64로 설정한다는 말은\\n60000개의 샘플을 64개 단위로 나누어, 64개 데이터의 한 묶음을 한 번의 학습 데이터로 사용한다는 의미\\n\\n그래서 dataloader를 구성하는 데이터의 크기가 (64 * 1 * 28 * 28)로 나타나는 것\\n'"
      ]
     },
     "execution_count": 18,
     "metadata": {},
     "output_type": "execute_result"
    }
   ],
   "source": [
    "batch_size = 64\n",
    "\n",
    "train_dataloader = DataLoader(train_data, batch_size = batch_size)\n",
    "test_dataloader = DataLoader(test_data, batch_size = batch_size)\n",
    "\n",
    "for X, y in test_dataloader:\n",
    "    print(f'Shape of X [N, C, H, W]: {X.shape}')\n",
    "    print(f'Shape of y: {y.shape} {y.dtype}')\n",
    "    break\n",
    "    \n",
    "    \n",
    "'''\n",
    "batch_size = 한 번의 학습 때 사용할 데이터 갯수\n",
    "\n",
    "즉, batch_size = 64로 설정한다는 말은\n",
    "60000개의 샘플을 64개 단위로 나누어, 64개 데이터의 한 묶음을 한 번의 학습 데이터로 사용한다는 의미\n",
    "\n",
    "그래서 dataloader를 구성하는 데이터의 크기가 (64 * 1 * 28 * 28)로 나타나는 것\n",
    "'''"
   ]
  },
  {
   "cell_type": "markdown",
   "id": "91fdaae9",
   "metadata": {},
   "source": [
    "### 모델 생성"
   ]
  },
  {
   "cell_type": "code",
   "execution_count": 25,
   "id": "d7aa9abb",
   "metadata": {},
   "outputs": [],
   "source": [
    "# device = 'cuda' if torch.cuda.is_available() else 'cpu' # gpu 사용을 위한 셋팅\n",
    "device = 'cpu'\n",
    "\n",
    "class NeuralNetwork(nn.Module):\n",
    "    def __init__(self):\n",
    "        super().__init__()\n",
    "        \n",
    "        self.flatten = nn.Flatten()\n",
    "        self.linear_relu_stack = nn.Sequential(\n",
    "                                                nn.Linear(28 * 28, 512), # 28 * 28 형태의 데이터를 1 * 512 의 형태(선형)로 변경\n",
    "                                                nn.ReLU(),\n",
    "                                                nn.Linear(512, 512),\n",
    "                                                nn.ReLU(),\n",
    "                                                nn.Linear(512, 10) # 최종 결과물은 0 ~ 9 까지의 데이터 레이블이 출력 되어야 한다.\n",
    "        )\n",
    "        \n",
    "    def forward(self, x):\n",
    "        x = self.flatten(x)\n",
    "        logits = self.linear_relu_stack(x)\n",
    "        \n",
    "        return logits\n",
    "    \n",
    "model = NeuralNetwork().to('cpu')"
   ]
  },
  {
   "cell_type": "code",
   "execution_count": 26,
   "id": "7c2dedff",
   "metadata": {},
   "outputs": [
    {
     "name": "stdout",
     "output_type": "stream",
     "text": [
      "NeuralNetwork(\n",
      "  (flatten): Flatten(start_dim=1, end_dim=-1)\n",
      "  (linear_relu_stack): Sequential(\n",
      "    (0): Linear(in_features=784, out_features=512, bias=True)\n",
      "    (1): ReLU()\n",
      "    (2): Linear(in_features=512, out_features=512, bias=True)\n",
      "    (3): ReLU()\n",
      "    (4): Linear(in_features=512, out_features=10, bias=True)\n",
      "  )\n",
      ")\n"
     ]
    }
   ],
   "source": [
    "print(model)"
   ]
  },
  {
   "cell_type": "markdown",
   "id": "ead83b49",
   "metadata": {},
   "source": [
    "### 모델 최적화"
   ]
  },
  {
   "cell_type": "code",
   "execution_count": 27,
   "id": "0a47dc23",
   "metadata": {},
   "outputs": [],
   "source": [
    "# 손실함수 - 크로스 엔트로피에 대한 정확한 이해\n",
    "loss_fn = nn.CrossEntropyLoss()\n",
    "\n",
    "# 최적화함수\n",
    "optimizer = torch.optim.SGD(model.parameters(), lr = 1e-3)"
   ]
  },
  {
   "cell_type": "code",
   "execution_count": 28,
   "id": "1b803c95",
   "metadata": {},
   "outputs": [],
   "source": [
    "def train(dataloader, model, loss_fn, optimizer):\n",
    "    size = len(dataloader.dataset)\n",
    "    \n",
    "    for batch, (X, y) in enumerate(dataloader):\n",
    "        X, y = X.to(device), y.to(device)\n",
    "        \n",
    "        pred = model(X)\n",
    "        loss = loss_fn(pred, y)\n",
    "        \n",
    "        optimizer.zero_grad()\n",
    "        loss.backward()\n",
    "        optimizer.step()\n",
    "        \n",
    "        if batch % 100 == 0:\n",
    "            loss, current = loss.item(), batch * len(X)\n",
    "            print(f'loss: {loss:>7f} [{current:>5d}/{size:>5d}]')\n",
    "            \n",
    "\n",
    "def test(dataloader, model, loss_fn):\n",
    "    size = len(dataloader.dataset)\n",
    "    num_batches = len(dataloader)\n",
    "    \n",
    "    model.eval()\n",
    "    \n",
    "    test_loss, correct = 0, 0\n",
    "    \n",
    "    with torch.no_grad():\n",
    "        for X, y in dataloader:\n",
    "            X, y = X.to(device), y.to(device)\n",
    "            pred = model(X)\n",
    "            test_loss += loss_fn(pred, y).item()\n",
    "            correct += (pred.argmax(1) == y).type(torch.float).sum().item()\n",
    "    \n",
    "    test_loss /= num_batches\n",
    "    correct /= size\n",
    "    \n",
    "    print(f'Test Error: \\n Accuracy: {(100 * correct):>0.1f}%, Avg loss: {test_loss:>8f}\\n')"
   ]
  },
  {
   "cell_type": "code",
   "execution_count": 29,
   "id": "0c136114",
   "metadata": {},
   "outputs": [
    {
     "name": "stdout",
     "output_type": "stream",
     "text": [
      "Epoch 1\n",
      "------------------------------------\n",
      "loss: 2.300001 [    0/60000]\n",
      "loss: 2.290669 [ 6400/60000]\n",
      "loss: 2.269254 [12800/60000]\n",
      "loss: 2.262628 [19200/60000]\n",
      "loss: 2.239910 [25600/60000]\n",
      "loss: 2.217842 [32000/60000]\n",
      "loss: 2.219355 [38400/60000]\n",
      "loss: 2.187773 [44800/60000]\n",
      "loss: 2.183437 [51200/60000]\n",
      "loss: 2.155368 [57600/60000]\n",
      "Test Error: \n",
      " Accuracy: 54.8%, Avg loss: 2.146901\n",
      "\n",
      "Epoch 2\n",
      "------------------------------------\n",
      "loss: 2.155793 [    0/60000]\n",
      "loss: 2.146687 [ 6400/60000]\n",
      "loss: 2.083495 [12800/60000]\n",
      "loss: 2.099436 [19200/60000]\n",
      "loss: 2.038959 [25600/60000]\n",
      "loss: 1.986870 [32000/60000]\n",
      "loss: 2.002206 [38400/60000]\n",
      "loss: 1.920437 [44800/60000]\n",
      "loss: 1.927192 [51200/60000]\n",
      "loss: 1.855193 [57600/60000]\n",
      "Test Error: \n",
      " Accuracy: 58.4%, Avg loss: 1.852862\n",
      "\n",
      "Epoch 3\n",
      "------------------------------------\n",
      "loss: 1.882458 [    0/60000]\n",
      "loss: 1.858453 [ 6400/60000]\n",
      "loss: 1.732945 [12800/60000]\n",
      "loss: 1.778489 [19200/60000]\n",
      "loss: 1.667005 [25600/60000]\n",
      "loss: 1.621253 [32000/60000]\n",
      "loss: 1.634025 [38400/60000]\n",
      "loss: 1.539415 [44800/60000]\n",
      "loss: 1.573099 [51200/60000]\n",
      "loss: 1.463622 [57600/60000]\n",
      "Test Error: \n",
      " Accuracy: 61.0%, Avg loss: 1.488648\n",
      "\n",
      "Epoch 4\n",
      "------------------------------------\n",
      "loss: 1.550357 [    0/60000]\n",
      "loss: 1.528952 [ 6400/60000]\n",
      "loss: 1.373103 [12800/60000]\n",
      "loss: 1.449681 [19200/60000]\n",
      "loss: 1.334947 [25600/60000]\n",
      "loss: 1.327775 [32000/60000]\n",
      "loss: 1.335269 [38400/60000]\n",
      "loss: 1.265585 [44800/60000]\n",
      "loss: 1.309025 [51200/60000]\n",
      "loss: 1.205284 [57600/60000]\n",
      "Test Error: \n",
      " Accuracy: 63.3%, Avg loss: 1.236941\n",
      "\n",
      "Epoch 5\n",
      "------------------------------------\n",
      "loss: 1.304264 [    0/60000]\n",
      "loss: 1.300989 [ 6400/60000]\n",
      "loss: 1.129388 [12800/60000]\n",
      "loss: 1.238675 [19200/60000]\n",
      "loss: 1.115305 [25600/60000]\n",
      "loss: 1.138330 [32000/60000]\n",
      "loss: 1.152277 [38400/60000]\n",
      "loss: 1.095742 [44800/60000]\n",
      "loss: 1.143967 [51200/60000]\n",
      "loss: 1.053793 [57600/60000]\n",
      "Test Error: \n",
      " Accuracy: 64.7%, Avg loss: 1.079003\n",
      "\n",
      "Done\n"
     ]
    }
   ],
   "source": [
    "epochs = 5\n",
    "\n",
    "for t in range(epochs):\n",
    "    print(f'Epoch {t+1}\\n------------------------------------')\n",
    "    \n",
    "    _ = train(train_dataloader, model, loss_fn, optimizer)\n",
    "    _ = test(test_dataloader, model, loss_fn)\n",
    "    \n",
    "print('Done')"
   ]
  },
  {
   "cell_type": "markdown",
   "id": "da60bff4",
   "metadata": {},
   "source": [
    "### 모델 저장하기"
   ]
  },
  {
   "cell_type": "code",
   "execution_count": 32,
   "id": "ea7c4b96",
   "metadata": {},
   "outputs": [
    {
     "name": "stdout",
     "output_type": "stream",
     "text": [
      "Saved PyTorch Model State to model.pth\n"
     ]
    }
   ],
   "source": [
    "torch.save(model.state_dict(), './data/pytorch_basic_model.pth')\n",
    "\n",
    "print('Saved PyTorch Model State to model.pth')"
   ]
  },
  {
   "cell_type": "markdown",
   "id": "a4e53056",
   "metadata": {},
   "source": [
    "### 모델 불러오기"
   ]
  },
  {
   "cell_type": "code",
   "execution_count": 33,
   "id": "4ec8bb7d",
   "metadata": {},
   "outputs": [
    {
     "data": {
      "text/plain": [
       "<All keys matched successfully>"
      ]
     },
     "execution_count": 33,
     "metadata": {},
     "output_type": "execute_result"
    }
   ],
   "source": [
    "model = NeuralNetwork()\n",
    "model.load_state_dict(torch.load('./data/pytorch_basic_model.pth'))"
   ]
  },
  {
   "cell_type": "code",
   "execution_count": 34,
   "id": "5e81b925",
   "metadata": {},
   "outputs": [
    {
     "name": "stdout",
     "output_type": "stream",
     "text": [
      "Predicted: \"Ankle boot\", Acutal: \"Ankle boot\"\n"
     ]
    }
   ],
   "source": [
    "classes = [\n",
    "            'T-shirt/top',\n",
    "            'Trouser',\n",
    "            'Pullover',\n",
    "            'Dress',\n",
    "            'Coat',\n",
    "            'Sandal',\n",
    "            'Shirt',\n",
    "            'Sneakers',\n",
    "            'Bag',\n",
    "            'Ankle boot',\n",
    "]\n",
    "\n",
    "model.eval()\n",
    "\n",
    "x, y = test_data[0][0], test_data[0][1]\n",
    "with torch.no_grad():\n",
    "    pred = model(x)\n",
    "    predicted, actual = classes[pred[0].argmax(0)], classes[y]\n",
    "    \n",
    "    print(f'Predicted: \"{predicted}\", Acutal: \"{actual}\"')"
   ]
  }
 ],
 "metadata": {
  "kernelspec": {
   "display_name": "Python 3 (ipykernel)",
   "language": "python",
   "name": "python3"
  },
  "language_info": {
   "codemirror_mode": {
    "name": "ipython",
    "version": 3
   },
   "file_extension": ".py",
   "mimetype": "text/x-python",
   "name": "python",
   "nbconvert_exporter": "python",
   "pygments_lexer": "ipython3",
   "version": "3.9.15"
  }
 },
 "nbformat": 4,
 "nbformat_minor": 5
}
