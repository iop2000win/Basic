{
 "cells": [
  {
   "cell_type": "markdown",
   "id": "8687e4b3",
   "metadata": {},
   "source": [
    "# 이미지 검출 (경계선)"
   ]
  },
  {
   "cell_type": "markdown",
   "id": "8d84ad0e",
   "metadata": {},
   "source": [
    "### Canny Edge Detection"
   ]
  },
  {
   "cell_type": "code",
   "execution_count": 1,
   "id": "308a78cc",
   "metadata": {},
   "outputs": [],
   "source": [
    "import cv2\n",
    "\n",
    "img_path = './Data/snowman.png'"
   ]
  },
  {
   "cell_type": "code",
   "execution_count": 5,
   "id": "12688017",
   "metadata": {},
   "outputs": [],
   "source": [
    "img = cv2.imread(img_path)\n",
    "\n",
    "canny = cv2.Canny(img, 150, 200)\n",
    "# 대상 이미지, minVal(하위 임계값), maxVal(상위 임계값)\n",
    "\n",
    "cv2.imshow('img', img)\n",
    "cv2.imshow('canny', canny)\n",
    "cv2.waitKey(0)\n",
    "cv2.destroyAllWindows()"
   ]
  },
  {
   "cell_type": "code",
   "execution_count": 7,
   "id": "7390fdc5",
   "metadata": {},
   "outputs": [],
   "source": [
    "img = cv2.imread(img_path)\n",
    "\n",
    "def empty(pos):\n",
    "    pass\n",
    "\n",
    "name = 'Trackbar'\n",
    "cv2.namedWindow(name)\n",
    "cv2.createTrackbar('threshold1', name, 0, 255, empty)\n",
    "cv2.createTrackbar('threshold2', name, 0, 255, empty)\n",
    "\n",
    "while True:\n",
    "    threshold1 = cv2.getTrackbarPos('threshold1', name)\n",
    "    threshold2 = cv2.getTrackbarPos('threshold2', name)\n",
    "\n",
    "    canny = cv2.Canny(img, threshold1, threshold2)\n",
    "    # 대상 이미지, minVal(하위 임계값), maxVal(상위 임계값)\n",
    "\n",
    "    cv2.imshow('img', img)\n",
    "    cv2.imshow(name, canny)\n",
    "    \n",
    "    if cv2.waitKey(1) == ord('q'):\n",
    "        break\n",
    "\n",
    "cv2.destroyAllWindows()"
   ]
  },
  {
   "cell_type": "markdown",
   "id": "0a6a3342",
   "metadata": {},
   "source": [
    "# 이미지 검출 (윤곽선)"
   ]
  },
  {
   "cell_type": "markdown",
   "id": "8563555d",
   "metadata": {},
   "source": [
    "### 윤곽선 (Contour): 경계선을 연결한 선"
   ]
  },
  {
   "cell_type": "code",
   "execution_count": 8,
   "id": "e185cdb1",
   "metadata": {},
   "outputs": [],
   "source": [
    "import cv2\n",
    "\n",
    "img_path = './Data/card.png'"
   ]
  },
  {
   "cell_type": "code",
   "execution_count": 12,
   "id": "45049ed8",
   "metadata": {},
   "outputs": [],
   "source": [
    "img = cv2.imread(img_path)\n",
    "target_img = img.copy() # 사본 이미지\n",
    "\n",
    "gray = cv2.cvtColor(img, cv2.COLOR_BGR2GRAY)\n",
    "ret, otsu = cv2.threshold(gray, -1, 255, cv2.THRESH_BINARY | cv2.THRESH_OTSU)\n",
    "\n",
    "contours, hierarchy = cv2.findContours(otsu, cv2.RETR_LIST, cv2.CHAIN_APPROX_NONE)\n",
    "# 윤곽선 정보, 구조\n",
    "# 대상 이미지, 윤곽선 찾는 모드, 윤곽선 찾을 때 사용하는 근사치 방법\n",
    "# 근사치 방법 : CHAIN_APPROX_NONE - 모든 좌표 반환\n",
    "# CHAIN_APPROX_SIMPLE - 꼭짓점 좌표 반환\n",
    "\n",
    "COLOR = (0, 200, 0)\n",
    "cv2.drawContours(target_img, contours, -1, COLOR, 2) # 윤곽선 그리기\n",
    "# 대상 이미지, 윤곽선 정보, 윤곽선 인덱스 값, 색깔, 두께\n",
    "\n",
    "cv2.imshow('img', img)\n",
    "cv2.imshow('gray', gray)\n",
    "cv2.imshow('otsu', otsu)\n",
    "cv2.imshow('contour', target_img)\n",
    "\n",
    "cv2.waitKey(0)\n",
    "cv2.destroyAllWindows()"
   ]
  },
  {
   "cell_type": "markdown",
   "id": "dc9f7576",
   "metadata": {},
   "source": [
    "### 윤곽선 찾기 모드\n",
    "\n",
    "1. cv2.RETR_EXTERNAL : 가장 외곽의 윤곽선만 찾음\n",
    "2. cv2.RETR_LIST : 모든 윤곽선 찾음 (계층 정보가 없음)\n",
    "3. cv2.RETR_TREE : 모든 윤곽선 찾음 (계층 정보를 tree 형태로 생성)"
   ]
  },
  {
   "cell_type": "code",
   "execution_count": 18,
   "id": "1d46ab87",
   "metadata": {},
   "outputs": [],
   "source": [
    "img = cv2.imread(img_path)\n",
    "target_img = img.copy() # 사본 이미지\n",
    "\n",
    "gray = cv2.cvtColor(img, cv2.COLOR_BGR2GRAY)\n",
    "ret, otsu = cv2.threshold(gray, -1, 255, cv2.THRESH_BINARY | cv2.THRESH_OTSU)\n",
    "\n",
    "# contours, hierarchy = cv2.findContours(otsu, cv2.RETR_LIST, cv2.CHAIN_APPROX_NONE)\n",
    "contours, hierarchy = cv2.findContours(otsu, cv2.RETR_EXTERNAL, cv2.CHAIN_APPROX_NONE)\n",
    "# contours, hierarchy = cv2.findContours(otsu, cv2.RETR_TREE, cv2.CHAIN_APPROX_NONE)\n",
    "# print(hierarchy, len(contours))\n",
    "\n",
    "COLOR = (0, 200, 0)\n",
    "cv2.drawContours(target_img, contours, -1, COLOR, 2) # 윤곽선 그리기\n",
    "# 대상 이미지, 윤곽선 정보, 윤곽선 인덱스 값, 색깔, 두께\n",
    "\n",
    "cv2.imshow('img', img)\n",
    "cv2.imshow('gray', gray)\n",
    "cv2.imshow('otsu', otsu)\n",
    "cv2.imshow('contour', target_img)\n",
    "\n",
    "cv2.waitKey(0)\n",
    "cv2.destroyAllWindows()"
   ]
  },
  {
   "cell_type": "markdown",
   "id": "181e9389",
   "metadata": {},
   "source": [
    "### 경계 사각형\n",
    "> boundingRect(\n",
    "\n",
    "윤곽선의 경계면을 둘러싸는 사각형"
   ]
  },
  {
   "cell_type": "code",
   "execution_count": 21,
   "id": "8ca9fcdf",
   "metadata": {},
   "outputs": [],
   "source": [
    "img = cv2.imread(img_path)\n",
    "target_img = img.copy() # 사본 이미지\n",
    "\n",
    "gray = cv2.cvtColor(img, cv2.COLOR_BGR2GRAY)\n",
    "ret, otsu = cv2.threshold(gray, -1, 255, cv2.THRESH_BINARY | cv2.THRESH_OTSU)\n",
    "\n",
    "contours, hierarchy = cv2.findContours(otsu, cv2.RETR_LIST, cv2.CHAIN_APPROX_NONE)\n",
    "\n",
    "COLOR = (0, 200, 0)\n",
    "# cv2.drawContours(target_img, contours, -1, COLOR, 2) # 윤곽선 그리기\n",
    "for contour in contours:\n",
    "    x, y, width, height = cv2.boundingRect(contour)\n",
    "    cv2.rectangle(target_img, (x, y), (x+width, y+height), COLOR, 2)\n",
    "\n",
    "cv2.imshow('img', img)\n",
    "cv2.imshow('gray', gray)\n",
    "cv2.imshow('otsu', otsu)\n",
    "cv2.imshow('contour', target_img)\n",
    "\n",
    "cv2.waitKey(0)\n",
    "cv2.destroyAllWindows()"
   ]
  },
  {
   "cell_type": "markdown",
   "id": "66364862",
   "metadata": {},
   "source": [
    "### 윤곽선 면적\n",
    "> contourArea()"
   ]
  },
  {
   "cell_type": "code",
   "execution_count": 23,
   "id": "30062758",
   "metadata": {},
   "outputs": [],
   "source": [
    "img = cv2.imread(img_path)\n",
    "target_img = img.copy() # 사본 이미지\n",
    "\n",
    "gray = cv2.cvtColor(img, cv2.COLOR_BGR2GRAY)\n",
    "ret, otsu = cv2.threshold(gray, -1, 255, cv2.THRESH_BINARY | cv2.THRESH_OTSU)\n",
    "\n",
    "contours, hierarchy = cv2.findContours(otsu, cv2.RETR_LIST, cv2.CHAIN_APPROX_NONE)\n",
    "\n",
    "COLOR = (0, 200, 0)\n",
    "\n",
    "for contour in contours:\n",
    "    if cv2.contourArea(contour) > 25000:\n",
    "        x, y, width, height = cv2.boundingRect(contour)\n",
    "        cv2.rectangle(target_img, (x, y), (x+width, y+height), COLOR, 2)\n",
    "\n",
    "cv2.imshow('img', img)\n",
    "cv2.imshow('contour', target_img)\n",
    "\n",
    "cv2.waitKey(0)\n",
    "cv2.destroyAllWindows()"
   ]
  }
 ],
 "metadata": {
  "kernelspec": {
   "display_name": "Python 3",
   "language": "python",
   "name": "python3"
  },
  "language_info": {
   "codemirror_mode": {
    "name": "ipython",
    "version": 3
   },
   "file_extension": ".py",
   "mimetype": "text/x-python",
   "name": "python",
   "nbconvert_exporter": "python",
   "pygments_lexer": "ipython3",
   "version": "3.8.10"
  }
 },
 "nbformat": 4,
 "nbformat_minor": 5
}
