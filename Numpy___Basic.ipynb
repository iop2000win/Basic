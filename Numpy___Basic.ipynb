{
 "cells": [
  {
   "cell_type": "code",
   "execution_count": 2,
   "id": "00c4645b",
   "metadata": {},
   "outputs": [],
   "source": [
    "import numpy as np"
   ]
  },
  {
   "cell_type": "markdown",
   "id": "14f873cb",
   "metadata": {},
   "source": [
    "### np.newaxis\n",
    "\n",
    "넘파이 배열의 차원을 확장하는 기능\n",
    "\n",
    "*reshape 과의 차이점은?\n",
    "- reshape의 경우 특정 shape으로 배열을 변경하는 것\n",
    "- newaxis의 경우 새로운 차원 '1개'를 배열에 추가하는 것 (빈 열 하나 추가)"
   ]
  },
  {
   "cell_type": "code",
   "execution_count": 3,
   "id": "a412ac27",
   "metadata": {},
   "outputs": [
    {
     "name": "stdout",
     "output_type": "stream",
     "text": [
      "[1 2 3 4] (4,)\n"
     ]
    }
   ],
   "source": [
    "arr = np.arange(1, 5)\n",
    "\n",
    "print(arr, arr.shape) # 1차원 배열의 형태"
   ]
  },
  {
   "cell_type": "code",
   "execution_count": 36,
   "id": "985872f5",
   "metadata": {},
   "outputs": [
    {
     "name": "stdout",
     "output_type": "stream",
     "text": [
      "(4,) (1, 4) (1, 4)\n",
      "[[1 2 3 4]]\n"
     ]
    }
   ],
   "source": [
    "arr_newaxis = arr[np.newaxis, :] # 빈 열 * 기존 array의 사이즈\n",
    "arr_reshape = arr.reshape(1, 4)\n",
    "\n",
    "print(arr.shape, arr_newaxis.shape, arr_reshape.shape)\n",
    "print(arr_newaxis)"
   ]
  },
  {
   "cell_type": "code",
   "execution_count": 37,
   "id": "a2122d9c",
   "metadata": {},
   "outputs": [
    {
     "name": "stdout",
     "output_type": "stream",
     "text": [
      "(4,) (4, 1) (4, 1)\n"
     ]
    }
   ],
   "source": [
    "arr_newaxis = arr[:, np.newaxis]\n",
    "arr_reshape = arr.reshape(4, 1)\n",
    "\n",
    "print(arr.shape, arr_newaxis.shape, arr_reshape.shape)"
   ]
  },
  {
   "cell_type": "code",
   "execution_count": 40,
   "id": "83667a96",
   "metadata": {},
   "outputs": [
    {
     "name": "stdout",
     "output_type": "stream",
     "text": [
      "(5,) (3,)\n"
     ]
    },
    {
     "ename": "ValueError",
     "evalue": "operands could not be broadcast together with shapes (5,) (3,) ",
     "output_type": "error",
     "traceback": [
      "\u001b[1;31m---------------------------------------------------------------------------\u001b[0m",
      "\u001b[1;31mValueError\u001b[0m                                Traceback (most recent call last)",
      "Cell \u001b[1;32mIn[40], line 6\u001b[0m\n\u001b[0;32m      3\u001b[0m x2 \u001b[38;5;241m=\u001b[39m np\u001b[38;5;241m.\u001b[39marray([\u001b[38;5;241m5\u001b[39m, \u001b[38;5;241m4\u001b[39m, \u001b[38;5;241m3\u001b[39m])\n\u001b[0;32m      5\u001b[0m \u001b[38;5;28mprint\u001b[39m(x1\u001b[38;5;241m.\u001b[39mshape, x2\u001b[38;5;241m.\u001b[39mshape)\n\u001b[1;32m----> 6\u001b[0m \u001b[38;5;28mprint\u001b[39m(\u001b[43mx1\u001b[49m\u001b[43m \u001b[49m\u001b[38;5;241;43m*\u001b[39;49m\u001b[43m \u001b[49m\u001b[43mx2\u001b[49m)\n",
      "\u001b[1;31mValueError\u001b[0m: operands could not be broadcast together with shapes (5,) (3,) "
     ]
    }
   ],
   "source": [
    "# broad casting을 할 때 필요하다.\n",
    "x1 = np.array([1, 2, 3, 4, 5])\n",
    "x2 = np.array([5, 4, 3])\n",
    "\n",
    "print(x1.shape, x2.shape)\n",
    "print(x1 * x2)"
   ]
  },
  {
   "cell_type": "code",
   "execution_count": 44,
   "id": "e26dca8b",
   "metadata": {},
   "outputs": [
    {
     "name": "stdout",
     "output_type": "stream",
     "text": [
      "(5, 1)\n",
      "[[1]\n",
      " [2]\n",
      " [3]\n",
      " [4]\n",
      " [5]]\n"
     ]
    }
   ],
   "source": [
    "x1_new = x1[:, np.newaxis] # 5 * 1 의 2차원 배열로 변경\n",
    "\n",
    "print(x1_new.shape)\n",
    "print(x1_new)"
   ]
  },
  {
   "cell_type": "code",
   "execution_count": 43,
   "id": "d018e42e",
   "metadata": {},
   "outputs": [
    {
     "data": {
      "text/plain": [
       "array([[ 6,  5,  4],\n",
       "       [ 7,  6,  5],\n",
       "       [ 8,  7,  6],\n",
       "       [ 9,  8,  7],\n",
       "       [10,  9,  8]])"
      ]
     },
     "execution_count": 43,
     "metadata": {},
     "output_type": "execute_result"
    }
   ],
   "source": [
    "x1_new + x2"
   ]
  },
  {
   "cell_type": "code",
   "execution_count": 45,
   "id": "0a06ca73",
   "metadata": {},
   "outputs": [
    {
     "data": {
      "text/plain": [
       "array([[ 5,  4,  3],\n",
       "       [10,  8,  6],\n",
       "       [15, 12,  9],\n",
       "       [20, 16, 12],\n",
       "       [25, 20, 15]])"
      ]
     },
     "execution_count": 45,
     "metadata": {},
     "output_type": "execute_result"
    }
   ],
   "source": [
    "x1_new * x2"
   ]
  }
 ],
 "metadata": {
  "kernelspec": {
   "display_name": "Python 3 (ipykernel)",
   "language": "python",
   "name": "python3"
  },
  "language_info": {
   "codemirror_mode": {
    "name": "ipython",
    "version": 3
   },
   "file_extension": ".py",
   "mimetype": "text/x-python",
   "name": "python",
   "nbconvert_exporter": "python",
   "pygments_lexer": "ipython3",
   "version": "3.9.15"
  }
 },
 "nbformat": 4,
 "nbformat_minor": 5
}
