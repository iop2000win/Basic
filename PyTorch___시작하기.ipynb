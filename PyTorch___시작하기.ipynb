{
 "cells": [
  {
   "cell_type": "code",
   "execution_count": 2,
   "id": "899002e5",
   "metadata": {},
   "outputs": [],
   "source": [
    "import numpy as np\n",
    "\n",
    "import torch\n",
    "\n",
    "from torch import nn\n",
    "from torch.utils.data import DataLoader\n",
    "from torchvision import datasets\n",
    "from torchvision.transforms import ToTensor\n",
    "\n",
    "import matplotlib.pyplot as plt"
   ]
  },
  {
   "cell_type": "markdown",
   "id": "ab1d43f4",
   "metadata": {},
   "source": [
    "### 데이터 작업하기"
   ]
  },
  {
   "cell_type": "code",
   "execution_count": 29,
   "id": "253a4275",
   "metadata": {
    "scrolled": true
   },
   "outputs": [
    {
     "name": "stdout",
     "output_type": "stream",
     "text": [
      "Shape of X [N, C, H, W]: torch.Size([64, 1, 28, 28])\n",
      "Shape of y: torch.Size([64]) (torch.int64)\n"
     ]
    }
   ],
   "source": [
    "train_data = datasets.FashionMNIST(\n",
    "                                    root = 'data',\n",
    "                                    train = True,\n",
    "                                    download = True,\n",
    "                                    transform = ToTensor(),\n",
    ")\n",
    "\n",
    "test_data = datasets.FashionMNIST(\n",
    "                                    root = 'data',\n",
    "                                    train = False,\n",
    "                                    download = True,\n",
    "                                    transform = ToTensor(),\n",
    ")\n",
    "\n",
    "batch_size = 64\n",
    "\n",
    "# 데이터로더 생성\n",
    "train_dataloader = DataLoader(train_data, batch_size = batch_size)\n",
    "test_dataloader = DataLoader(test_data, batch_size = batch_size)\n",
    "\n",
    "for X, y in test_dataloader:\n",
    "    print(f'Shape of X [N, C, H, W]: {X.shape}')\n",
    "    print(f'Shape of y: {y.shape} ({y.dtype})')\n",
    "    \n",
    "    break"
   ]
  },
  {
   "cell_type": "markdown",
   "id": "bee41645",
   "metadata": {},
   "source": [
    "### 모델 만들기"
   ]
  },
  {
   "cell_type": "code",
   "execution_count": 30,
   "id": "d7bc977a",
   "metadata": {},
   "outputs": [
    {
     "name": "stdout",
     "output_type": "stream",
     "text": [
      "Using cpu: device\n",
      "NeuralNetwork(\n",
      "  (flatten): Flatten(start_dim=1, end_dim=-1)\n",
      "  (linear_relu_stack): Sequential(\n",
      "    (0): Linear(in_features=784, out_features=512, bias=True)\n",
      "    (1): ReLU()\n",
      "    (2): Linear(in_features=512, out_features=512, bias=True)\n",
      "    (3): ReLU()\n",
      "    (4): Linear(in_features=512, out_features=10, bias=True)\n",
      "  )\n",
      ")\n"
     ]
    }
   ],
   "source": [
    "device = 'cpu'\n",
    "print(f'Using {device}: device')\n",
    "\n",
    "# model define\n",
    "class NeuralNetwork(nn.Module):\n",
    "    def __init__(self):\n",
    "        super().__init__() # nn.Module 클래스를 상속 클래스로 가져온다.\n",
    "        self.flatten = nn.Flatten()\n",
    "        self.linear_relu_stack = nn.Sequential(\n",
    "                                                nn.Linear(28  * 28, 512),\n",
    "                                                nn.ReLU(),\n",
    "                                                nn.Linear(512, 512),\n",
    "                                                nn.ReLU(),\n",
    "                                                nn.Linear(512, 10)\n",
    "        )\n",
    "        \n",
    "    def forward(self, x):\n",
    "        x = self.flatten(x)\n",
    "        \n",
    "        logits = self.linear_relu_stack(x)\n",
    "        \n",
    "        return logits\n",
    "    \n",
    "\n",
    "model = NeuralNetwork().to(device)\n",
    "print(model)"
   ]
  },
  {
   "cell_type": "markdown",
   "id": "30bef734",
   "metadata": {},
   "source": [
    "### 모델 매개변수 최적화하기"
   ]
  },
  {
   "cell_type": "code",
   "execution_count": 31,
   "id": "536dd140",
   "metadata": {},
   "outputs": [],
   "source": [
    "# 손실함수\n",
    "loss_fn = nn.CrossEntropyLoss()\n",
    "\n",
    "# 최적화 함수\n",
    "optimizer = torch.optim.SGD(model.parameters(), lr = 1e-3)"
   ]
  },
  {
   "cell_type": "code",
   "execution_count": 42,
   "id": "72e04570",
   "metadata": {},
   "outputs": [],
   "source": [
    "def train(dataloader, model, loss_fn, optimizer):\n",
    "    size = len(dataloader.dataset)\n",
    "    \n",
    "    for batch, (X, y) in enumerate(dataloader):\n",
    "        X, y = X.to(device), y.to(device)\n",
    "        \n",
    "        # 예측 오류 계산\n",
    "        pred = model(X)\n",
    "        loss = loss_fn(pred, y) #  nn.CrossEntropyLoss()(pred, y)\n",
    "        \n",
    "        # 역전파\n",
    "        optimizer.zero_grad()\n",
    "        loss.backward()\n",
    "        optimizer.step()\n",
    "        \n",
    "        if batch % 100 == 0:\n",
    "            loss, current = loss.item(), batch * len(X)\n",
    "            print(f'loss: {loss:>7f} [{current:>5d}/{size:>5d}]')\n",
    "            \n",
    "            \n",
    "def test(dataloader, model, loss_fn):\n",
    "    size = len(dataloader.dataset)\n",
    "    num_batches = len(dataloader)\n",
    "    \n",
    "    model.eval()\n",
    "    \n",
    "    test_loss, correct = 0, 0\n",
    "    with torch.no_grad():\n",
    "        for X, y in dataloader:\n",
    "            X, y = X.to(device), y.to(device)\n",
    "            \n",
    "            pred = model(X)\n",
    "            test_loss += loss_fn(pred, y).item()\n",
    "            correct += (pred.argmax(1) == y).type(torch.float).sum().item()\n",
    "            \n",
    "    test_loss /= num_batches # 배치 단위로 평균 값을 구하는 것\n",
    "    correct /= size\n",
    "    \n",
    "    print(f'Test Error: \\n Accuracy: {(100 * correct):>0.1f}%, Avg loss: {test_loss:>8f}\\n')"
   ]
  },
  {
   "cell_type": "code",
   "execution_count": 43,
   "id": "49b9398f",
   "metadata": {},
   "outputs": [
    {
     "name": "stdout",
     "output_type": "stream",
     "text": [
      "Epoch 1\n",
      "--------------------------\n",
      "loss: 1.921444 [    0/60000]\n",
      "loss: 1.900442 [ 6400/60000]\n",
      "loss: 1.776031 [12800/60000]\n",
      "loss: 1.824465 [19200/60000]\n",
      "loss: 1.727718 [25600/60000]\n",
      "loss: 1.663459 [32000/60000]\n",
      "loss: 1.688415 [38400/60000]\n",
      "loss: 1.581881 [44800/60000]\n",
      "loss: 1.609367 [51200/60000]\n",
      "loss: 1.508349 [57600/60000]\n",
      "Test Error: \n",
      " Accuracy: 63.6%, Avg loss: 1.515429\n",
      "\n",
      "Epoch 2\n",
      "--------------------------\n",
      "loss: 1.581369 [    0/60000]\n",
      "loss: 1.555866 [ 6400/60000]\n",
      "loss: 1.397086 [12800/60000]\n",
      "loss: 1.476476 [19200/60000]\n",
      "loss: 1.360474 [25600/60000]\n",
      "loss: 1.344947 [32000/60000]\n",
      "loss: 1.366002 [38400/60000]\n",
      "loss: 1.280496 [44800/60000]\n",
      "loss: 1.321052 [51200/60000]\n",
      "loss: 1.225077 [57600/60000]\n",
      "Test Error: \n",
      " Accuracy: 65.0%, Avg loss: 1.239481\n",
      "\n",
      "Epoch 3\n",
      "--------------------------\n",
      "loss: 1.319220 [    0/60000]\n",
      "loss: 1.310707 [ 6400/60000]\n",
      "loss: 1.138401 [12800/60000]\n",
      "loss: 1.250935 [19200/60000]\n",
      "loss: 1.121141 [25600/60000]\n",
      "loss: 1.142994 [32000/60000]\n",
      "loss: 1.173743 [38400/60000]\n",
      "loss: 1.098164 [44800/60000]\n",
      "loss: 1.142670 [51200/60000]\n",
      "loss: 1.066034 [57600/60000]\n",
      "Test Error: \n",
      " Accuracy: 66.0%, Avg loss: 1.071625\n",
      "\n",
      "Epoch 4\n",
      "--------------------------\n",
      "loss: 1.147554 [    0/60000]\n",
      "loss: 1.159301 [ 6400/60000]\n",
      "loss: 0.971857 [12800/60000]\n",
      "loss: 1.112460 [19200/60000]\n",
      "loss: 0.977858 [25600/60000]\n",
      "loss: 1.010493 [32000/60000]\n",
      "loss: 1.058434 [38400/60000]\n",
      "loss: 0.985309 [44800/60000]\n",
      "loss: 1.028701 [51200/60000]\n",
      "loss: 0.968763 [57600/60000]\n",
      "Test Error: \n",
      " Accuracy: 67.2%, Avg loss: 0.964919\n",
      "\n",
      "Epoch 5\n",
      "--------------------------\n",
      "loss: 1.030555 [    0/60000]\n",
      "loss: 1.062295 [ 6400/60000]\n",
      "loss: 0.858966 [12800/60000]\n",
      "loss: 1.020952 [19200/60000]\n",
      "loss: 0.889547 [25600/60000]\n",
      "loss: 0.917711 [32000/60000]\n",
      "loss: 0.983984 [38400/60000]\n",
      "loss: 0.912800 [44800/60000]\n",
      "loss: 0.950433 [51200/60000]\n",
      "loss: 0.904057 [57600/60000]\n",
      "Test Error: \n",
      " Accuracy: 68.4%, Avg loss: 0.892428\n",
      "\n",
      "done\n"
     ]
    }
   ],
   "source": [
    "epochs = 5\n",
    "\n",
    "for t in range(epochs):\n",
    "    print(f'Epoch {t+1}\\n--------------------------')\n",
    "    \n",
    "    train(train_dataloader, model, loss_fn, optimizer)\n",
    "    test(train_dataloader, model, loss_fn)\n",
    "    \n",
    "print('done')"
   ]
  },
  {
   "cell_type": "markdown",
   "id": "910e5b61",
   "metadata": {},
   "source": [
    "### 모델 저장 및 불러오기"
   ]
  },
  {
   "cell_type": "code",
   "execution_count": 44,
   "id": "0f1f8f20",
   "metadata": {},
   "outputs": [
    {
     "name": "stdout",
     "output_type": "stream",
     "text": [
      "Saved PyTorch Model State to pytorch_basic_model.pth\n"
     ]
    }
   ],
   "source": [
    "torch.save(model.state_dict(), './data/pytorch_basic_model.pth')\n",
    "print('Saved PyTorch Model State to pytorch_basic_model.pth')"
   ]
  },
  {
   "cell_type": "code",
   "execution_count": 47,
   "id": "be6edebc",
   "metadata": {},
   "outputs": [
    {
     "data": {
      "text/plain": [
       "<All keys matched successfully>"
      ]
     },
     "execution_count": 47,
     "metadata": {},
     "output_type": "execute_result"
    }
   ],
   "source": [
    "model = NeuralNetwork()\n",
    "model.load_state_dict(torch.load('./data/pytorch_basic_model.pth'))"
   ]
  },
  {
   "cell_type": "code",
   "execution_count": 48,
   "id": "f843bd33",
   "metadata": {},
   "outputs": [
    {
     "name": "stdout",
     "output_type": "stream",
     "text": [
      "Predicted: \"Ankle boot\", Actual: \"Ankle boot\"\n"
     ]
    }
   ],
   "source": [
    "classes = [\n",
    "            \"T-shirt/top\",\n",
    "            \"Trouser\",\n",
    "            \"Pullover\",\n",
    "            \"Dress\",\n",
    "            \"Coat\",\n",
    "            \"Sandal\",\n",
    "            \"Shirt\",\n",
    "            \"Sneaker\",\n",
    "            \"Bag\",\n",
    "            \"Ankle boot\",\n",
    "]\n",
    "\n",
    "model.eval()\n",
    "\n",
    "x, y = test_data[0][0], test_data[0][1]\n",
    "\n",
    "with torch.no_grad():\n",
    "    pred = model(x)\n",
    "    predicted, actual = classes[pred[0].argmax(0)], classes[y]\n",
    "    \n",
    "    print(f'Predicted: \"{predicted}\", Actual: \"{actual}\"')"
   ]
  },
  {
   "cell_type": "markdown",
   "id": "6fd735f8",
   "metadata": {},
   "source": [
    "\n",
    "--------------------------------\n"
   ]
  },
  {
   "cell_type": "markdown",
   "id": "529801f2",
   "metadata": {},
   "source": [
    "# 텐서 (Tensor)"
   ]
  },
  {
   "cell_type": "markdown",
   "id": "2fd1f78a",
   "metadata": {},
   "source": [
    "### 텐서 초기화"
   ]
  },
  {
   "cell_type": "code",
   "execution_count": 52,
   "id": "e800d026",
   "metadata": {},
   "outputs": [
    {
     "name": "stdout",
     "output_type": "stream",
     "text": [
      "[[1, 2], [3, 4]] <class 'list'>\n",
      "tensor([[1, 2],\n",
      "        [3, 4]]) torch.Size([2, 2]) <class 'torch.Tensor'>\n"
     ]
    }
   ],
   "source": [
    "data = [[1, 2], [3, 4]]\n",
    "x_data = torch.tensor(data)\n",
    "\n",
    "print(data, type(data))\n",
    "print(x_data, x_data.shape, type(x_data))"
   ]
  },
  {
   "cell_type": "markdown",
   "id": "1f8e39d0",
   "metadata": {},
   "source": [
    "torch.tensor 메서드를 통해, 리스트 타입의 데이터를 텐서 타입으로 변경한다. 텐서의 경우 형태(shape)을 가진다."
   ]
  },
  {
   "cell_type": "code",
   "execution_count": 59,
   "id": "f7928f20",
   "metadata": {},
   "outputs": [
    {
     "name": "stdout",
     "output_type": "stream",
     "text": [
      "[[1, 2], [3, 4]] <class 'list'>\n",
      "[[1 2]\n",
      " [3 4]] <class 'numpy.ndarray'>\n",
      "tensor([[1, 2],\n",
      "        [3, 4]], dtype=torch.int32) torch.Size([2, 2]) <class 'torch.Tensor'>\n",
      "tensor([[1, 2],\n",
      "        [3, 4]], dtype=torch.int32) torch.Size([2, 2]) <class 'torch.Tensor'>\n"
     ]
    }
   ],
   "source": [
    "data = [[1, 2], [3, 4]]\n",
    "np_array = np.array(data)\n",
    "\n",
    "x_np_1 = torch.tensor(np_array)\n",
    "x_np_2 = torch.from_numpy(np_array)\n",
    "\n",
    "print(data, type(data))\n",
    "print(np_array, type(np_array))\n",
    "print(x_np_1, x_np_1.shape, type(x_np_1))\n",
    "print(x_np_2, x_np_2.shape, type(x_np_2))"
   ]
  },
  {
   "cell_type": "markdown",
   "id": "9daa33fe",
   "metadata": {},
   "source": [
    "numpy array 데이트를 텐서로 변경할 경우, 리스트를 변경하던 것과 같이 torch.tensor 메서드로도 변경이 가능하고\n",
    "\n",
    "torch.from_numpy 메서드를 통해서도 변경이 가능하다."
   ]
  },
  {
   "cell_type": "code",
   "execution_count": 74,
   "id": "aac654fe",
   "metadata": {},
   "outputs": [
    {
     "name": "stdout",
     "output_type": "stream",
     "text": [
      "Org Tensor:\n",
      " tensor([[1, 2],\n",
      "        [3, 4]])\n",
      "Ones Tensor:\n",
      " tensor([[1, 1],\n",
      "        [1, 1]])\n",
      "Random Tensor:\n",
      " tensor([[0.2364, 0.9786],\n",
      "        [0.0341, 0.1483]])\n"
     ]
    }
   ],
   "source": [
    "x_ones = torch.ones_like(x_data)\n",
    "\n",
    "print(f'Org Tensor:\\n {x_data}')\n",
    "print(f'Ones Tensor:\\n {x_ones}')\n",
    "\n",
    "x_rand_float = torch.rand_like(x_data, dtype = torch.float) # 텐서를 구성하는 데이터의 타입을 변경할 경우, 명시해주어야 한다.\n",
    "\n",
    "print(f'Random Tensor:\\n {x_rand_float}')"
   ]
  },
  {
   "cell_type": "code",
   "execution_count": 76,
   "id": "3dc8d084",
   "metadata": {},
   "outputs": [
    {
     "name": "stdout",
     "output_type": "stream",
     "text": [
      "Random Tensor: \n",
      " tensor([[[0.6306],\n",
      "         [0.7636],\n",
      "         [0.5492]],\n",
      "\n",
      "        [[0.5855],\n",
      "         [0.1014],\n",
      "         [0.1427]]])\n",
      "\n",
      "Ones Tensor: \n",
      " tensor([[[1.],\n",
      "         [1.],\n",
      "         [1.]],\n",
      "\n",
      "        [[1.],\n",
      "         [1.],\n",
      "         [1.]]])\n",
      "\n",
      "Zeros Tensor: \n",
      " tensor([[[0.],\n",
      "         [0.],\n",
      "         [0.]],\n",
      "\n",
      "        [[0.],\n",
      "         [0.],\n",
      "         [0.]]])\n"
     ]
    }
   ],
   "source": [
    "shape = (2, 3, 1)\n",
    "\n",
    "rand_tensor = torch.rand(shape)\n",
    "ones_tensor = torch.ones(shape)\n",
    "zeros_tensor = torch.zeros(shape)\n",
    "\n",
    "print(f'Random Tensor: \\n {rand_tensor}\\n')\n",
    "print(f'Ones Tensor: \\n {ones_tensor}\\n')\n",
    "print(f'Zeros Tensor: \\n {zeros_tensor}')"
   ]
  },
  {
   "cell_type": "code",
   "execution_count": 85,
   "id": "2799e4f1",
   "metadata": {},
   "outputs": [
    {
     "name": "stdout",
     "output_type": "stream",
     "text": [
      "Random Tensor: \n",
      " tensor([[0.6434, 0.6479, 0.2607],\n",
      "        [0.0702, 0.3801, 0.1208]])\n",
      "\n",
      "Ones Tensor: \n",
      " tensor([[1., 1., 1.],\n",
      "        [1., 1., 1.]])\n",
      "\n",
      "Zeros Tensor: \n",
      " tensor([[0., 0., 0.],\n",
      "        [0., 0., 0.]])\n"
     ]
    }
   ],
   "source": [
    "shape = (2, 3, )\n",
    "\n",
    "rand_tensor = torch.rand(shape)\n",
    "ones_tensor = torch.ones(shape)\n",
    "zeros_tensor = torch.zeros(shape)\n",
    "\n",
    "print(f'Random Tensor: \\n {rand_tensor}\\n')\n",
    "print(f'Ones Tensor: \\n {ones_tensor}\\n')\n",
    "print(f'Zeros Tensor: \\n {zeros_tensor}')"
   ]
  },
  {
   "cell_type": "markdown",
   "id": "613cfdd7",
   "metadata": {},
   "source": [
    "### 텐서의 속성"
   ]
  },
  {
   "cell_type": "code",
   "execution_count": 92,
   "id": "a75a77ed",
   "metadata": {},
   "outputs": [
    {
     "name": "stdout",
     "output_type": "stream",
     "text": [
      "Shape of tensor: torch.Size([3, 4, 2])\n",
      "Datatype of tensor: torch.float32\n",
      "Device tensor is stored on: cpu\n"
     ]
    }
   ],
   "source": [
    "tensor = torch.rand(3, 4, 2)\n",
    "\n",
    "print(f'Shape of tensor: {tensor.shape}')\n",
    "print(f'Datatype of tensor: {tensor.dtype}')\n",
    "print(f'Device tensor is stored on: {tensor.device}')"
   ]
  },
  {
   "cell_type": "markdown",
   "id": "a34e6cde",
   "metadata": {},
   "source": [
    "### 텐서의 연산"
   ]
  },
  {
   "cell_type": "code",
   "execution_count": 94,
   "id": "3b8c1d6b",
   "metadata": {},
   "outputs": [],
   "source": [
    "# GPU가 존재하면 텐서를 이동한다.\n",
    "if torch.cuda.is_available():\n",
    "    tensor = tensor.to('cuda')"
   ]
  },
  {
   "cell_type": "code",
   "execution_count": 96,
   "id": "a98e7065",
   "metadata": {},
   "outputs": [
    {
     "name": "stdout",
     "output_type": "stream",
     "text": [
      "tensor([[1., 1., 1., 1.],\n",
      "        [1., 1., 1., 1.],\n",
      "        [1., 1., 1., 1.],\n",
      "        [1., 1., 1., 1.]])\n",
      "First row: tensor([1., 1., 1., 1.])\n",
      "First column: tensor([1., 1., 1., 1.])\n",
      "Last column: tensor([1., 1., 1., 1.])\n"
     ]
    }
   ],
   "source": [
    "tensor = torch.ones(4, 4)\n",
    "\n",
    "print(tensor)\n",
    "print(f'First row: {tensor[0]}')\n",
    "print(f'First column: {tensor[:, 0]}')\n",
    "print(f'Last column: {tensor[:, -1]}')"
   ]
  },
  {
   "cell_type": "code",
   "execution_count": 97,
   "id": "0a7da8f1",
   "metadata": {},
   "outputs": [
    {
     "name": "stdout",
     "output_type": "stream",
     "text": [
      "tensor([[1., 0., 1., 1.],\n",
      "        [1., 0., 1., 1.],\n",
      "        [1., 0., 1., 1.],\n",
      "        [1., 0., 1., 1.]])\n",
      "First row: tensor([1., 0., 1., 1.])\n",
      "First column: tensor([1., 1., 1., 1.])\n",
      "Last column: tensor([1., 1., 1., 1.])\n"
     ]
    }
   ],
   "source": [
    "tensor[:, 1] = 0 # 1열 값을 전부 0으로 변경\n",
    "\n",
    "print(tensor)\n",
    "print(f'First row: {tensor[0]}')\n",
    "print(f'First column: {tensor[:, 0]}')\n",
    "print(f'Last column: {tensor[:, -1]}')"
   ]
  },
  {
   "cell_type": "code",
   "execution_count": 114,
   "id": "e5408314",
   "metadata": {},
   "outputs": [
    {
     "name": "stdout",
     "output_type": "stream",
     "text": [
      "torch.Size([8, 4])\n",
      "tensor([[1., 0., 1., 1.],\n",
      "        [1., 0., 1., 1.],\n",
      "        [1., 0., 1., 1.],\n",
      "        [1., 0., 1., 1.],\n",
      "        [1., 0., 1., 1.],\n",
      "        [1., 0., 1., 1.],\n",
      "        [1., 0., 1., 1.],\n",
      "        [1., 0., 1., 1.]])\n",
      "torch.Size([4, 8])\n",
      "tensor([[1., 0., 1., 1., 1., 0., 1., 1.],\n",
      "        [1., 0., 1., 1., 1., 0., 1., 1.],\n",
      "        [1., 0., 1., 1., 1., 0., 1., 1.],\n",
      "        [1., 0., 1., 1., 1., 0., 1., 1.]])\n"
     ]
    }
   ],
   "source": [
    "print(torch.cat([tensor, tensor], dim = 0).shape)\n",
    "print(torch.cat([tensor, tensor], dim = 0))\n",
    "\n",
    "print(torch.cat([tensor, tensor], dim = 1).shape)\n",
    "print(torch.cat([tensor, tensor], dim = 1))"
   ]
  },
  {
   "cell_type": "code",
   "execution_count": 124,
   "id": "ae2872fd",
   "metadata": {},
   "outputs": [
    {
     "name": "stdout",
     "output_type": "stream",
     "text": [
      "torch.Size([4, 2, 4])\n",
      "tensor([[[1., 0., 1., 1.],\n",
      "         [1., 0., 1., 1.]],\n",
      "\n",
      "        [[1., 0., 1., 1.],\n",
      "         [1., 0., 1., 1.]],\n",
      "\n",
      "        [[1., 0., 1., 1.],\n",
      "         [1., 0., 1., 1.]],\n",
      "\n",
      "        [[1., 0., 1., 1.],\n",
      "         [1., 0., 1., 1.]]])\n"
     ]
    }
   ],
   "source": [
    "# 지정해준 차원(dim 값)에 데이터를 stack 하는 것\n",
    "\n",
    "print(torch.stack([tensor, tensor], dim = 1).shape)\n",
    "print(torch.stack([tensor, tensor], dim = 1))"
   ]
  },
  {
   "cell_type": "code",
   "execution_count": 130,
   "id": "2ecebfc9",
   "metadata": {},
   "outputs": [
    {
     "data": {
      "text/plain": [
       "tensor([[3., 3., 3., 3.],\n",
       "        [3., 3., 3., 3.],\n",
       "        [3., 3., 3., 3.],\n",
       "        [3., 3., 3., 3.]])"
      ]
     },
     "execution_count": 130,
     "metadata": {},
     "output_type": "execute_result"
    }
   ],
   "source": [
    "# 텐서 간의 행렬 곱\n",
    "# @ = matmul 같은 기능\n",
    "\n",
    "y1 = tensor @ tensor.T\n",
    "y2 = tensor.matmul(tensor.T)\n",
    "\n",
    "y3 = torch.rand_like(y1)\n",
    "torch.matmul(tensor, tensor.T, out = y3)"
   ]
  },
  {
   "cell_type": "code",
   "execution_count": 135,
   "id": "1a1b3b79",
   "metadata": {},
   "outputs": [
    {
     "data": {
      "text/plain": [
       "tensor([[1., 0., 1., 1.],\n",
       "        [1., 0., 1., 1.],\n",
       "        [1., 0., 1., 1.],\n",
       "        [1., 0., 1., 1.]])"
      ]
     },
     "execution_count": 135,
     "metadata": {},
     "output_type": "execute_result"
    }
   ],
   "source": [
    "# 요소별 곱\n",
    "\n",
    "z1 = tensor * tensor\n",
    "z2 = tensor.mul(tensor)\n",
    "\n",
    "z3 = torch.rand_like(tensor)\n",
    "torch.mul(tensor, tensor, out = z3)"
   ]
  },
  {
   "cell_type": "code",
   "execution_count": 145,
   "id": "f8727ca5",
   "metadata": {},
   "outputs": [
    {
     "name": "stdout",
     "output_type": "stream",
     "text": [
      "tensor(12.) <class 'torch.Tensor'>\n",
      "12.0 <class 'float'>\n"
     ]
    }
   ],
   "source": [
    "# 텐서 합\n",
    "\n",
    "agg = tensor.sum()\n",
    "agg_item = agg.item()\n",
    "\n",
    "print(agg, type(agg))\n",
    "print(agg_item, type(agg_item))"
   ]
  },
  {
   "cell_type": "markdown",
   "id": "c7bd3ef4",
   "metadata": {},
   "source": [
    "### NumPy 변환"
   ]
  },
  {
   "cell_type": "code",
   "execution_count": 149,
   "id": "55493b72",
   "metadata": {},
   "outputs": [
    {
     "name": "stdout",
     "output_type": "stream",
     "text": [
      "t: tensor([1., 1., 1., 1., 1.])\n",
      "n: [1. 1. 1. 1. 1.]\n"
     ]
    }
   ],
   "source": [
    "t = torch.ones(5)\n",
    "print(f't: {t}')\n",
    "\n",
    "n = t.numpy()\n",
    "print(f'n: {n}')"
   ]
  },
  {
   "cell_type": "code",
   "execution_count": 150,
   "id": "ef7cae35",
   "metadata": {},
   "outputs": [
    {
     "name": "stdout",
     "output_type": "stream",
     "text": [
      "n: [1. 1. 1. 1. 1.]\n",
      "t: tensor([1., 1., 1., 1., 1.], dtype=torch.float64)\n"
     ]
    }
   ],
   "source": [
    "n = np.ones(5)\n",
    "print(f'n: {n}')\n",
    "\n",
    "t = torch.from_numpy(n)\n",
    "print(f't: {t}')"
   ]
  },
  {
   "cell_type": "markdown",
   "id": "6f715c23",
   "metadata": {},
   "source": [
    "# Dataset & DataLoader\n",
    "\n",
    "- https://pytorch.org/vision/stable/datasets.html\n",
    "- https://pytorch.org/audio/stable/datasets.html\n",
    "- https://pytorch.org/text/stable/datasets.html"
   ]
  },
  {
   "cell_type": "code",
   "execution_count": 3,
   "id": "93ddc066",
   "metadata": {},
   "outputs": [],
   "source": [
    "train_data = datasets.FashionMNIST(\n",
    "                                    root = 'data',\n",
    "                                    train = True,\n",
    "                                    download = True,\n",
    "                                    transform = ToTensor()\n",
    ")\n",
    "\n",
    "test_data = datasets.FashionMNIST(\n",
    "                                    root = 'data',\n",
    "                                    train = False,\n",
    "                                    download = True,\n",
    "                                    transform = ToTensor()\n",
    ")"
   ]
  },
  {
   "cell_type": "code",
   "execution_count": 4,
   "id": "865f2dc8",
   "metadata": {},
   "outputs": [
    {
     "data": {
      "image/png": "[encoded data removed]",
      "text/plain": [
       "<Figure size 800x800 with 9 Axes>"
      ]
     },
     "metadata": {},
     "output_type": "display_data"
    }
   ],
   "source": [
    "labels_map = {\n",
    "                0: 'T-shirt',\n",
    "                1: 'Trouser',\n",
    "                2: 'Pullover',\n",
    "                3: 'Dress',\n",
    "                4: 'Coat',\n",
    "                5: 'Sandal',\n",
    "                6: 'Shirt',\n",
    "                7: 'Sneaker',\n",
    "                8: 'Bag',\n",
    "                9: 'Ankle Boot'    \n",
    "}\n",
    "\n",
    "figure = plt.figure(figsize = (8, 8))\n",
    "cols, rows = 3, 3\n",
    "for i in range(1, cols * rows + 1):\n",
    "    sample_idx = torch.randint(len(train_data), size = (1, )).item()\n",
    "    img, label = train_data[sample_idx]\n",
    "    \n",
    "    figure.add_subplot(rows, cols, i)\n",
    "    \n",
    "    plt.title(labels_map[label])\n",
    "    plt.axis('off')\n",
    "    plt.imshow(img.squeeze(), cmap = 'gray')\n",
    "    \n",
    "plt.show()"
   ]
  },
  {
   "cell_type": "markdown",
   "id": "d32291bc-4a55-4d56-91a2-a246cdc7c75a",
   "metadata": {},
   "source": [
    "### 사용자 정의 데이터셋 만들기"
   ]
  },
  {
   "cell_type": "code",
   "execution_count": 5,
   "id": "56ed06b2-3abf-43ed-836a-6e412a3b7935",
   "metadata": {},
   "outputs": [],
   "source": [
    "import os\n",
    "import pandas as pd\n",
    "\n",
    "from torchvision.io import read_image"
   ]
  },
  {
   "cell_type": "code",
   "execution_count": null,
   "id": "0a6bcabf-7fb8-458f-87af-735aab1211c9",
   "metadata": {},
   "outputs": [],
   "source": [
    "class CustomImageDataset(Dataset)"
   ]
  },
  {
   "cell_type": "code",
   "execution_count": null,
   "id": "d909c92c-dd4a-4736-8eb7-c96b2f54e3e1",
   "metadata": {},
   "outputs": [],
   "source": []
  },
  {
   "cell_type": "code",
   "execution_count": null,
   "id": "331f972c-b8a7-411a-b658-7f200fc99046",
   "metadata": {},
   "outputs": [],
   "source": []
  },
  {
   "cell_type": "code",
   "execution_count": null,
   "id": "8e040af3-429e-4f03-ad31-6679a91ae717",
   "metadata": {},
   "outputs": [],
   "source": []
  },
  {
   "cell_type": "markdown",
   "id": "2eb84871-fd0d-439e-aa65-fdd31f70d225",
   "metadata": {},
   "source": [
    "# Modeling"
   ]
  },
  {
   "cell_type": "code",
   "execution_count": 10,
   "id": "c4e33fde-35b0-4e3e-b003-ebebb1ae94c6",
   "metadata": {},
   "outputs": [],
   "source": [
    "import os\n",
    "import torch\n",
    "\n",
    "from torch import nn\n",
    "from torch.utils.data import DataLoader\n",
    "from torchvision import datasets, transforms"
   ]
  },
  {
   "cell_type": "code",
   "execution_count": 11,
   "id": "568cdd58-1408-4aaa-a9ef-e03525daa619",
   "metadata": {},
   "outputs": [],
   "source": [
    "device = 'cpu'"
   ]
  },
  {
   "cell_type": "code",
   "execution_count": 14,
   "id": "96cbe1af-51dd-459e-a2b1-579ed453d292",
   "metadata": {},
   "outputs": [],
   "source": [
    "class NeuralNetwork(nn.Module):\n",
    "    def __init__(self):\n",
    "        super(NeuralNetwork, self).__init__()\n",
    "        \n",
    "        self.flatten = nn.Flatten()\n",
    "        self.linear_relu_stack = nn.Sequential(\n",
    "                                                nn.Linear(28 * 28, 512),\n",
    "                                                nn.ReLU(),\n",
    "                                                nn.Linear(512, 512),\n",
    "                                                nn.ReLU(),\n",
    "                                                nn.Linear(512, 10),\n",
    "        )\n",
    "        \n",
    "    # forward 함수는 모델을 선언하면 자동으로 실행된다.\n",
    "    def forward(self, x):\n",
    "        x = self.flatten(x)\n",
    "        \n",
    "        logits = self.linear_relu_stack(x)\n",
    "        \n",
    "        return logits"
   ]
  },
  {
   "cell_type": "code",
   "execution_count": 17,
   "id": "d43167e1-c18d-4ea1-b4ce-5b341c28f368",
   "metadata": {},
   "outputs": [
    {
     "name": "stdout",
     "output_type": "stream",
     "text": [
      "NeuralNetwork(\n",
      "  (flatten): Flatten(start_dim=1, end_dim=-1)\n",
      "  (linear_relu_stack): Sequential(\n",
      "    (0): Linear(in_features=784, out_features=512, bias=True)\n",
      "    (1): ReLU()\n",
      "    (2): Linear(in_features=512, out_features=512, bias=True)\n",
      "    (3): ReLU()\n",
      "    (4): Linear(in_features=512, out_features=10, bias=True)\n",
      "  )\n",
      ")\n"
     ]
    }
   ],
   "source": [
    "model = NeuralNetwork().to(device)\n",
    "print(model)"
   ]
  },
  {
   "cell_type": "code",
   "execution_count": 18,
   "id": "418fbfef-9397-4ad6-bf4b-a1c348989caa",
   "metadata": {},
   "outputs": [],
   "source": [
    "X = torch.rand(1, 28, 28, device = device)\n",
    "\n",
    "logits = model(X)\n",
    "pred_probab = nn.Softmax(dim = 1)(logits)\n",
    "y_pred = pred_probab.argmax(1)"
   ]
  },
  {
   "cell_type": "code",
   "execution_count": 19,
   "id": "d3f05407-1256-4e93-ad2d-56d385f6ca36",
   "metadata": {},
   "outputs": [
    {
     "name": "stdout",
     "output_type": "stream",
     "text": [
      "Predicted class: tensor([8])\n"
     ]
    }
   ],
   "source": [
    "print(f'Predicted class: {y_pred}')"
   ]
  },
  {
   "cell_type": "markdown",
   "id": "6363d398-801e-46de-a100-ab02c4f701d5",
   "metadata": {},
   "source": [
    "### 모델 계층"
   ]
  },
  {
   "cell_type": "code",
   "execution_count": 26,
   "id": "efa98c5b-d2a0-4f7e-a1a6-d3613c17f9e8",
   "metadata": {},
   "outputs": [
    {
     "name": "stdout",
     "output_type": "stream",
     "text": [
      "torch.Size([3, 28, 28])\n"
     ]
    }
   ],
   "source": [
    "# 미니 배치\n",
    "input_image = torch.rand(3, 28, 28)\n",
    "print(input_image.size())"
   ]
  },
  {
   "cell_type": "code",
   "execution_count": 27,
   "id": "3d8c67db-397c-4350-b7cd-3d097414e095",
   "metadata": {},
   "outputs": [
    {
     "name": "stdout",
     "output_type": "stream",
     "text": [
      "torch.Size([3, 784])\n"
     ]
    }
   ],
   "source": [
    "flatten = nn.Flatten()\n",
    "flat_image = flatten(input_image)\n",
    "\n",
    "print(flat_image.size())"
   ]
  },
  {
   "cell_type": "code",
   "execution_count": 29,
   "id": "10fb2601-4910-4293-952f-d5e8491fe93b",
   "metadata": {},
   "outputs": [
    {
     "name": "stdout",
     "output_type": "stream",
     "text": [
      "torch.Size([3, 20])\n"
     ]
    }
   ],
   "source": [
    "layer1 = nn.Linear(in_features = 28 * 28, out_features = 20)\n",
    "hidden1 = layer1(flat_image)\n",
    "\n",
    "print(hidden1.size())"
   ]
  },
  {
   "cell_type": "code",
   "execution_count": 47,
   "id": "87530eb1-9871-4f0c-b5d6-fa93215ed1c5",
   "metadata": {},
   "outputs": [
    {
     "name": "stdout",
     "output_type": "stream",
     "text": [
      "Before ReLU: tensor([[-0.0155, -0.0997,  0.2322, -0.0447,  0.1359,  0.2476, -0.2504,  0.1350,\n",
      "         -0.3536,  0.4356, -0.0137, -0.1336,  0.2654, -0.0573, -0.0494,  0.0010,\n",
      "          0.1425,  0.0519,  0.1827,  0.3654],\n",
      "        [-0.0948,  0.2506,  0.2493, -0.4572,  0.1355, -0.0049, -0.1472, -0.1333,\n",
      "         -0.8852,  0.3066, -0.1430, -0.1045,  0.1270,  0.0070, -0.1197, -0.1853,\n",
      "          0.2348,  0.0331,  0.1643, -0.0478],\n",
      "        [ 0.0256, -0.0724,  0.2674, -0.4136, -0.0404, -0.1888, -0.2129, -0.2057,\n",
      "         -0.7877,  0.3558, -0.3764, -0.1464,  0.0997, -0.2069, -0.4644, -0.0260,\n",
      "          0.2247,  0.1765,  0.4162,  0.4185]], grad_fn=<AddmmBackward0>)\n",
      "\n",
      "\n",
      "After ReLU: tensor([[0.0000, 0.0000, 0.2322, 0.0000, 0.1359, 0.2476, 0.0000, 0.1350, 0.0000,\n",
      "         0.4356, 0.0000, 0.0000, 0.2654, 0.0000, 0.0000, 0.0010, 0.1425, 0.0519,\n",
      "         0.1827, 0.3654],\n",
      "        [0.0000, 0.2506, 0.2493, 0.0000, 0.1355, 0.0000, 0.0000, 0.0000, 0.0000,\n",
      "         0.3066, 0.0000, 0.0000, 0.1270, 0.0070, 0.0000, 0.0000, 0.2348, 0.0331,\n",
      "         0.1643, 0.0000],\n",
      "        [0.0256, 0.0000, 0.2674, 0.0000, 0.0000, 0.0000, 0.0000, 0.0000, 0.0000,\n",
      "         0.3558, 0.0000, 0.0000, 0.0997, 0.0000, 0.0000, 0.0000, 0.2247, 0.1765,\n",
      "         0.4162, 0.4185]], grad_fn=<ReluBackward0>)\n"
     ]
    }
   ],
   "source": [
    "print(f'Before ReLU: {hidden1}\\n\\n')\n",
    "\n",
    "hidden1 = nn.ReLU()(hidden1)\n",
    "\n",
    "print(f'After ReLU: {hidden1}')"
   ]
  },
  {
   "cell_type": "code",
   "execution_count": 48,
   "id": "7dc321e8-e5d5-4e87-84bc-0f15afe84c1e",
   "metadata": {},
   "outputs": [],
   "source": [
    "seq_modules = nn.Sequential(\n",
    "                            flatten,\n",
    "                            layer1,\n",
    "                            nn.ReLU(),\n",
    "                            nn.Linear(20, 10)\n",
    ")\n",
    "\n",
    "input_image = torch.rand(3, 28, 28)\n",
    "logits = seq_modules(input_image)"
   ]
  },
  {
   "cell_type": "code",
   "execution_count": 50,
   "id": "1a1cbdb5-4001-4565-9b70-4338323ffc03",
   "metadata": {},
   "outputs": [],
   "source": [
    "softmax = nn.Softmax(dim = 1)\n",
    "pred_probab = softmax(logits)"
   ]
  },
  {
   "cell_type": "markdown",
   "id": "e3dab441-e2b7-4e79-97d2-e0568aaa8708",
   "metadata": {},
   "source": [
    "### 모델 매개변수 확인"
   ]
  },
  {
   "cell_type": "code",
   "execution_count": 52,
   "id": "61525361-8984-482e-96d6-476b146bdad2",
   "metadata": {},
   "outputs": [
    {
     "name": "stdout",
     "output_type": "stream",
     "text": [
      "Layer: linear_relu_stack.0.weight | Size: <built-in method size of Parameter object at 0x7f700652aea0> | Values: tensor([[ 1.3846e-02, -2.4204e-02,  2.9069e-02,  ...,  1.2153e-02,\n",
      "         -2.6698e-04, -2.9304e-02],\n",
      "        [-3.2597e-02, -2.2273e-02,  3.6423e-03,  ...,  8.7197e-05,\n",
      "          1.2395e-02, -3.3895e-04]], grad_fn=<SliceBackward0>)\n",
      "\n",
      "Layer: linear_relu_stack.0.bias | Size: <built-in method size of Parameter object at 0x7f700652acc0> | Values: tensor([ 0.0312, -0.0265], grad_fn=<SliceBackward0>)\n",
      "\n",
      "Layer: linear_relu_stack.2.weight | Size: <built-in method size of Parameter object at 0x7f700652ab30> | Values: tensor([[-0.0230, -0.0155, -0.0393,  ..., -0.0372, -0.0098, -0.0258],\n",
      "        [-0.0318,  0.0297,  0.0089,  ...,  0.0250,  0.0376,  0.0006]],\n",
      "       grad_fn=<SliceBackward0>)\n",
      "\n",
      "Layer: linear_relu_stack.2.bias | Size: <built-in method size of Parameter object at 0x7f700652ac70> | Values: tensor([ 0.0347, -0.0095], grad_fn=<SliceBackward0>)\n",
      "\n",
      "Layer: linear_relu_stack.4.weight | Size: <built-in method size of Parameter object at 0x7f700652ad10> | Values: tensor([[ 0.0384, -0.0170,  0.0017,  ...,  0.0127, -0.0375, -0.0387],\n",
      "        [ 0.0393, -0.0180, -0.0107,  ..., -0.0145,  0.0296,  0.0112]],\n",
      "       grad_fn=<SliceBackward0>)\n",
      "\n",
      "Layer: linear_relu_stack.4.bias | Size: <built-in method size of Parameter object at 0x7f70067bab30> | Values: tensor([0.0123, 0.0144], grad_fn=<SliceBackward0>)\n",
      "\n"
     ]
    }
   ],
   "source": [
    "for name, param in model.named_parameters():\n",
    "    print(f'Layer: {name} | Size: {param.size} | Values: {param[:2]}\\n')"
   ]
  },
  {
   "cell_type": "code",
   "execution_count": null,
   "id": "a0cf8413-7a41-44bd-b584-9e01ab284b34",
   "metadata": {},
   "outputs": [],
   "source": []
  }
 ],
 "metadata": {
  "kernelspec": {
   "display_name": "Python 3 (ipykernel)",
   "language": "python",
   "name": "python3"
  },
  "language_info": {
   "codemirror_mode": {
    "name": "ipython",
    "version": 3
   },
   "file_extension": ".py",
   "mimetype": "text/x-python",
   "name": "python",
   "nbconvert_exporter": "python",
   "pygments_lexer": "ipython3",
   "version": "3.9.16"
  }
 },
 "nbformat": 4,
 "nbformat_minor": 5
}
