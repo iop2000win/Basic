{
 "cells": [
  {
   "cell_type": "code",
   "execution_count": 54,
   "id": "466c201e",
   "metadata": {},
   "outputs": [],
   "source": [
    "import numpy as np\n",
    "\n",
    "import torch\n",
    "\n",
    "from torch import nn\n",
    "from torch.utils.data import DataLoader\n",
    "from torchvision import datasets\n",
    "from torchvision.transforms import ToTensor"
   ]
  },
  {
   "cell_type": "markdown",
   "id": "e4b7937c",
   "metadata": {},
   "source": [
    "### 데이터 작업하기"
   ]
  },
  {
   "cell_type": "code",
   "execution_count": 29,
   "id": "265bf455",
   "metadata": {
    "scrolled": true
   },
   "outputs": [
    {
     "name": "stdout",
     "output_type": "stream",
     "text": [
      "Shape of X [N, C, H, W]: torch.Size([64, 1, 28, 28])\n",
      "Shape of y: torch.Size([64]) (torch.int64)\n"
     ]
    }
   ],
   "source": [
    "train_data = datasets.FashionMNIST(\n",
    "                                    root = 'data',\n",
    "                                    train = True,\n",
    "                                    download = True,\n",
    "                                    transform = ToTensor(),\n",
    ")\n",
    "\n",
    "test_data = datasets.FashionMNIST(\n",
    "                                    root = 'data',\n",
    "                                    train = False,\n",
    "                                    download = True,\n",
    "                                    transform = ToTensor(),\n",
    ")\n",
    "\n",
    "batch_size = 64\n",
    "\n",
    "# 데이터로더 생성\n",
    "train_dataloader = DataLoader(train_data, batch_size = batch_size)\n",
    "test_dataloader = DataLoader(test_data, batch_size = batch_size)\n",
    "\n",
    "for X, y in test_dataloader:\n",
    "    print(f'Shape of X [N, C, H, W]: {X.shape}')\n",
    "    print(f'Shape of y: {y.shape} ({y.dtype})')\n",
    "    \n",
    "    break"
   ]
  },
  {
   "cell_type": "markdown",
   "id": "cbd17b3b",
   "metadata": {},
   "source": [
    "### 모델 만들기"
   ]
  },
  {
   "cell_type": "code",
   "execution_count": 30,
   "id": "2073deb3",
   "metadata": {},
   "outputs": [
    {
     "name": "stdout",
     "output_type": "stream",
     "text": [
      "Using cpu: device\n",
      "NeuralNetwork(\n",
      "  (flatten): Flatten(start_dim=1, end_dim=-1)\n",
      "  (linear_relu_stack): Sequential(\n",
      "    (0): Linear(in_features=784, out_features=512, bias=True)\n",
      "    (1): ReLU()\n",
      "    (2): Linear(in_features=512, out_features=512, bias=True)\n",
      "    (3): ReLU()\n",
      "    (4): Linear(in_features=512, out_features=10, bias=True)\n",
      "  )\n",
      ")\n"
     ]
    }
   ],
   "source": [
    "device = 'cpu'\n",
    "print(f'Using {device}: device')\n",
    "\n",
    "# model define\n",
    "class NeuralNetwork(nn.Module):\n",
    "    def __init__(self):\n",
    "        super().__init__() # nn.Module 클래스를 상속 클래스로 가져온다.\n",
    "        self.flatten = nn.Flatten()\n",
    "        self.linear_relu_stack = nn.Sequential(\n",
    "                                                nn.Linear(28  * 28, 512),\n",
    "                                                nn.ReLU(),\n",
    "                                                nn.Linear(512, 512),\n",
    "                                                nn.ReLU(),\n",
    "                                                nn.Linear(512, 10)\n",
    "        )\n",
    "        \n",
    "    def forward(self, x):\n",
    "        x = self.flatten(x)\n",
    "        \n",
    "        logits = self.linear_relu_stack(x)\n",
    "        \n",
    "        return logits\n",
    "    \n",
    "\n",
    "model = NeuralNetwork().to(device)\n",
    "print(model)"
   ]
  },
  {
   "cell_type": "markdown",
   "id": "547f8ea0",
   "metadata": {},
   "source": [
    "### 모델 매개변수 최적화하기"
   ]
  },
  {
   "cell_type": "code",
   "execution_count": 31,
   "id": "d37b54a6",
   "metadata": {},
   "outputs": [],
   "source": [
    "# 손실함수\n",
    "loss_fn = nn.CrossEntropyLoss()\n",
    "\n",
    "# 최적화 함수\n",
    "optimizer = torch.optim.SGD(model.parameters(), lr = 1e-3)"
   ]
  },
  {
   "cell_type": "code",
   "execution_count": 42,
   "id": "946c9064",
   "metadata": {},
   "outputs": [],
   "source": [
    "def train(dataloader, model, loss_fn, optimizer):\n",
    "    size = len(dataloader.dataset)\n",
    "    \n",
    "    for batch, (X, y) in enumerate(dataloader):\n",
    "        X, y = X.to(device), y.to(device)\n",
    "        \n",
    "        # 예측 오류 계산\n",
    "        pred = model(X)\n",
    "        loss = loss_fn(pred, y) #  nn.CrossEntropyLoss()(pred, y)\n",
    "        \n",
    "        # 역전파\n",
    "        optimizer.zero_grad()\n",
    "        loss.backward()\n",
    "        optimizer.step()\n",
    "        \n",
    "        if batch % 100 == 0:\n",
    "            loss, current = loss.item(), batch * len(X)\n",
    "            print(f'loss: {loss:>7f} [{current:>5d}/{size:>5d}]')\n",
    "            \n",
    "            \n",
    "def test(dataloader, model, loss_fn):\n",
    "    size = len(dataloader.dataset)\n",
    "    num_batches = len(dataloader)\n",
    "    \n",
    "    model.eval()\n",
    "    \n",
    "    test_loss, correct = 0, 0\n",
    "    with torch.no_grad():\n",
    "        for X, y in dataloader:\n",
    "            X, y = X.to(device), y.to(device)\n",
    "            \n",
    "            pred = model(X)\n",
    "            test_loss += loss_fn(pred, y).item()\n",
    "            correct += (pred.argmax(1) == y).type(torch.float).sum().item()\n",
    "            \n",
    "    test_loss /= num_batches # 배치 단위로 평균 값을 구하는 것\n",
    "    correct /= size\n",
    "    \n",
    "    print(f'Test Error: \\n Accuracy: {(100 * correct):>0.1f}%, Avg loss: {test_loss:>8f}\\n')"
   ]
  },
  {
   "cell_type": "code",
   "execution_count": 43,
   "id": "70f5162c",
   "metadata": {},
   "outputs": [
    {
     "name": "stdout",
     "output_type": "stream",
     "text": [
      "Epoch 1\n",
      "--------------------------\n",
      "loss: 1.921444 [    0/60000]\n",
      "loss: 1.900442 [ 6400/60000]\n",
      "loss: 1.776031 [12800/60000]\n",
      "loss: 1.824465 [19200/60000]\n",
      "loss: 1.727718 [25600/60000]\n",
      "loss: 1.663459 [32000/60000]\n",
      "loss: 1.688415 [38400/60000]\n",
      "loss: 1.581881 [44800/60000]\n",
      "loss: 1.609367 [51200/60000]\n",
      "loss: 1.508349 [57600/60000]\n",
      "Test Error: \n",
      " Accuracy: 63.6%, Avg loss: 1.515429\n",
      "\n",
      "Epoch 2\n",
      "--------------------------\n",
      "loss: 1.581369 [    0/60000]\n",
      "loss: 1.555866 [ 6400/60000]\n",
      "loss: 1.397086 [12800/60000]\n",
      "loss: 1.476476 [19200/60000]\n",
      "loss: 1.360474 [25600/60000]\n",
      "loss: 1.344947 [32000/60000]\n",
      "loss: 1.366002 [38400/60000]\n",
      "loss: 1.280496 [44800/60000]\n",
      "loss: 1.321052 [51200/60000]\n",
      "loss: 1.225077 [57600/60000]\n",
      "Test Error: \n",
      " Accuracy: 65.0%, Avg loss: 1.239481\n",
      "\n",
      "Epoch 3\n",
      "--------------------------\n",
      "loss: 1.319220 [    0/60000]\n",
      "loss: 1.310707 [ 6400/60000]\n",
      "loss: 1.138401 [12800/60000]\n",
      "loss: 1.250935 [19200/60000]\n",
      "loss: 1.121141 [25600/60000]\n",
      "loss: 1.142994 [32000/60000]\n",
      "loss: 1.173743 [38400/60000]\n",
      "loss: 1.098164 [44800/60000]\n",
      "loss: 1.142670 [51200/60000]\n",
      "loss: 1.066034 [57600/60000]\n",
      "Test Error: \n",
      " Accuracy: 66.0%, Avg loss: 1.071625\n",
      "\n",
      "Epoch 4\n",
      "--------------------------\n",
      "loss: 1.147554 [    0/60000]\n",
      "loss: 1.159301 [ 6400/60000]\n",
      "loss: 0.971857 [12800/60000]\n",
      "loss: 1.112460 [19200/60000]\n",
      "loss: 0.977858 [25600/60000]\n",
      "loss: 1.010493 [32000/60000]\n",
      "loss: 1.058434 [38400/60000]\n",
      "loss: 0.985309 [44800/60000]\n",
      "loss: 1.028701 [51200/60000]\n",
      "loss: 0.968763 [57600/60000]\n",
      "Test Error: \n",
      " Accuracy: 67.2%, Avg loss: 0.964919\n",
      "\n",
      "Epoch 5\n",
      "--------------------------\n",
      "loss: 1.030555 [    0/60000]\n",
      "loss: 1.062295 [ 6400/60000]\n",
      "loss: 0.858966 [12800/60000]\n",
      "loss: 1.020952 [19200/60000]\n",
      "loss: 0.889547 [25600/60000]\n",
      "loss: 0.917711 [32000/60000]\n",
      "loss: 0.983984 [38400/60000]\n",
      "loss: 0.912800 [44800/60000]\n",
      "loss: 0.950433 [51200/60000]\n",
      "loss: 0.904057 [57600/60000]\n",
      "Test Error: \n",
      " Accuracy: 68.4%, Avg loss: 0.892428\n",
      "\n",
      "done\n"
     ]
    }
   ],
   "source": [
    "epochs = 5\n",
    "\n",
    "for t in range(epochs):\n",
    "    print(f'Epoch {t+1}\\n--------------------------')\n",
    "    \n",
    "    train(train_dataloader, model, loss_fn, optimizer)\n",
    "    test(train_dataloader, model, loss_fn)\n",
    "    \n",
    "print('done')"
   ]
  },
  {
   "cell_type": "markdown",
   "id": "19f8bbbe",
   "metadata": {},
   "source": [
    "### 모델 저장 및 불러오기"
   ]
  },
  {
   "cell_type": "code",
   "execution_count": 44,
   "id": "11168277",
   "metadata": {},
   "outputs": [
    {
     "name": "stdout",
     "output_type": "stream",
     "text": [
      "Saved PyTorch Model State to pytorch_basic_model.pth\n"
     ]
    }
   ],
   "source": [
    "torch.save(model.state_dict(), './data/pytorch_basic_model.pth')\n",
    "print('Saved PyTorch Model State to pytorch_basic_model.pth')"
   ]
  },
  {
   "cell_type": "code",
   "execution_count": 47,
   "id": "e313494d",
   "metadata": {},
   "outputs": [
    {
     "data": {
      "text/plain": [
       "<All keys matched successfully>"
      ]
     },
     "execution_count": 47,
     "metadata": {},
     "output_type": "execute_result"
    }
   ],
   "source": [
    "model = NeuralNetwork()\n",
    "model.load_state_dict(torch.load('./data/pytorch_basic_model.pth'))"
   ]
  },
  {
   "cell_type": "code",
   "execution_count": 48,
   "id": "87eff517",
   "metadata": {},
   "outputs": [
    {
     "name": "stdout",
     "output_type": "stream",
     "text": [
      "Predicted: \"Ankle boot\", Actual: \"Ankle boot\"\n"
     ]
    }
   ],
   "source": [
    "classes = [\n",
    "            \"T-shirt/top\",\n",
    "            \"Trouser\",\n",
    "            \"Pullover\",\n",
    "            \"Dress\",\n",
    "            \"Coat\",\n",
    "            \"Sandal\",\n",
    "            \"Shirt\",\n",
    "            \"Sneaker\",\n",
    "            \"Bag\",\n",
    "            \"Ankle boot\",\n",
    "]\n",
    "\n",
    "model.eval()\n",
    "\n",
    "x, y = test_data[0][0], test_data[0][1]\n",
    "\n",
    "with torch.no_grad():\n",
    "    pred = model(x)\n",
    "    predicted, actual = classes[pred[0].argmax(0)], classes[y]\n",
    "    \n",
    "    print(f'Predicted: \"{predicted}\", Actual: \"{actual}\"')"
   ]
  },
  {
   "cell_type": "markdown",
   "id": "91f13473",
   "metadata": {},
   "source": [
    "\n",
    "--------------------------------\n"
   ]
  },
  {
   "cell_type": "markdown",
   "id": "504ca265",
   "metadata": {},
   "source": [
    "# 텐서 (Tensor)"
   ]
  },
  {
   "cell_type": "markdown",
   "id": "be5ebd8b",
   "metadata": {},
   "source": [
    "### 텐서 초기화"
   ]
  },
  {
   "cell_type": "code",
   "execution_count": 52,
   "id": "6107192c",
   "metadata": {},
   "outputs": [
    {
     "name": "stdout",
     "output_type": "stream",
     "text": [
      "[[1, 2], [3, 4]] <class 'list'>\n",
      "tensor([[1, 2],\n",
      "        [3, 4]]) torch.Size([2, 2]) <class 'torch.Tensor'>\n"
     ]
    }
   ],
   "source": [
    "data = [[1, 2], [3, 4]]\n",
    "x_data = torch.tensor(data)\n",
    "\n",
    "print(data, type(data))\n",
    "print(x_data, x_data.shape, type(x_data))"
   ]
  },
  {
   "cell_type": "markdown",
   "id": "9ce79da3",
   "metadata": {},
   "source": [
    "torch.tensor 메서드를 통해, 리스트 타입의 데이터를 텐서 타입으로 변경한다. 텐서의 경우 형태(shape)을 가진다."
   ]
  },
  {
   "cell_type": "code",
   "execution_count": 59,
   "id": "379ee6e0",
   "metadata": {},
   "outputs": [
    {
     "name": "stdout",
     "output_type": "stream",
     "text": [
      "[[1, 2], [3, 4]] <class 'list'>\n",
      "[[1 2]\n",
      " [3 4]] <class 'numpy.ndarray'>\n",
      "tensor([[1, 2],\n",
      "        [3, 4]], dtype=torch.int32) torch.Size([2, 2]) <class 'torch.Tensor'>\n",
      "tensor([[1, 2],\n",
      "        [3, 4]], dtype=torch.int32) torch.Size([2, 2]) <class 'torch.Tensor'>\n"
     ]
    }
   ],
   "source": [
    "data = [[1, 2], [3, 4]]\n",
    "np_array = np.array(data)\n",
    "\n",
    "x_np_1 = torch.tensor(np_array)\n",
    "x_np_2 = torch.from_numpy(np_array)\n",
    "\n",
    "print(data, type(data))\n",
    "print(np_array, type(np_array))\n",
    "print(x_np_1, x_np_1.shape, type(x_np_1))\n",
    "print(x_np_2, x_np_2.shape, type(x_np_2))"
   ]
  },
  {
   "cell_type": "markdown",
   "id": "d805d01d",
   "metadata": {},
   "source": [
    "numpy array 데이트를 텐서로 변경할 경우, 리스트를 변경하던 것과 같이 torch.tensor 메서드로도 변경이 가능하고\n",
    "\n",
    "torch.from_numpy 메서드를 통해서도 변경이 가능하다."
   ]
  },
  {
   "cell_type": "code",
   "execution_count": 74,
   "id": "3d67c520",
   "metadata": {},
   "outputs": [
    {
     "name": "stdout",
     "output_type": "stream",
     "text": [
      "Org Tensor:\n",
      " tensor([[1, 2],\n",
      "        [3, 4]])\n",
      "Ones Tensor:\n",
      " tensor([[1, 1],\n",
      "        [1, 1]])\n",
      "Random Tensor:\n",
      " tensor([[0.2364, 0.9786],\n",
      "        [0.0341, 0.1483]])\n"
     ]
    }
   ],
   "source": [
    "x_ones = torch.ones_like(x_data)\n",
    "\n",
    "print(f'Org Tensor:\\n {x_data}')\n",
    "print(f'Ones Tensor:\\n {x_ones}')\n",
    "\n",
    "x_rand_float = torch.rand_like(x_data, dtype = torch.float) # 텐서를 구성하는 데이터의 타입을 변경할 경우, 명시해주어야 한다.\n",
    "\n",
    "print(f'Random Tensor:\\n {x_rand_float}')"
   ]
  },
  {
   "cell_type": "code",
   "execution_count": 76,
   "id": "a08aefb2",
   "metadata": {},
   "outputs": [
    {
     "name": "stdout",
     "output_type": "stream",
     "text": [
      "Random Tensor: \n",
      " tensor([[[0.6306],\n",
      "         [0.7636],\n",
      "         [0.5492]],\n",
      "\n",
      "        [[0.5855],\n",
      "         [0.1014],\n",
      "         [0.1427]]])\n",
      "\n",
      "Ones Tensor: \n",
      " tensor([[[1.],\n",
      "         [1.],\n",
      "         [1.]],\n",
      "\n",
      "        [[1.],\n",
      "         [1.],\n",
      "         [1.]]])\n",
      "\n",
      "Zeros Tensor: \n",
      " tensor([[[0.],\n",
      "         [0.],\n",
      "         [0.]],\n",
      "\n",
      "        [[0.],\n",
      "         [0.],\n",
      "         [0.]]])\n"
     ]
    }
   ],
   "source": [
    "shape = (2, 3, 1)\n",
    "\n",
    "rand_tensor = torch.rand(shape)\n",
    "ones_tensor = torch.ones(shape)\n",
    "zeros_tensor = torch.zeros(shape)\n",
    "\n",
    "print(f'Random Tensor: \\n {rand_tensor}\\n')\n",
    "print(f'Ones Tensor: \\n {ones_tensor}\\n')\n",
    "print(f'Zeros Tensor: \\n {zeros_tensor}')"
   ]
  },
  {
   "cell_type": "code",
   "execution_count": 85,
   "id": "0f73c97c",
   "metadata": {},
   "outputs": [
    {
     "name": "stdout",
     "output_type": "stream",
     "text": [
      "Random Tensor: \n",
      " tensor([[0.6434, 0.6479, 0.2607],\n",
      "        [0.0702, 0.3801, 0.1208]])\n",
      "\n",
      "Ones Tensor: \n",
      " tensor([[1., 1., 1.],\n",
      "        [1., 1., 1.]])\n",
      "\n",
      "Zeros Tensor: \n",
      " tensor([[0., 0., 0.],\n",
      "        [0., 0., 0.]])\n"
     ]
    }
   ],
   "source": [
    "shape = (2, 3, )\n",
    "\n",
    "rand_tensor = torch.rand(shape)\n",
    "ones_tensor = torch.ones(shape)\n",
    "zeros_tensor = torch.zeros(shape)\n",
    "\n",
    "print(f'Random Tensor: \\n {rand_tensor}\\n')\n",
    "print(f'Ones Tensor: \\n {ones_tensor}\\n')\n",
    "print(f'Zeros Tensor: \\n {zeros_tensor}')"
   ]
  },
  {
   "cell_type": "markdown",
   "id": "9a56c8ee",
   "metadata": {},
   "source": [
    "### 텐서의 속성"
   ]
  },
  {
   "cell_type": "code",
   "execution_count": 92,
   "id": "7533cb67",
   "metadata": {},
   "outputs": [
    {
     "name": "stdout",
     "output_type": "stream",
     "text": [
      "Shape of tensor: torch.Size([3, 4, 2])\n",
      "Datatype of tensor: torch.float32\n",
      "Device tensor is stored on: cpu\n"
     ]
    }
   ],
   "source": [
    "tensor = torch.rand(3, 4, 2)\n",
    "\n",
    "print(f'Shape of tensor: {tensor.shape}')\n",
    "print(f'Datatype of tensor: {tensor.dtype}')\n",
    "print(f'Device tensor is stored on: {tensor.device}')"
   ]
  },
  {
   "cell_type": "markdown",
   "id": "c346921d",
   "metadata": {},
   "source": [
    "### 텐서의 연산"
   ]
  },
  {
   "cell_type": "code",
   "execution_count": 94,
   "id": "ab60b28a",
   "metadata": {},
   "outputs": [],
   "source": [
    "# GPU가 존재하면 텐서를 이동한다.\n",
    "if torch.cuda.is_available():\n",
    "    tensor = tensor.to('cuda')"
   ]
  },
  {
   "cell_type": "code",
   "execution_count": 96,
   "id": "7969c627",
   "metadata": {},
   "outputs": [
    {
     "name": "stdout",
     "output_type": "stream",
     "text": [
      "tensor([[1., 1., 1., 1.],\n",
      "        [1., 1., 1., 1.],\n",
      "        [1., 1., 1., 1.],\n",
      "        [1., 1., 1., 1.]])\n",
      "First row: tensor([1., 1., 1., 1.])\n",
      "First column: tensor([1., 1., 1., 1.])\n",
      "Last column: tensor([1., 1., 1., 1.])\n"
     ]
    }
   ],
   "source": [
    "tensor = torch.ones(4, 4)\n",
    "\n",
    "print(tensor)\n",
    "print(f'First row: {tensor[0]}')\n",
    "print(f'First column: {tensor[:, 0]}')\n",
    "print(f'Last column: {tensor[:, -1]}')"
   ]
  },
  {
   "cell_type": "code",
   "execution_count": 97,
   "id": "9152ddfd",
   "metadata": {},
   "outputs": [
    {
     "name": "stdout",
     "output_type": "stream",
     "text": [
      "tensor([[1., 0., 1., 1.],\n",
      "        [1., 0., 1., 1.],\n",
      "        [1., 0., 1., 1.],\n",
      "        [1., 0., 1., 1.]])\n",
      "First row: tensor([1., 0., 1., 1.])\n",
      "First column: tensor([1., 1., 1., 1.])\n",
      "Last column: tensor([1., 1., 1., 1.])\n"
     ]
    }
   ],
   "source": [
    "tensor[:, 1] = 0 # 1열 값을 전부 0으로 변경\n",
    "\n",
    "print(tensor)\n",
    "print(f'First row: {tensor[0]}')\n",
    "print(f'First column: {tensor[:, 0]}')\n",
    "print(f'Last column: {tensor[:, -1]}')"
   ]
  },
  {
   "cell_type": "code",
   "execution_count": 114,
   "id": "ebd91d86",
   "metadata": {},
   "outputs": [
    {
     "name": "stdout",
     "output_type": "stream",
     "text": [
      "torch.Size([8, 4])\n",
      "tensor([[1., 0., 1., 1.],\n",
      "        [1., 0., 1., 1.],\n",
      "        [1., 0., 1., 1.],\n",
      "        [1., 0., 1., 1.],\n",
      "        [1., 0., 1., 1.],\n",
      "        [1., 0., 1., 1.],\n",
      "        [1., 0., 1., 1.],\n",
      "        [1., 0., 1., 1.]])\n",
      "torch.Size([4, 8])\n",
      "tensor([[1., 0., 1., 1., 1., 0., 1., 1.],\n",
      "        [1., 0., 1., 1., 1., 0., 1., 1.],\n",
      "        [1., 0., 1., 1., 1., 0., 1., 1.],\n",
      "        [1., 0., 1., 1., 1., 0., 1., 1.]])\n"
     ]
    }
   ],
   "source": [
    "print(torch.cat([tensor, tensor], dim = 0).shape)\n",
    "print(torch.cat([tensor, tensor], dim = 0))\n",
    "\n",
    "print(torch.cat([tensor, tensor], dim = 1).shape)\n",
    "print(torch.cat([tensor, tensor], dim = 1))"
   ]
  },
  {
   "cell_type": "code",
   "execution_count": 124,
   "id": "46c5bfb9",
   "metadata": {},
   "outputs": [
    {
     "name": "stdout",
     "output_type": "stream",
     "text": [
      "torch.Size([4, 2, 4])\n",
      "tensor([[[1., 0., 1., 1.],\n",
      "         [1., 0., 1., 1.]],\n",
      "\n",
      "        [[1., 0., 1., 1.],\n",
      "         [1., 0., 1., 1.]],\n",
      "\n",
      "        [[1., 0., 1., 1.],\n",
      "         [1., 0., 1., 1.]],\n",
      "\n",
      "        [[1., 0., 1., 1.],\n",
      "         [1., 0., 1., 1.]]])\n"
     ]
    }
   ],
   "source": [
    "# 지정해준 차원(dim 값)에 데이터를 stack 하는 것\n",
    "\n",
    "print(torch.stack([tensor, tensor], dim = 1).shape)\n",
    "print(torch.stack([tensor, tensor], dim = 1))"
   ]
  },
  {
   "cell_type": "code",
   "execution_count": 130,
   "id": "ed41f162",
   "metadata": {},
   "outputs": [
    {
     "data": {
      "text/plain": [
       "tensor([[3., 3., 3., 3.],\n",
       "        [3., 3., 3., 3.],\n",
       "        [3., 3., 3., 3.],\n",
       "        [3., 3., 3., 3.]])"
      ]
     },
     "execution_count": 130,
     "metadata": {},
     "output_type": "execute_result"
    }
   ],
   "source": [
    "# 텐서 간의 행렬 곱\n",
    "# @ = matmul 같은 기능\n",
    "\n",
    "y1 = tensor @ tensor.T\n",
    "y2 = tensor.matmul(tensor.T)\n",
    "\n",
    "y3 = torch.rand_like(y1)\n",
    "torch.matmul(tensor, tensor.T, out = y3)"
   ]
  },
  {
   "cell_type": "code",
   "execution_count": 135,
   "id": "deafbc55",
   "metadata": {},
   "outputs": [
    {
     "data": {
      "text/plain": [
       "tensor([[1., 0., 1., 1.],\n",
       "        [1., 0., 1., 1.],\n",
       "        [1., 0., 1., 1.],\n",
       "        [1., 0., 1., 1.]])"
      ]
     },
     "execution_count": 135,
     "metadata": {},
     "output_type": "execute_result"
    }
   ],
   "source": [
    "# 요소별 곱\n",
    "\n",
    "z1 = tensor * tensor\n",
    "z2 = tensor.mul(tensor)\n",
    "\n",
    "z3 = torch.rand_like(tensor)\n",
    "torch.mul(tensor, tensor, out = z3)"
   ]
  },
  {
   "cell_type": "code",
   "execution_count": null,
   "id": "d260ffcb",
   "metadata": {},
   "outputs": [],
   "source": []
  },
  {
   "cell_type": "code",
   "execution_count": null,
   "id": "cbab5102",
   "metadata": {},
   "outputs": [],
   "source": []
  },
  {
   "cell_type": "code",
   "execution_count": null,
   "id": "2898cc51",
   "metadata": {},
   "outputs": [],
   "source": []
  },
  {
   "cell_type": "code",
   "execution_count": null,
   "id": "7db6749e",
   "metadata": {},
   "outputs": [],
   "source": []
  }
 ],
 "metadata": {
  "kernelspec": {
   "display_name": "Python 3 (ipykernel)",
   "language": "python",
   "name": "python3"
  },
  "language_info": {
   "codemirror_mode": {
    "name": "ipython",
    "version": 3
   },
   "file_extension": ".py",
   "mimetype": "text/x-python",
   "name": "python",
   "nbconvert_exporter": "python",
   "pygments_lexer": "ipython3",
   "version": "3.9.15"
  }
 },
 "nbformat": 4,
 "nbformat_minor": 5
}
