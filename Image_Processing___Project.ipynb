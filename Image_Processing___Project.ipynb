{
 "cells": [
  {
   "cell_type": "markdown",
   "id": "8cf4d8d5",
   "metadata": {},
   "source": [
    "# 얼굴을 인식하여 캐릭터 씌우기"
   ]
  },
  {
   "cell_type": "markdown",
   "id": "6f682119",
   "metadata": {},
   "source": [
    "### Face Detection vs. Face Recognition"
   ]
  },
  {
   "cell_type": "code",
   "execution_count": 4,
   "id": "c830508d",
   "metadata": {},
   "outputs": [],
   "source": [
    "import numpy as np\n",
    "\n",
    "import cv2\n",
    "import mediapipe as mp\n",
    "\n",
    "video_path = './Data/face_video.mp4'"
   ]
  },
  {
   "cell_type": "code",
   "execution_count": 18,
   "id": "f1da3d84",
   "metadata": {},
   "outputs": [],
   "source": [
    "# 얼굴을 찾고, 찾은 얼굴에 표시를 해주기 위한 변수 정의\n",
    "mp_face_detection = mp.solutions.face_detection # 얼굴 검출을 위한 face_detection 모듈 사용\n",
    "mp_drawing = mp.solutions.drawing_utils # 얼골의 특징을 그리기 위한 drawing_utils 모듈 사용\n",
    "\n",
    "# 동영상 파일 열기\n",
    "cap = cv2.VideoCapture(video_path)\n",
    "\n",
    "# 이미지 불러오기\n",
    "\n",
    "# 투명도 적용하기\n",
    "def overlay(image, x, y, w, h, overlay_img):\n",
    "    alpha = overlay_img[:, :, 3] # BGRA\n",
    "    mask_img = alpha / 255 # (1: 불투명, 0 : 완전투명)\n",
    "    \n",
    "    for c in range(0, 3):\n",
    "        image[y-h:y+h, x-w:x+w, c] = (overlay_img[:, :, c] * mask_img) + (image[y-h:y+h, x-w:x+w, c] * (1-mask_img))\n",
    "\n",
    "\n",
    "with mp_face_detection.FaceDetection(model_selection = 0,\n",
    "                                    min_detection_confidence = 0.7) as face_detection:\n",
    "    # model_selection = (0 or 1) 가까운 거리 0, 먼 거리 1\n",
    "    # min_detection_confidence = 어느정도 신뢰도로 얼굴로 판단을 내리고 있는지\n",
    "    \n",
    "    while cap.isOpened():\n",
    "        ret, frame = cap.read()\n",
    "\n",
    "        if not ret:\n",
    "            break\n",
    "\n",
    "        # To improve performance, optionally mark the image as not writeable to\n",
    "        # pass by reference.\n",
    "        frame.flags.writeable = False\n",
    "        frame = cv2.cvtColor(frame, cv2.COLOR_BGR2RGB)\n",
    "        results = face_detection.process(frame)\n",
    "\n",
    "        # Draw the face detection annotations on the image.\n",
    "        frame.flags.writeable = True\n",
    "        frame = cv2.cvtColor(frame, cv2.COLOR_RGB2BGR)\n",
    "        if results.detections:\n",
    "            # 6개 특징 : 오른쪽 눈, 왼쪽 눈, 코 끝, 입 중심, 오른쪽 퀴, 왼쪽 귀\n",
    "            for detection in results.detections:\n",
    "#                 mp_drawing.draw_detection(frame, detection)\n",
    "                \n",
    "                # 특정 위치 가져오기\n",
    "                keypoints = detection.location_data.relative_keypoints\n",
    "                right_eye = keypoints[0]\n",
    "                left_eye = keypoints[1]\n",
    "                nose_tip = keypoints[2]\n",
    "                \n",
    "                h, w, _ = frame.shape\n",
    "                right_eye = (int(right_eye.x * w)-20, int(right_eye.y * h)-100)\n",
    "                left_eye = (int(left_eye.x * w), int(left_eye.y * h))\n",
    "                nose_tip = (int(nose_tip.x * w), int(nose_tip.y * h))\n",
    "                \n",
    "#                 # 양 눈에 동그라미 그리기\n",
    "#                 cv2.circle(frame, right_eye, 50, (255, 0, 0), 10, cv2.LINE_AA)\n",
    "#                 cv2.circle(frame, left_eye, 50, (0, 255, 0), 10, cv2.LINE_AA)\n",
    "#                 # 코에 동그라미 그리기\n",
    "#                 cv2. circle(frame, nose_tip, 75, (0, 255, 255), 10, cv2.LINE_AA)\n",
    "\n",
    "#                 # 각 특징에 이미지 그리기\n",
    "#                 image[right_eye[1]-50:right_eye[1]+50,\n",
    "#                       right_eye[0]-50:right_eye[1]+50] = image_right_eye\n",
    "#                 image[left_eye[1]-50:left_eye[1]+50,\n",
    "#                       left_eye[0]-50:left_eye[1]+50] = image_left_eye\n",
    "#                 image[nose_tip[1]-50:nose_tip[1]+50,\n",
    "#                       nose_tip[0]-150:nose_tip[1]+150] = image_nose\n",
    "\n",
    "                # ovaray image 적용\n",
    "                overlay(image, *right_eye, 50, 50, image_right_eye)\n",
    "                overlay(image, *left_eye, 50, 50, image_left_eye)\n",
    "                overlay(image, *nose_tip, 50, 50, image_nose)\n",
    "\n",
    "        \n",
    "        cv2.imshow('MediaPipe Face Detection', cv2.resize(frame, None, fx = 0.5, fy = 0.5))\n",
    "        \n",
    "        if cv2.waitKey(1) == ord('q'):\n",
    "            break\n",
    "\n",
    "cap.release()\n",
    "cv2.destroyAllWindows()"
   ]
  },
  {
   "cell_type": "markdown",
   "id": "3f595190",
   "metadata": {},
   "source": [
    "### 학습 자료\n",
    "> https://opencv-python.readthedocs.io/en/latest/"
   ]
  }
 ],
 "metadata": {
  "kernelspec": {
   "display_name": "Python 3",
   "language": "python",
   "name": "python3"
  },
  "language_info": {
   "codemirror_mode": {
    "name": "ipython",
    "version": 3
   },
   "file_extension": ".py",
   "mimetype": "text/x-python",
   "name": "python",
   "nbconvert_exporter": "python",
   "pygments_lexer": "ipython3",
   "version": "3.8.10"
  }
 },
 "nbformat": 4,
 "nbformat_minor": 5
}
