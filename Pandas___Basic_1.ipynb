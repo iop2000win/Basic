{
 "cells": [
  {
   "cell_type": "code",
   "execution_count": 3,
   "id": "69286320",
   "metadata": {},
   "outputs": [],
   "source": [
    "import numpy as np\n",
    "import pandas as pd\n",
    "\n",
    "import datetime\n",
    "\n",
    "# 판다스 렌더링 방식 제어 옵션\n",
    "pd.set_option('display.notebook_repr_html', False)\n",
    "pd.set_option('display.max_columns', 7) # 최대 몇개까지의 컬럼을 표시할 것인지 설정\n",
    "pd.set_option('display.max_rows', 10) # 최대 몇개까지의 로우를 표시할 것인지 설정\n",
    "pd.set_option('display.width', 60) # 한 셀에 최대 몇글자까지 표시할 것인지 설정"
   ]
  },
  {
   "cell_type": "markdown",
   "id": "89aa4839",
   "metadata": {},
   "source": [
    "# Pandas Series\n",
    "\n",
    "인덱스를 가지는 배열 형태의 자료구조"
   ]
  },
  {
   "cell_type": "code",
   "execution_count": 6,
   "id": "2b04c780",
   "metadata": {},
   "outputs": [
    {
     "name": "stdout",
     "output_type": "stream",
     "text": [
      "0    1\n",
      "1    2\n",
      "2    3\n",
      "3    4\n",
      "dtype: int64\n"
     ]
    }
   ],
   "source": [
    "s = pd.Series([1, 2, 3, 4])\n",
    "\n",
    "print(s)"
   ]
  },
  {
   "cell_type": "code",
   "execution_count": 13,
   "id": "6bcfc58f",
   "metadata": {},
   "outputs": [
    {
     "name": "stdout",
     "output_type": "stream",
     "text": [
      "1\n",
      "a    1\n",
      "dtype: int64\n",
      "b    2\n",
      "d    4\n",
      "dtype: int64\n"
     ]
    }
   ],
   "source": [
    "print(s[0])\n",
    "print(s[[0]]) # 대괄호안에 인덱스 리스트를 입력해주면, series 형태로 결과가 출력된다.\n",
    "print(s[[1, 3]]) # 여러 인덱스를 지정해 여러 값을 한번에 가져올 수 있다."
   ]
  },
  {
   "cell_type": "markdown",
   "id": "d8db70c1",
   "metadata": {},
   "source": [
    "### 사용자 정의 인덱스 생성"
   ]
  },
  {
   "cell_type": "code",
   "execution_count": 10,
   "id": "05d35dee",
   "metadata": {},
   "outputs": [
    {
     "name": "stdout",
     "output_type": "stream",
     "text": [
      "a    1\n",
      "b    2\n",
      "c    3\n",
      "d    4\n",
      "dtype: int64\n"
     ]
    }
   ],
   "source": [
    "# 시리즈의 값과 인덱스의 길이는 같아야 한다.\n",
    "s = pd.Series([1, 2, 3, 4],\n",
    "              index = ['a', 'b', 'c', 'd'])\n",
    "\n",
    "print(s)"
   ]
  },
  {
   "cell_type": "code",
   "execution_count": 19,
   "id": "dcd85ca2",
   "metadata": {},
   "outputs": [
    {
     "name": "stdout",
     "output_type": "stream",
     "text": [
      "인덱스 명으로 조회\n",
      "\n",
      " 1\n",
      "\n",
      " a    1\n",
      "dtype: int64\n",
      "\n",
      " b    2\n",
      "d    4\n",
      "dtype: int64\n",
      "-------------------------\n",
      "인덱스 위치 값으로 조회\n",
      "\n",
      " 1\n",
      "\n",
      " a    1\n",
      "dtype: int64\n",
      "\n",
      " b    2\n",
      "d    4\n",
      "dtype: int64\n"
     ]
    }
   ],
   "source": [
    "print('인덱스 명으로 조회')\n",
    "print('\\n', s['a'])\n",
    "print('\\n', s[['a']])\n",
    "print('\\n', s[['b', 'd']])\n",
    "\n",
    "print('-------------------------')\n",
    "print('인덱스 위치 값으로 조회')\n",
    "print('\\n', s[0])\n",
    "print('\\n', s[[0]])\n",
    "print('\\n', s[[1, 3]])"
   ]
  },
  {
   "cell_type": "code",
   "execution_count": 20,
   "id": "e9a1b10c",
   "metadata": {},
   "outputs": [
    {
     "name": "stdout",
     "output_type": "stream",
     "text": [
      "Index(['a', 'b', 'c', 'd'], dtype='object')\n"
     ]
    }
   ],
   "source": [
    "print(s.index) # 시리즈의 인덱스는 'index'라는 판다스 객체"
   ]
  },
  {
   "cell_type": "markdown",
   "id": "e7ecd761",
   "metadata": {},
   "source": [
    "### pd.date_range()\n",
    "\n",
    "날짜 범위 생성"
   ]
  },
  {
   "cell_type": "code",
   "execution_count": 21,
   "id": "29584852",
   "metadata": {},
   "outputs": [
    {
     "name": "stdout",
     "output_type": "stream",
     "text": [
      "DatetimeIndex(['2023-07-01', '2023-07-02', '2023-07-03',\n",
      "               '2023-07-04', '2023-07-05', '2023-07-06',\n",
      "               '2023-07-07'],\n",
      "              dtype='datetime64[ns]', freq='D')\n"
     ]
    }
   ],
   "source": [
    "dates = pd.date_range('2023-07-01', '2023-07-07')\n",
    "print(dates)"
   ]
  },
  {
   "cell_type": "code",
   "execution_count": 23,
   "id": "8f73c5e8",
   "metadata": {},
   "outputs": [
    {
     "name": "stdout",
     "output_type": "stream",
     "text": [
      "2023-07-01    80\n",
      "2023-07-02    82\n",
      "2023-07-03    85\n",
      "2023-07-04    90\n",
      "2023-07-05    83\n",
      "2023-07-06    87\n",
      "2023-07-07    88\n",
      "Freq: D, dtype: int64\n",
      "83\n"
     ]
    }
   ],
   "source": [
    "# dates를 인덱스로 시리즈 생성 - 시계열 데이터\n",
    "temps1 = pd.Series([80, 82, 85, 90, 83, 87, 88],\n",
    "                   index = dates)\n",
    "\n",
    "print(temps1)\n",
    "print(temps1['2023-07-05'])"
   ]
  },
  {
   "cell_type": "markdown",
   "id": "dbf3e8a9",
   "metadata": {},
   "source": [
    "### 시리즈 간의 산술 연산"
   ]
  },
  {
   "cell_type": "code",
   "execution_count": 24,
   "id": "793c5060",
   "metadata": {},
   "outputs": [
    {
     "name": "stdout",
     "output_type": "stream",
     "text": [
      "2023-07-01    10\n",
      "2023-07-02     7\n",
      "2023-07-03    16\n",
      "2023-07-04     7\n",
      "2023-07-05     4\n",
      "2023-07-06    10\n",
      "2023-07-07    17\n",
      "Freq: D, dtype: int64\n"
     ]
    }
   ],
   "source": [
    "temps2 = pd.Series([70, 75, 69, 83, 79, 77, 71],\n",
    "                   index = dates)\n",
    "\n",
    "temp_diff = temps1 - temps2\n",
    "print(temp_diff)"
   ]
  },
  {
   "cell_type": "code",
   "execution_count": 31,
   "id": "2b69cf6f",
   "metadata": {},
   "outputs": [
    {
     "name": "stdout",
     "output_type": "stream",
     "text": [
      "2023-07-01    10.0\n",
      "2023-07-02     7.0\n",
      "2023-07-03    16.0\n",
      "2023-07-04     7.0\n",
      "2023-07-05     4.0\n",
      "2023-07-06    10.0\n",
      "2023-07-07     NaN\n",
      "Freq: D, dtype: float64\n"
     ]
    }
   ],
   "source": [
    "# 만약 갯수가 다르면? -> 부족한 부분에 대해서는 None으로 채워진다.\n",
    "temps3 = pd.Series([70, 75, 69, 83, 79, 77],\n",
    "                   index = dates[:-1])\n",
    "\n",
    "temp_diff = temps1 - temps3\n",
    "print(temp_diff)"
   ]
  },
  {
   "cell_type": "code",
   "execution_count": 33,
   "id": "c846a874",
   "metadata": {},
   "outputs": [
    {
     "name": "stdout",
     "output_type": "stream",
     "text": [
      "0    ae\n",
      "1    bf\n",
      "2    cg\n",
      "3    dh\n",
      "dtype: object\n"
     ]
    }
   ],
   "source": [
    "# 스칼라 값이 아닌 Series 간의 산술 연산 결과는?\n",
    "s1 = pd.Series(['a', 'b', 'c', 'd'])\n",
    "s2 = pd.Series(['e', 'f', 'g', 'h'])\n",
    "\n",
    "diff = s1 + s2\n",
    "print(diff)"
   ]
  },
  {
   "cell_type": "code",
   "execution_count": 40,
   "id": "aa1f7f48",
   "metadata": {},
   "outputs": [
    {
     "name": "stdout",
     "output_type": "stream",
     "text": [
      "9.0\n",
      "54.0\n",
      "16.0\n",
      "4.0\n",
      "8.5\n"
     ]
    }
   ],
   "source": [
    "# 집계 계산 -e 집계를 위한 다양한 메서드 제공\n",
    "print(temp_diff.mean())\n",
    "print(temp_diff.sum())\n",
    "print(temp_diff.max())\n",
    "print(temp_diff.min())\n",
    "print(temp_diff.median())"
   ]
  }
 ],
 "metadata": {
  "kernelspec": {
   "display_name": "Python 3 (ipykernel)",
   "language": "python",
   "name": "python3"
  },
  "language_info": {
   "codemirror_mode": {
    "name": "ipython",
    "version": 3
   },
   "file_extension": ".py",
   "mimetype": "text/x-python",
   "name": "python",
   "nbconvert_exporter": "python",
   "pygments_lexer": "ipython3",
   "version": "3.9.15"
  }
 },
 "nbformat": 4,
 "nbformat_minor": 5
}
