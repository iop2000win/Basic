{
 "cells": [
  {
   "cell_type": "markdown",
   "id": "4a0235aa",
   "metadata": {},
   "source": [
    "# Chapter 2. pandas의 가동"
   ]
  },
  {
   "cell_type": "code",
   "execution_count": 2,
   "id": "6379e7f9",
   "metadata": {},
   "outputs": [],
   "source": [
    "import numpy as np\n",
    "import pandas as pd\n",
    "\n",
    "import datetime\n",
    "\n",
    "# 판다스 렌더링 방식 제어 옵션\n",
    "# pd.set_option('display.notebook_repr_html', False) # 표 형식으로 출력되는 것이 아니라, 텍스트 형식으로 출력\n",
    "pd.set_option('display.max_columns', 7) # 최대 몇개까지의 컬럼을 표시할 것인지 설정\n",
    "pd.set_option('display.max_rows', 10) # 최대 몇개까지의 로우를 표시할 것인지 설정\n",
    "pd.set_option('display.width', 60) # 한 셀에 최대 몇글자까지 표시할 것인지 설정"
   ]
  },
  {
   "cell_type": "markdown",
   "id": "4a10a8a9",
   "metadata": {},
   "source": [
    "# Pandas Series\n",
    "\n",
    "인덱스를 가지는 배열 형태의 자료구조"
   ]
  },
  {
   "cell_type": "code",
   "execution_count": 6,
   "id": "32539a0c",
   "metadata": {},
   "outputs": [
    {
     "name": "stdout",
     "output_type": "stream",
     "text": [
      "0    1\n",
      "1    2\n",
      "2    3\n",
      "3    4\n",
      "dtype: int64\n"
     ]
    }
   ],
   "source": [
    "s = pd.Series([1, 2, 3, 4])\n",
    "\n",
    "print(s)"
   ]
  },
  {
   "cell_type": "code",
   "execution_count": 13,
   "id": "3c7fc950",
   "metadata": {},
   "outputs": [
    {
     "name": "stdout",
     "output_type": "stream",
     "text": [
      "1\n",
      "a    1\n",
      "dtype: int64\n",
      "b    2\n",
      "d    4\n",
      "dtype: int64\n"
     ]
    }
   ],
   "source": [
    "print(s[0])\n",
    "print(s[[0]]) # 대괄호안에 인덱스 리스트를 입력해주면, series 형태로 결과가 출력된다.\n",
    "print(s[[1, 3]]) # 여러 인덱스를 지정해 여러 값을 한번에 가져올 수 있다."
   ]
  },
  {
   "cell_type": "markdown",
   "id": "e583007c",
   "metadata": {},
   "source": [
    "### 사용자 정의 인덱스 생성"
   ]
  },
  {
   "cell_type": "code",
   "execution_count": 10,
   "id": "31ab7542",
   "metadata": {},
   "outputs": [
    {
     "name": "stdout",
     "output_type": "stream",
     "text": [
      "a    1\n",
      "b    2\n",
      "c    3\n",
      "d    4\n",
      "dtype: int64\n"
     ]
    }
   ],
   "source": [
    "# 시리즈의 값과 인덱스의 길이는 같아야 한다.\n",
    "s = pd.Series([1, 2, 3, 4],\n",
    "              index = ['a', 'b', 'c', 'd'])\n",
    "\n",
    "print(s)"
   ]
  },
  {
   "cell_type": "code",
   "execution_count": 19,
   "id": "b0e826fc",
   "metadata": {},
   "outputs": [
    {
     "name": "stdout",
     "output_type": "stream",
     "text": [
      "인덱스 명으로 조회\n",
      "\n",
      " 1\n",
      "\n",
      " a    1\n",
      "dtype: int64\n",
      "\n",
      " b    2\n",
      "d    4\n",
      "dtype: int64\n",
      "-------------------------\n",
      "인덱스 위치 값으로 조회\n",
      "\n",
      " 1\n",
      "\n",
      " a    1\n",
      "dtype: int64\n",
      "\n",
      " b    2\n",
      "d    4\n",
      "dtype: int64\n"
     ]
    }
   ],
   "source": [
    "print('인덱스 명으로 조회')\n",
    "print('\\n', s['a'])\n",
    "print('\\n', s[['a']])\n",
    "print('\\n', s[['b', 'd']])\n",
    "\n",
    "print('-------------------------')\n",
    "print('인덱스 위치 값으로 조회')\n",
    "print('\\n', s[0])\n",
    "print('\\n', s[[0]])\n",
    "print('\\n', s[[1, 3]])"
   ]
  },
  {
   "cell_type": "code",
   "execution_count": 20,
   "id": "a992cac7",
   "metadata": {},
   "outputs": [
    {
     "name": "stdout",
     "output_type": "stream",
     "text": [
      "Index(['a', 'b', 'c', 'd'], dtype='object')\n"
     ]
    }
   ],
   "source": [
    "print(s.index) # 시리즈의 인덱스는 'index'라는 판다스 객체"
   ]
  },
  {
   "cell_type": "markdown",
   "id": "351a09b5",
   "metadata": {},
   "source": [
    "### pd.date_range()\n",
    "\n",
    "날짜 범위 생성"
   ]
  },
  {
   "cell_type": "code",
   "execution_count": 5,
   "id": "8933d3e0",
   "metadata": {},
   "outputs": [
    {
     "name": "stdout",
     "output_type": "stream",
     "text": [
      "DatetimeIndex(['2023-07-01', '2023-07-02', '2023-07-03',\n",
      "               '2023-07-04', '2023-07-05', '2023-07-06',\n",
      "               '2023-07-07'],\n",
      "              dtype='datetime64[ns]', freq='D')\n"
     ]
    }
   ],
   "source": [
    "dates = pd.date_range('2023-07-01', '2023-07-07')\n",
    "print(dates)"
   ]
  },
  {
   "cell_type": "code",
   "execution_count": 6,
   "id": "79474d47",
   "metadata": {},
   "outputs": [
    {
     "name": "stdout",
     "output_type": "stream",
     "text": [
      "2023-07-01    80\n",
      "2023-07-02    82\n",
      "2023-07-03    85\n",
      "2023-07-04    90\n",
      "2023-07-05    83\n",
      "2023-07-06    87\n",
      "2023-07-07    88\n",
      "Freq: D, dtype: int64\n",
      "83\n"
     ]
    }
   ],
   "source": [
    "# dates를 인덱스로 시리즈 생성 - 시계열 데이터\n",
    "temps1 = pd.Series([80, 82, 85, 90, 83, 87, 88],\n",
    "                   index = dates)\n",
    "\n",
    "print(temps1)\n",
    "print(temps1['2023-07-05'])"
   ]
  },
  {
   "cell_type": "markdown",
   "id": "a4931d05",
   "metadata": {},
   "source": [
    "### 시리즈 간의 산술 연산"
   ]
  },
  {
   "cell_type": "code",
   "execution_count": 7,
   "id": "1e5fdb94",
   "metadata": {},
   "outputs": [
    {
     "name": "stdout",
     "output_type": "stream",
     "text": [
      "2023-07-01    10\n",
      "2023-07-02     7\n",
      "2023-07-03    16\n",
      "2023-07-04     7\n",
      "2023-07-05     4\n",
      "2023-07-06    10\n",
      "2023-07-07    17\n",
      "Freq: D, dtype: int64\n"
     ]
    }
   ],
   "source": [
    "temps2 = pd.Series([70, 75, 69, 83, 79, 77, 71],\n",
    "                   index = dates)\n",
    "\n",
    "temp_diff = temps1 - temps2\n",
    "print(temp_diff)"
   ]
  },
  {
   "cell_type": "code",
   "execution_count": 8,
   "id": "75058628",
   "metadata": {},
   "outputs": [
    {
     "name": "stdout",
     "output_type": "stream",
     "text": [
      "2023-07-01    10.0\n",
      "2023-07-02     7.0\n",
      "2023-07-03    16.0\n",
      "2023-07-04     7.0\n",
      "2023-07-05     4.0\n",
      "2023-07-06    10.0\n",
      "2023-07-07     NaN\n",
      "Freq: D, dtype: float64\n"
     ]
    }
   ],
   "source": [
    "# 만약 갯수가 다르면? -> 부족한 부분에 대해서는 None으로 채워진다.\n",
    "temps3 = pd.Series([70, 75, 69, 83, 79, 77],\n",
    "                   index = dates[:-1])\n",
    "\n",
    "temp_diff = temps1 - temps3\n",
    "print(temp_diff)"
   ]
  },
  {
   "cell_type": "code",
   "execution_count": 9,
   "id": "e12f8b01",
   "metadata": {},
   "outputs": [
    {
     "name": "stdout",
     "output_type": "stream",
     "text": [
      "0    ae\n",
      "1    bf\n",
      "2    cg\n",
      "3    dh\n",
      "dtype: object\n"
     ]
    }
   ],
   "source": [
    "# 스칼라 값이 아닌 Series 간의 산술 연산 결과는?\n",
    "s1 = pd.Series(['a', 'b', 'c', 'd'])\n",
    "s2 = pd.Series(['e', 'f', 'g', 'h'])\n",
    "\n",
    "diff = s1 + s2\n",
    "print(diff)"
   ]
  },
  {
   "cell_type": "code",
   "execution_count": 10,
   "id": "b2f2edae",
   "metadata": {},
   "outputs": [
    {
     "name": "stdout",
     "output_type": "stream",
     "text": [
      "9.0\n",
      "54.0\n",
      "16.0\n",
      "4.0\n",
      "8.5\n"
     ]
    }
   ],
   "source": [
    "# 집계 계산 -e 집계를 위한 다양한 메서드 제공\n",
    "print(temp_diff.mean())\n",
    "print(temp_diff.sum())\n",
    "print(temp_diff.max())\n",
    "print(temp_diff.min())\n",
    "print(temp_diff.median())"
   ]
  },
  {
   "cell_type": "markdown",
   "id": "f71e1d5e",
   "metadata": {},
   "source": [
    "# Pandas DataFrame\n",
    "\n",
    "데이터 프레임은 인덱스 레이블을 기준으로 배열된 하나 이상의 Series를 나타낸다."
   ]
  },
  {
   "cell_type": "code",
   "execution_count": 11,
   "id": "c2c653dd",
   "metadata": {
    "scrolled": false
   },
   "outputs": [
    {
     "data": {
      "text/html": [
       "<div>\n",
       "<style scoped>\n",
       "    .dataframe tbody tr th:only-of-type {\n",
       "        vertical-align: middle;\n",
       "    }\n",
       "\n",
       "    .dataframe tbody tr th {\n",
       "        vertical-align: top;\n",
       "    }\n",
       "\n",
       "    .dataframe thead th {\n",
       "        text-align: right;\n",
       "    }\n",
       "</style>\n",
       "<table border=\"1\" class=\"dataframe\">\n",
       "  <thead>\n",
       "    <tr style=\"text-align: right;\">\n",
       "      <th></th>\n",
       "      <th>Missoula</th>\n",
       "      <th>Philadelphia</th>\n",
       "    </tr>\n",
       "  </thead>\n",
       "  <tbody>\n",
       "    <tr>\n",
       "      <th>2023-07-01</th>\n",
       "      <td>80</td>\n",
       "      <td>70</td>\n",
       "    </tr>\n",
       "    <tr>\n",
       "      <th>2023-07-02</th>\n",
       "      <td>82</td>\n",
       "      <td>75</td>\n",
       "    </tr>\n",
       "    <tr>\n",
       "      <th>2023-07-03</th>\n",
       "      <td>85</td>\n",
       "      <td>69</td>\n",
       "    </tr>\n",
       "    <tr>\n",
       "      <th>2023-07-04</th>\n",
       "      <td>90</td>\n",
       "      <td>83</td>\n",
       "    </tr>\n",
       "    <tr>\n",
       "      <th>2023-07-05</th>\n",
       "      <td>83</td>\n",
       "      <td>79</td>\n",
       "    </tr>\n",
       "    <tr>\n",
       "      <th>2023-07-06</th>\n",
       "      <td>87</td>\n",
       "      <td>77</td>\n",
       "    </tr>\n",
       "    <tr>\n",
       "      <th>2023-07-07</th>\n",
       "      <td>88</td>\n",
       "      <td>71</td>\n",
       "    </tr>\n",
       "  </tbody>\n",
       "</table>\n",
       "</div>"
      ],
      "text/plain": [
       "            Missoula  Philadelphia\n",
       "2023-07-01        80            70\n",
       "2023-07-02        82            75\n",
       "2023-07-03        85            69\n",
       "2023-07-04        90            83\n",
       "2023-07-05        83            79\n",
       "2023-07-06        87            77\n",
       "2023-07-07        88            71"
      ]
     },
     "metadata": {},
     "output_type": "display_data"
    },
    {
     "data": {
      "text/html": [
       "<div>\n",
       "<style scoped>\n",
       "    .dataframe tbody tr th:only-of-type {\n",
       "        vertical-align: middle;\n",
       "    }\n",
       "\n",
       "    .dataframe tbody tr th {\n",
       "        vertical-align: top;\n",
       "    }\n",
       "\n",
       "    .dataframe thead th {\n",
       "        text-align: right;\n",
       "    }\n",
       "</style>\n",
       "<table border=\"1\" class=\"dataframe\">\n",
       "  <thead>\n",
       "    <tr style=\"text-align: right;\">\n",
       "      <th></th>\n",
       "      <th>sample1</th>\n",
       "      <th>sample2</th>\n",
       "    </tr>\n",
       "  </thead>\n",
       "  <tbody>\n",
       "    <tr>\n",
       "      <th>0</th>\n",
       "      <td>1</td>\n",
       "      <td>6</td>\n",
       "    </tr>\n",
       "    <tr>\n",
       "      <th>1</th>\n",
       "      <td>2</td>\n",
       "      <td>7</td>\n",
       "    </tr>\n",
       "    <tr>\n",
       "      <th>2</th>\n",
       "      <td>3</td>\n",
       "      <td>8</td>\n",
       "    </tr>\n",
       "    <tr>\n",
       "      <th>3</th>\n",
       "      <td>4</td>\n",
       "      <td>9</td>\n",
       "    </tr>\n",
       "    <tr>\n",
       "      <th>4</th>\n",
       "      <td>5</td>\n",
       "      <td>10</td>\n",
       "    </tr>\n",
       "  </tbody>\n",
       "</table>\n",
       "</div>"
      ],
      "text/plain": [
       "   sample1  sample2\n",
       "0        1        6\n",
       "1        2        7\n",
       "2        3        8\n",
       "3        4        9\n",
       "4        5       10"
      ]
     },
     "metadata": {},
     "output_type": "display_data"
    }
   ],
   "source": [
    "df = pd.DataFrame(\n",
    "                    {\n",
    "                        'Missoula': temps1,\n",
    "                        'Philadelphia': temps2\n",
    "                    }\n",
    ")\n",
    "# 데이터 프레임의 구성값으로 넣어주는 Series에 인덱스가 있기 때문에 인덱스가 자동으로 설정되었다.\n",
    "# 아닌 경우에 제로 베이스 인덱스가 설정 된다.\n",
    "display(df)\n",
    "\n",
    "df_ = pd.DataFrame(\n",
    "                    {\n",
    "                        'sample1': [1, 2, 3, 4, 5],\n",
    "                        'sample2': [6, 7, 8, 9, 10]\n",
    "                    }\n",
    ")\n",
    "display(df_)"
   ]
  },
  {
   "cell_type": "markdown",
   "id": "2dd34a30",
   "metadata": {},
   "source": [
    "### 데이터 조회"
   ]
  },
  {
   "cell_type": "code",
   "execution_count": 17,
   "id": "a7b30a24",
   "metadata": {},
   "outputs": [
    {
     "data": {
      "text/html": [
       "<div>\n",
       "<style scoped>\n",
       "    .dataframe tbody tr th:only-of-type {\n",
       "        vertical-align: middle;\n",
       "    }\n",
       "\n",
       "    .dataframe tbody tr th {\n",
       "        vertical-align: top;\n",
       "    }\n",
       "\n",
       "    .dataframe thead th {\n",
       "        text-align: right;\n",
       "    }\n",
       "</style>\n",
       "<table border=\"1\" class=\"dataframe\">\n",
       "  <thead>\n",
       "    <tr style=\"text-align: right;\">\n",
       "      <th></th>\n",
       "      <th>Missoula</th>\n",
       "      <th>Philadelphia</th>\n",
       "    </tr>\n",
       "  </thead>\n",
       "  <tbody>\n",
       "    <tr>\n",
       "      <th>2023-07-02</th>\n",
       "      <td>82</td>\n",
       "      <td>75</td>\n",
       "    </tr>\n",
       "    <tr>\n",
       "      <th>2023-07-03</th>\n",
       "      <td>85</td>\n",
       "      <td>69</td>\n",
       "    </tr>\n",
       "    <tr>\n",
       "      <th>2023-07-04</th>\n",
       "      <td>90</td>\n",
       "      <td>83</td>\n",
       "    </tr>\n",
       "  </tbody>\n",
       "</table>\n",
       "</div>"
      ],
      "text/plain": [
       "            Missoula  Philadelphia\n",
       "2023-07-02        82            75\n",
       "2023-07-03        85            69\n",
       "2023-07-04        90            83"
      ]
     },
     "metadata": {},
     "output_type": "display_data"
    },
    {
     "data": {
      "text/plain": [
       "2023-07-02    82\n",
       "2023-07-03    85\n",
       "2023-07-04    90\n",
       "Freq: D, Name: Missoula, dtype: int64"
      ]
     },
     "metadata": {},
     "output_type": "display_data"
    }
   ],
   "source": [
    "# 원하는 로우/컬럼의 데이터를 읽어오기\n",
    "display(df[1:4])\n",
    "display(df['Missoula'][1:4])"
   ]
  },
  {
   "cell_type": "code",
   "execution_count": 29,
   "id": "caa36f0d",
   "metadata": {},
   "outputs": [
    {
     "name": "stdout",
     "output_type": "stream",
     "text": [
      "Missoula        82\n",
      "Philadelphia    75\n",
      "Name: 2023-07-02 00:00:00, dtype: int64\n",
      "Missoula        82\n",
      "Philadelphia    75\n",
      "Name: 2023-07-02 00:00:00, dtype: int64\n",
      "            Missoula  Philadelphia\n",
      "2023-07-02        82            75\n",
      "2023-07-03        85            69\n",
      "2023-07-04        90            83\n"
     ]
    }
   ],
   "source": [
    "# 원하는 인덱스의 데이터를 읽어오기\n",
    "# loc : 인덱스 레이블을 사용해 검색\n",
    "# iloc : 제로베이스 인덱스를 사용해 검색\n",
    "\n",
    "print(df.iloc[1])\n",
    "print(df.loc['2023-07-02'])\n",
    "\n",
    "# 여러 행 조회도 가능\n",
    "\n",
    "print(df.iloc[[1, 2, 3]])"
   ]
  },
  {
   "cell_type": "code",
   "execution_count": 28,
   "id": "ac6c86ec",
   "metadata": {},
   "outputs": [
    {
     "name": "stdout",
     "output_type": "stream",
     "text": [
      "Index(['Missoula', 'Philadelphia'], dtype='object')\n"
     ]
    }
   ],
   "source": [
    "# 인덱스를 통해 row 데이터를 조회할 경우, row 데이터가 하나의 Series 자료구조가 되며, index는 컬럼명이 된다.\n",
    "\n",
    "print(df.iloc[1].index)"
   ]
  },
  {
   "cell_type": "markdown",
   "id": "141bd0bd",
   "metadata": {},
   "source": [
    "### 파일 로딩"
   ]
  },
  {
   "cell_type": "code",
   "execution_count": 34,
   "id": "af128f1b",
   "metadata": {},
   "outputs": [],
   "source": [
    "df = pd.read_csv(r'C:\\Users\\ENURI\\Desktop\\김동훈\\Works\\Andrew\\Github\\Basic\\data\\Learning-Pandas-Second-Edition-master\\data\\goog.csv')"
   ]
  },
  {
   "cell_type": "code",
   "execution_count": 37,
   "id": "6acc35ab",
   "metadata": {},
   "outputs": [
    {
     "data": {
      "text/plain": [
       "str"
      ]
     },
     "execution_count": 37,
     "metadata": {},
     "output_type": "execute_result"
    }
   ],
   "source": [
    "type(df.Date[0])"
   ]
  },
  {
   "cell_type": "code",
   "execution_count": 65,
   "id": "5e14e63f",
   "metadata": {},
   "outputs": [],
   "source": [
    "# parse_dates 파라미터를 통해 date 값을 timestamp 객체로 읽어올 수 있다.\n",
    "\n",
    "df = pd.read_csv(r'C:\\Users\\ENURI\\Desktop\\김동훈\\Works\\Andrew\\Github\\Basic\\data\\Learning-Pandas-Second-Edition-master\\data\\goog.csv',\n",
    "                 parse_dates = ['Date'])"
   ]
  },
  {
   "cell_type": "code",
   "execution_count": 66,
   "id": "8e135237",
   "metadata": {},
   "outputs": [
    {
     "data": {
      "text/plain": [
       "pandas._libs.tslibs.timestamps.Timestamp"
      ]
     },
     "execution_count": 66,
     "metadata": {},
     "output_type": "execute_result"
    }
   ],
   "source": [
    "type(df['Date'][0])"
   ]
  },
  {
   "cell_type": "code",
   "execution_count": 72,
   "id": "9bb0d57a",
   "metadata": {},
   "outputs": [],
   "source": [
    "df.set_index('Date', inplace = True)"
   ]
  },
  {
   "cell_type": "code",
   "execution_count": 76,
   "id": "acdcdf73",
   "metadata": {},
   "outputs": [
    {
     "data": {
      "text/html": [
       "<div>\n",
       "<style scoped>\n",
       "    .dataframe tbody tr th:only-of-type {\n",
       "        vertical-align: middle;\n",
       "    }\n",
       "\n",
       "    .dataframe tbody tr th {\n",
       "        vertical-align: top;\n",
       "    }\n",
       "\n",
       "    .dataframe thead th {\n",
       "        text-align: right;\n",
       "    }\n",
       "</style>\n",
       "<table border=\"1\" class=\"dataframe\">\n",
       "  <thead>\n",
       "    <tr style=\"text-align: right;\">\n",
       "      <th></th>\n",
       "      <th>Open</th>\n",
       "      <th>High</th>\n",
       "      <th>Low</th>\n",
       "      <th>Close</th>\n",
       "      <th>Volume</th>\n",
       "    </tr>\n",
       "    <tr>\n",
       "      <th>Date</th>\n",
       "      <th></th>\n",
       "      <th></th>\n",
       "      <th></th>\n",
       "      <th></th>\n",
       "      <th></th>\n",
       "    </tr>\n",
       "  </thead>\n",
       "  <tbody>\n",
       "    <tr>\n",
       "      <th>2016-12-19</th>\n",
       "      <td>790.219971</td>\n",
       "      <td>797.659973</td>\n",
       "      <td>786.270020</td>\n",
       "      <td>794.200012</td>\n",
       "      <td>1225900</td>\n",
       "    </tr>\n",
       "    <tr>\n",
       "      <th>2016-12-20</th>\n",
       "      <td>796.760010</td>\n",
       "      <td>798.650024</td>\n",
       "      <td>793.270020</td>\n",
       "      <td>796.419983</td>\n",
       "      <td>925100</td>\n",
       "    </tr>\n",
       "    <tr>\n",
       "      <th>2016-12-21</th>\n",
       "      <td>795.840027</td>\n",
       "      <td>796.676025</td>\n",
       "      <td>787.099976</td>\n",
       "      <td>794.559998</td>\n",
       "      <td>1208700</td>\n",
       "    </tr>\n",
       "    <tr>\n",
       "      <th>2016-12-22</th>\n",
       "      <td>792.359985</td>\n",
       "      <td>793.320007</td>\n",
       "      <td>788.580017</td>\n",
       "      <td>791.260010</td>\n",
       "      <td>969100</td>\n",
       "    </tr>\n",
       "    <tr>\n",
       "      <th>2016-12-23</th>\n",
       "      <td>790.900024</td>\n",
       "      <td>792.739990</td>\n",
       "      <td>787.280029</td>\n",
       "      <td>789.909973</td>\n",
       "      <td>623400</td>\n",
       "    </tr>\n",
       "  </tbody>\n",
       "</table>\n",
       "</div>"
      ],
      "text/plain": [
       "                  Open        High         Low  \\\n",
       "Date                                             \n",
       "2016-12-19  790.219971  797.659973  786.270020   \n",
       "2016-12-20  796.760010  798.650024  793.270020   \n",
       "2016-12-21  795.840027  796.676025  787.099976   \n",
       "2016-12-22  792.359985  793.320007  788.580017   \n",
       "2016-12-23  790.900024  792.739990  787.280029   \n",
       "\n",
       "                 Close   Volume  \n",
       "Date                             \n",
       "2016-12-19  794.200012  1225900  \n",
       "2016-12-20  796.419983   925100  \n",
       "2016-12-21  794.559998  1208700  \n",
       "2016-12-22  791.260010   969100  \n",
       "2016-12-23  789.909973   623400  "
      ]
     },
     "metadata": {},
     "output_type": "display_data"
    }
   ],
   "source": [
    "# 데이터를 읽어올 때, index_col 파라미터를 지정해줌으로써, 원하는 컬럼을 인덱스로 설정할 수 있다.\n",
    "\n",
    "df = pd.read_csv(r'C:\\Users\\ENURI\\Desktop\\김동훈\\Works\\Andrew\\Github\\Basic\\data\\Learning-Pandas-Second-Edition-master\\data\\goog.csv',\n",
    "                 parse_dates = ['Date'],\n",
    "                 index_col = 'Date')\n",
    "\n",
    "display(df.head())"
   ]
  },
  {
   "cell_type": "markdown",
   "id": "a511f746",
   "metadata": {},
   "source": [
    "### 시각화"
   ]
  },
  {
   "cell_type": "code",
   "execution_count": 78,
   "id": "0eeca08e",
   "metadata": {},
   "outputs": [
    {
     "data": {
      "text/plain": [
       "<AxesSubplot: xlabel='Date'>"
      ]
     },
     "execution_count": 78,
     "metadata": {},
     "output_type": "execute_result"
    },
    {
     "data": {
      "image/png": "[encoded data removed]",
      "text/plain": [
       "<Figure size 640x480 with 1 Axes>"
      ]
     },
     "metadata": {},
     "output_type": "display_data"
    }
   ],
   "source": [
    "# Series 자료형에 대해서 plot 메서드를 통해 간단한 시각화 작업이 가능하다.\n",
    "\n",
    "df['Close'].plot()"
   ]
  }
 ],
 "metadata": {
  "kernelspec": {
   "display_name": "Python 3 (ipykernel)",
   "language": "python",
   "name": "python3"
  },
  "language_info": {
   "codemirror_mode": {
    "name": "ipython",
    "version": 3
   },
   "file_extension": ".py",
   "mimetype": "text/x-python",
   "name": "python",
   "nbconvert_exporter": "python",
   "pygments_lexer": "ipython3",
   "version": "3.9.15"
  }
 },
 "nbformat": 4,
 "nbformat_minor": 5
}
