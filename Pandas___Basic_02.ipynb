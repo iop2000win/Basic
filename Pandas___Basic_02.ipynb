{
 "cells": [
  {
   "cell_type": "markdown",
   "id": "8bd7e782",
   "metadata": {},
   "source": [
    "# Chapter 3. 단변량 표현"
   ]
  },
  {
   "cell_type": "code",
   "execution_count": 1,
   "id": "157b9d6d",
   "metadata": {},
   "outputs": [],
   "source": [
    "import numpy as np\n",
    "import pandas as pd\n",
    "\n",
    "import datetime\n",
    "\n",
    "# 판다스 렌더링 방식 제어 옵션\n",
    "# pd.set_option('display.notebook_repr_html', False) # 표 형식으로 출력되는 것이 아니라, 텍스트 형식으로 출력\n",
    "pd.set_option('display.max_columns', 7) # 최대 몇개까지의 컬럼을 표시할 것인지 설정\n",
    "pd.set_option('display.max_rows', 10) # 최대 몇개까지의 로우를 표시할 것인지 설정\n",
    "pd.set_option('display.width', 60) # 한 셀에 최대 몇글자까지 표시할 것인지 설정\n",
    "\n",
    "import matplotlib.pyplot as plt\n",
    "%matplotlib inline"
   ]
  },
  {
   "cell_type": "markdown",
   "id": "9c613732",
   "metadata": {},
   "source": [
    "### Series 생성"
   ]
  },
  {
   "cell_type": "code",
   "execution_count": 9,
   "id": "0ef58a02",
   "metadata": {},
   "outputs": [
    {
     "name": "stdout",
     "output_type": "stream",
     "text": [
      "0    10\n",
      "1    11\n",
      "2    12\n",
      "3    13\n",
      "4    14\n",
      "dtype: int64\n",
      "Mike                   Dad\n",
      "Marcia                 Mom\n",
      "Mikael                 Son\n",
      "Bleu      Best doggie ever\n",
      "dtype: object\n"
     ]
    }
   ],
   "source": [
    "# 리스트나 딕셔너리를 사용한 생성\n",
    "series_list = pd.Series([10, 11, 12, 13, 14])\n",
    "print(series_list)\n",
    "\n",
    "series_dic = pd.Series(\n",
    "                        {\n",
    "                            'Mike': 'Dad',\n",
    "                            'Marcia': 'Mom',\n",
    "                            'Mikael': 'Son',\n",
    "                            'Bleu': 'Best doggie ever'\n",
    "                        }\n",
    ")\n",
    "print(series_dic)"
   ]
  },
  {
   "cell_type": "code",
   "execution_count": 5,
   "id": "e3309753",
   "metadata": {},
   "outputs": [
    {
     "name": "stdout",
     "output_type": "stream",
     "text": [
      "[2, 2, 2, 2, 2]\n",
      "['a', 'b', 'c', 'd', 'e']\n"
     ]
    }
   ],
   "source": [
    "# 리스트의 단축 표기법\n",
    "lst_1 = [2] * 5\n",
    "print(lst_1)\n",
    "\n",
    "lst_2 = list('abcde')\n",
    "print(lst_2)"
   ]
  },
  {
   "cell_type": "code",
   "execution_count": 11,
   "id": "35184bb4",
   "metadata": {},
   "outputs": [
    {
     "name": "stdout",
     "output_type": "stream",
     "text": [
      "0    4\n",
      "1    5\n",
      "2    6\n",
      "3    7\n",
      "4    8\n",
      "dtype: int32\n"
     ]
    }
   ],
   "source": [
    "# numpy를 활용한 생성\n",
    "s = pd.Series(np.arange(4, 9)) # 범위 사이의 정수 배열 생성\n",
    "print(s)"
   ]
  },
  {
   "cell_type": "code",
   "execution_count": 12,
   "id": "67e3d4c0",
   "metadata": {},
   "outputs": [
    {
     "name": "stdout",
     "output_type": "stream",
     "text": [
      "0    0.00\n",
      "1    2.25\n",
      "2    4.50\n",
      "3    6.75\n",
      "4    9.00\n",
      "dtype: float64\n"
     ]
    }
   ],
   "source": [
    "s = pd.Series(np.linspace(0, 9, 5)) # 범위를 n개의 간격으로 균등하게 나누어 생성\n",
    "print(s)"
   ]
  },
  {
   "cell_type": "code",
   "execution_count": 14,
   "id": "e6224e3f",
   "metadata": {},
   "outputs": [
    {
     "name": "stdout",
     "output_type": "stream",
     "text": [
      "0   -0.204708\n",
      "1    0.478943\n",
      "2   -0.519439\n",
      "3   -0.555730\n",
      "4    1.965781\n",
      "dtype: float64\n"
     ]
    }
   ],
   "source": [
    "# random을 통해 난수 생성\n",
    "np.random.seed(12345)\n",
    "s = pd.Series(np.random.normal(size = 5))\n",
    "print(s)"
   ]
  },
  {
   "cell_type": "code",
   "execution_count": 15,
   "id": "440cac50",
   "metadata": {},
   "outputs": [],
   "source": [
    "# scalar 값을 활용한 생성 - 시리즈간의 연산에서 중요한 개념"
   ]
  }
 ],
 "metadata": {
  "kernelspec": {
   "display_name": "Python 3 (ipykernel)",
   "language": "python",
   "name": "python3"
  },
  "language_info": {
   "codemirror_mode": {
    "name": "ipython",
    "version": 3
   },
   "file_extension": ".py",
   "mimetype": "text/x-python",
   "name": "python",
   "nbconvert_exporter": "python",
   "pygments_lexer": "ipython3",
   "version": "3.9.15"
  }
 },
 "nbformat": 4,
 "nbformat_minor": 5
}
