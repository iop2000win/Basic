{
 "cells": [
  {
   "cell_type": "code",
   "execution_count": 47,
   "metadata": {},
   "outputs": [],
   "source": [
    "import datetime\n",
    "import numpy as np\n",
    "import pandas as pd"
   ]
  },
  {
   "cell_type": "markdown",
   "metadata": {},
   "source": [
    "# 날짜 정보 추출"
   ]
  },
  {
   "cell_type": "code",
   "execution_count": null,
   "metadata": {},
   "outputs": [
    {
     "name": "stdout",
     "output_type": "stream",
     "text": [
      "2024-04-30\n",
      "11:23:30\n",
      "2024-04-30 11:23:30\n"
     ]
    }
   ],
   "source": [
    "print(datetime.date(2024, 4, 30)) # 날짜\n",
    "print(datetime.time(11, 23, 30)) # 시간\n",
    "print(datetime.datetime(2024, 4, 30, 11, 23, 30)) # 날짜 + 시간"
   ]
  },
  {
   "cell_type": "code",
   "execution_count": 6,
   "metadata": {},
   "outputs": [
    {
     "name": "stdout",
     "output_type": "stream",
     "text": [
      "2024-04-30 11:18:12.484617\n",
      "2024-04-30 11:18:12.484617\n",
      "2024-04-30\n"
     ]
    }
   ],
   "source": [
    "print(datetime.datetime.now())\n",
    "print(datetime.datetime.today())"
   ]
  },
  {
   "cell_type": "code",
   "execution_count": 46,
   "metadata": {},
   "outputs": [
    {
     "name": "stdout",
     "output_type": "stream",
     "text": [
      "\n",
      "now = 2024-04-30 11:30:34.113592\n",
      "type(now) = <class 'datetime.datetime'>\n",
      "\n",
      "datetime 객체를 구성하는 메서드\n",
      "ymd = (2024, 4, 30)\n",
      "weekday = 1 | 2 # weekday는 월요일을 0으로, isoweekday는 월요일을 1으로 계산\n",
      "weeks_info = datetime.IsoCalendarDate(year=2024, week=18, weekday=2)\n",
      "\n"
     ]
    }
   ],
   "source": [
    "now = datetime.datetime.now()\n",
    "\n",
    "p = f'''\n",
    "now = {now}\n",
    "type(now) = {type(now)}\n",
    "\n",
    "datetime 객체를 구성하는 메서드\n",
    "ymd = {now.year, now.month, now.day}\n",
    "weekday = {now.weekday()} | {now.isoweekday()} # weekday는 월요일을 0으로, isoweekday는 월요일을 1으로 계산\n",
    "weeks_info = {now.isocalendar()} # 해당 날짜가 1년 중 몇주차인지를 계산\n",
    "'''\n",
    "\n",
    "print(p)\n"
   ]
  },
  {
   "cell_type": "markdown",
   "metadata": {},
   "source": [
    "### 날짜 데이터 타입"
   ]
  },
  {
   "cell_type": "code",
   "execution_count": 61,
   "metadata": {},
   "outputs": [
    {
     "name": "stdout",
     "output_type": "stream",
     "text": [
      "<class 'datetime.datetime'> 2024-04-30 00:00:00 2024-04-30 00:00:00\n",
      "<class 'numpy.datetime64'> 20240430\n",
      "<class 'pandas._libs.tslibs.timestamps.Timestamp'> 2024-04-30 00:00:00 2024-04-30 00:00:00\n"
     ]
    }
   ],
   "source": [
    "# datetime\n",
    "print(type(datetime.datetime(2024, 4, 30)), datetime.datetime(2024, 4, 30), datetime.datetime.fromisoformat('20240430'))\n",
    "\n",
    "# numpy\n",
    "print(type(np.datetime64('20240430')), np.datetime64('20240430'))\n",
    "\n",
    "# pandas\n",
    "print(type(pd.Timestamp(2024, 4, 30)), pd.Timestamp(2024, 4, 30), pd.to_datetime('20240430'))"
   ]
  },
  {
   "cell_type": "code",
   "execution_count": 75,
   "metadata": {},
   "outputs": [
    {
     "name": "stdout",
     "output_type": "stream",
     "text": [
      "<class 'datetime.timedelta'> 5 days, 0:00:00\n",
      "<class 'numpy.timedelta64'> 5 days\n",
      "<class 'pandas._libs.tslibs.timedeltas.Timedelta'> 5 days 00:00:00 5 days 00:00:00\n"
     ]
    }
   ],
   "source": [
    "# datetime\n",
    "print(type(datetime.timedelta(days = 5)), datetime.timedelta(days = 5))\n",
    "\n",
    "# numpy\n",
    "print(type(np.timedelta64(5, 'D')), np.timedelta64(5, 'D'))\n",
    "\n",
    "# pandas\n",
    "print(type(pd.Timedelta(days = 5)), pd.Timedelta(days = 5), pd.Timedelta(5, unit = 'days'))"
   ]
  },
  {
   "cell_type": "markdown",
   "metadata": {},
   "source": [
    "# 날짜 연산"
   ]
  },
  {
   "cell_type": "markdown",
   "metadata": {},
   "source": []
  },
  {
   "cell_type": "markdown",
   "metadata": {},
   "source": [
    "# 날짜 타입 변환\n",
    "\n",
    "https://ellun.tistory.com/320"
   ]
  },
  {
   "cell_type": "code",
   "execution_count": 119,
   "metadata": {},
   "outputs": [
    {
     "name": "stdout",
     "output_type": "stream",
     "text": [
      "<class 'datetime.datetime'> 2024-04-30 16:05:21.426364\n",
      "<class 'numpy.datetime64'> 2024-04-30T16:05:21.426364\n",
      "<class 'pandas._libs.tslibs.timestamps.Timestamp'> 2024-04-30 16:05:21.426364\n",
      "<class 'datetime.datetime'> 2024-04-30 16:05:21\n"
     ]
    }
   ],
   "source": [
    "# datetime <-> numpy <-> pandas\n",
    "now_date = datetime.datetime.now()\n",
    "print(type(now_date), now_date)\n",
    "\n",
    "now_date_to_np = np.datetime64(now_date)\n",
    "print(type(now_date_to_np), now_date_to_np)\n",
    "\n",
    "# numpy 데이터 타입에서 datetime으로 바로 변환하는 것은 어렵다. pandas를 거쳐서 진행하면 수월\n",
    "now_np_to_pd = pd.to_datetime(now_date_to_np)\n",
    "print(type(now_np_to_pd), now_np_to_pd)\n",
    "now_pd_to_date = datetime.datetime(year = now_np_to_pd.year, month = now_np_to_pd.month, day = now_np_to_pd.day,\n",
    "                                   hour = now_np_to_pd.hour, minute = now_np_to_pd.minute, second = now_np_to_pd.second)\n",
    "print(type(now_pd_to_date), now_pd_to_date)"
   ]
  }
 ],
 "metadata": {
  "kernelspec": {
   "display_name": "base",
   "language": "python",
   "name": "python3"
  },
  "language_info": {
   "codemirror_mode": {
    "name": "ipython",
    "version": 3
   },
   "file_extension": ".py",
   "mimetype": "text/x-python",
   "name": "python",
   "nbconvert_exporter": "python",
   "pygments_lexer": "ipython3",
   "version": "3.11.4"
  }
 },
 "nbformat": 4,
 "nbformat_minor": 2
}
