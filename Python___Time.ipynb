{
 "cells": [
  {
   "cell_type": "code",
   "execution_count": 1,
   "metadata": {},
   "outputs": [],
   "source": [
    "import datetime\n",
    "import numpy as np\n",
    "import pandas as pd"
   ]
  },
  {
   "cell_type": "markdown",
   "metadata": {},
   "source": [
    "# 날짜 정보 추출"
   ]
  },
  {
   "cell_type": "code",
   "execution_count": null,
   "metadata": {},
   "outputs": [
    {
     "name": "stdout",
     "output_type": "stream",
     "text": [
      "2024-04-30\n",
      "11:23:30\n",
      "2024-04-30 11:23:30\n"
     ]
    }
   ],
   "source": [
    "print(datetime.date(2024, 4, 30)) # 날짜\n",
    "print(datetime.time(11, 23, 30)) # 시간\n",
    "print(datetime.datetime(2024, 4, 30, 11, 23, 30)) # 날짜 + 시간"
   ]
  },
  {
   "cell_type": "code",
   "execution_count": 6,
   "metadata": {},
   "outputs": [
    {
     "name": "stdout",
     "output_type": "stream",
     "text": [
      "2024-04-30 11:18:12.484617\n",
      "2024-04-30 11:18:12.484617\n",
      "2024-04-30\n"
     ]
    }
   ],
   "source": [
    "print(datetime.datetime.now())\n",
    "print(datetime.datetime.today())"
   ]
  },
  {
   "cell_type": "code",
   "execution_count": 46,
   "metadata": {},
   "outputs": [
    {
     "name": "stdout",
     "output_type": "stream",
     "text": [
      "\n",
      "now = 2024-04-30 11:30:34.113592\n",
      "type(now) = <class 'datetime.datetime'>\n",
      "\n",
      "datetime 객체를 구성하는 메서드\n",
      "ymd = (2024, 4, 30)\n",
      "weekday = 1 | 2 # weekday는 월요일을 0으로, isoweekday는 월요일을 1으로 계산\n",
      "weeks_info = datetime.IsoCalendarDate(year=2024, week=18, weekday=2)\n",
      "\n"
     ]
    }
   ],
   "source": [
    "now = datetime.datetime.now()\n",
    "\n",
    "p = f'''\n",
    "now = {now}\n",
    "type(now) = {type(now)}\n",
    "\n",
    "datetime 객체를 구성하는 메서드\n",
    "ymd = {now.year, now.month, now.day}\n",
    "weekday = {now.weekday()} | {now.isoweekday()} # weekday는 월요일을 0으로, isoweekday는 월요일을 1으로 계산\n",
    "weeks_info = {now.isocalendar()} # 해당 날짜가 1년 중 몇주차인지를 계산\n",
    "'''\n",
    "\n",
    "print(p)\n"
   ]
  },
  {
   "cell_type": "markdown",
   "metadata": {},
   "source": [
    "### 날짜 데이터 타입"
   ]
  },
  {
   "cell_type": "code",
   "execution_count": 61,
   "metadata": {},
   "outputs": [
    {
     "name": "stdout",
     "output_type": "stream",
     "text": [
      "<class 'datetime.datetime'> 2024-04-30 00:00:00 2024-04-30 00:00:00\n",
      "<class 'numpy.datetime64'> 20240430\n",
      "<class 'pandas._libs.tslibs.timestamps.Timestamp'> 2024-04-30 00:00:00 2024-04-30 00:00:00\n"
     ]
    }
   ],
   "source": [
    "# datetime\n",
    "print(type(datetime.datetime(2024, 4, 30)), datetime.datetime(2024, 4, 30), datetime.datetime.fromisoformat('20240430'))\n",
    "\n",
    "# numpy\n",
    "print(type(np.datetime64('20240430')), np.datetime64('20240430'))\n",
    "\n",
    "# pandas\n",
    "print(type(pd.Timestamp(2024, 4, 30)), pd.Timestamp(2024, 4, 30), pd.to_datetime('20240430'))"
   ]
  },
  {
   "cell_type": "code",
   "execution_count": 75,
   "metadata": {},
   "outputs": [
    {
     "name": "stdout",
     "output_type": "stream",
     "text": [
      "<class 'datetime.timedelta'> 5 days, 0:00:00\n",
      "<class 'numpy.timedelta64'> 5 days\n",
      "<class 'pandas._libs.tslibs.timedeltas.Timedelta'> 5 days 00:00:00 5 days 00:00:00\n"
     ]
    }
   ],
   "source": [
    "# datetime\n",
    "print(type(datetime.timedelta(days = 5)), datetime.timedelta(days = 5))\n",
    "\n",
    "# numpy\n",
    "print(type(np.timedelta64(5, 'D')), np.timedelta64(5, 'D'))\n",
    "\n",
    "# pandas\n",
    "print(type(pd.Timedelta(days = 5)), pd.Timedelta(days = 5), pd.Timedelta(5, unit = 'days'))"
   ]
  },
  {
   "cell_type": "markdown",
   "metadata": {},
   "source": [
    "# 날짜 타입 변환\n",
    "\n",
    "https://ellun.tistory.com/320"
   ]
  },
  {
   "cell_type": "code",
   "execution_count": 119,
   "metadata": {},
   "outputs": [
    {
     "name": "stdout",
     "output_type": "stream",
     "text": [
      "<class 'datetime.datetime'> 2024-04-30 16:05:21.426364\n",
      "<class 'numpy.datetime64'> 2024-04-30T16:05:21.426364\n",
      "<class 'pandas._libs.tslibs.timestamps.Timestamp'> 2024-04-30 16:05:21.426364\n",
      "<class 'datetime.datetime'> 2024-04-30 16:05:21\n"
     ]
    }
   ],
   "source": [
    "# datetime <-> numpy <-> pandas\n",
    "now_date = datetime.datetime.now()\n",
    "print(type(now_date), now_date)\n",
    "\n",
    "now_date_to_np = np.datetime64(now_date)\n",
    "print(type(now_date_to_np), now_date_to_np)\n",
    "\n",
    "# numpy 데이터 타입에서 datetime으로 바로 변환하는 것은 어렵다. pandas를 거쳐서 진행하면 수월\n",
    "now_np_to_pd = pd.to_datetime(now_date_to_np)\n",
    "print(type(now_np_to_pd), now_np_to_pd)\n",
    "now_pd_to_date = datetime.datetime(year = now_np_to_pd.year, month = now_np_to_pd.month, day = now_np_to_pd.day,\n",
    "                                   hour = now_np_to_pd.hour, minute = now_np_to_pd.minute, second = now_np_to_pd.second)\n",
    "print(type(now_pd_to_date), now_pd_to_date)"
   ]
  },
  {
   "cell_type": "markdown",
   "metadata": {},
   "source": [
    "# 날짜 연산"
   ]
  },
  {
   "cell_type": "markdown",
   "metadata": {},
   "source": [
    "### Timedelta\n",
    "\n",
    "시간 데이터 간의 연산을 하기 위해서는 timedelta 자료형식이 필요하다."
   ]
  },
  {
   "cell_type": "code",
   "execution_count": 16,
   "metadata": {},
   "outputs": [
    {
     "name": "stdout",
     "output_type": "stream",
     "text": [
      "<class 'datetime.timedelta'>\n",
      "0:00:00\n"
     ]
    }
   ],
   "source": [
    "print(type(datetime.timedelta()))\n",
    "print(datetime.timedelta())"
   ]
  },
  {
   "cell_type": "code",
   "execution_count": 23,
   "metadata": {},
   "outputs": [
    {
     "name": "stdout",
     "output_type": "stream",
     "text": [
      "<class 'datetime.timedelta'> 17 days, 23:31:30\n",
      "<class 'int'> 17\n",
      "<class 'int'> 84690\n",
      "<class 'int'> 0\n"
     ]
    }
   ],
   "source": [
    "'''\n",
    "다양한 인자로 시간 정보를 입력할 수 있다.\n",
    "하지만 입력 단위는 다양하지만, 내부적으로 해당 값들은 days | seconds | microseconds 로 변환되어 저장된다.\n",
    "'''\n",
    "td = datetime.timedelta(\n",
    "                        weeks = 1,\n",
    "                        days = 10,\n",
    "                        hours = 23,\n",
    "                        minutes = 30,\n",
    "                        seconds = 90,\n",
    "#                         milliseconds = 10,\n",
    "#                         microseconds = 10\n",
    ")\n",
    "print(type(td), td)\n",
    "print(type(td.days), td.days)\n",
    "print(type(td.seconds), td.seconds)\n",
    "print(type(td.microseconds), td.microseconds)"
   ]
  },
  {
   "cell_type": "code",
   "execution_count": 40,
   "metadata": {},
   "outputs": [
    {
     "name": "stdout",
     "output_type": "stream",
     "text": [
      "\n",
      "    type(diff) = <class 'datetime.timedelta'>\n",
      "    diff = 4:00:00\n",
      "    diff.days = 0\n",
      "    diff.seconds = 14400\n",
      "\n",
      "\n",
      "    type(diff) = <class 'datetime.datetime'>\n",
      "    diff = 2024-05-10 08:00:00\n",
      "\n",
      "\n",
      "    type(diff) = <class 'datetime.timedelta'>\n",
      "    diff = 4:00:00\n",
      "    diff.days = 0\n",
      "    diff.seconds = 14400\n",
      "\n"
     ]
    }
   ],
   "source": [
    "'''\n",
    "datetime 과 datetime 간의 연산 => timedelta : 시각과 시각 사이의 시간을 구하는 연산 => 결과값은 시간\n",
    "datetime 과 timedelta 간의 연산 => datetime : 시각에서 특정 시간을 연산한 시각을 구하는 연산 => 결과값은 시각\n",
    "timedelta 와 timedelta 간의 연산 => timedelta : 시간과 시간 사이의 시간을 구하는 연산 => 결과값은 시간\n",
    "'''\n",
    "\n",
    "# datetime - datetime\n",
    "dt1 = datetime.datetime(2024, 5, 10, 12, 0)\n",
    "dt2 = datetime.datetime(2024, 5, 10, 8, 0)\n",
    "diff = dt1 - dt2\n",
    "p = f'''\n",
    "    type(diff) = {type(diff)}\n",
    "    diff = {diff}\n",
    "    diff.days = {diff.days}\n",
    "    diff.seconds = {diff.seconds}\n",
    "'''\n",
    "print(p)\n",
    "\n",
    "# datetime - timedelta\n",
    "df1 = datetime.datetime(2024, 5, 10, 12, 0)\n",
    "td = datetime.timedelta(hours = 4)\n",
    "diff = df1 - td\n",
    "p = f'''\n",
    "    type(diff) = {type(diff)}\n",
    "    diff = {diff}\n",
    "'''\n",
    "print(p)\n",
    "\n",
    "# timedelta - timedelta\n",
    "td1 = datetime.timedelta(hours = 4)\n",
    "td2 = datetime.timedelta(hours = 8)\n",
    "diff = td2 - td1\n",
    "p = f'''\n",
    "    type(diff) = {type(diff)}\n",
    "    diff = {diff}\n",
    "    diff.days = {diff.days}\n",
    "    diff.seconds = {diff.seconds}\n",
    "'''\n",
    "print(p)"
   ]
  },
  {
   "cell_type": "markdown",
   "metadata": {},
   "source": [
    "### 형식 변환\n",
    "\n",
    "시간 데이터를 다루다보면, 다양한 데이터 타입의 시간 값을 원하는 형태로 바꿔야 할 일이 자주 생긴다."
   ]
  },
  {
   "cell_type": "code",
   "execution_count": 51,
   "metadata": {},
   "outputs": [
    {
     "name": "stdout",
     "output_type": "stream",
     "text": [
      "1 day, 8:30:00\n",
      "32:30:00\n"
     ]
    }
   ],
   "source": [
    "td = datetime.timedelta(hours = 32, minutes = 30)\n",
    "print(td)\n",
    "\n",
    "# HH:MM 형태로 바꾸기 위해서는? 따로 기능이 제공되지는 않고, 연산을 통해 구한다.\n",
    "total_seconds = td.total_seconds()\n",
    "\n",
    "h, s = map(int, divmod(total_seconds, 3600))\n",
    "m, s = map(int, divmod(s, 60))\n",
    "print(f'{h:02d}:{m:02d}:{s:02d}')"
   ]
  }
 ],
 "metadata": {
  "kernelspec": {
   "display_name": "Python 3 (ipykernel)",
   "language": "python",
   "name": "python3"
  },
  "language_info": {
   "codemirror_mode": {
    "name": "ipython",
    "version": 3
   },
   "file_extension": ".py",
   "mimetype": "text/x-python",
   "name": "python",
   "nbconvert_exporter": "python",
   "pygments_lexer": "ipython3",
   "version": "3.11.4"
  }
 },
 "nbformat": 4,
 "nbformat_minor": 2
}
