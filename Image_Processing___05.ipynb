{
 "cells": [
  {
   "cell_type": "markdown",
   "id": "8e95d280",
   "metadata": {},
   "source": [
    "# - 이미지 변형 (이진화)"
   ]
  },
  {
   "cell_type": "code",
   "execution_count": 1,
   "id": "116e424a",
   "metadata": {},
   "outputs": [],
   "source": [
    "import numpy as np\n",
    "import cv2\n",
    "\n",
    "img_path = './Data/book.jpg'"
   ]
  },
  {
   "cell_type": "code",
   "execution_count": 3,
   "id": "ab1119bf",
   "metadata": {},
   "outputs": [],
   "source": [
    "img = cv2.imread(img_path, cv2.IMREAD_GRAYSCALE)\n",
    "\n",
    "ret, binary_img = cv2.threshold(img, 127, 255, cv2.THRESH_BINARY)\n",
    "\n",
    "cv2.imshow('img', img)\n",
    "cv2.imshow('binary_img', binary_img)\n",
    "cv2.waitKey(0)\n",
    "cv2.destroyAllWindows()"
   ]
  },
  {
   "cell_type": "markdown",
   "id": "a2091218",
   "metadata": {},
   "source": [
    "### Trackbar (값 변화에 따른 변형 확인)"
   ]
  },
  {
   "cell_type": "code",
   "execution_count": 6,
   "id": "1a554dac",
   "metadata": {},
   "outputs": [],
   "source": [
    "import cv2\n",
    "\n",
    "def empty(pos):\n",
    "    # pos : trackbark에서 받아오는 값\n",
    "#     print(pos)\n",
    "    pass\n",
    "\n",
    "img = cv2.imread(img_path, cv2.IMREAD_GRAYSCALE)\n",
    "\n",
    "name = 'Trackbar' # 빈 윈도우의 이름\n",
    "cv2.namedWindow(name)\n",
    "\n",
    "cv2.createTrackbar('threshold', name, 127, 255, empty) # bar 이름, 창의 이름, 초기값, 최대값, 이벤트 처리\n",
    "\n",
    "while True:\n",
    "    thresh = cv2.getTrackbarPos('threshold', name) # bar 이름, 창의 이름\n",
    "    ret, binary = cv2.threshold(img, thresh, 255, cv2.THRESH_BINARY)\n",
    "    \n",
    "    if not ret:\n",
    "        break\n",
    "        \n",
    "    cv2.imshow(name, binary)\n",
    "    if cv2.waitKey(1) == ord('q'):\n",
    "        break\n",
    "    \n",
    "cv2.destroyAllWindows()"
   ]
  },
  {
   "cell_type": "markdown",
   "id": "f0773afa",
   "metadata": {},
   "source": [
    "### Adaptive Threshold (Trackbar 사용)\n",
    "\n",
    "영역을 세분화해서 임계치 적용"
   ]
  },
  {
   "cell_type": "code",
   "execution_count": null,
   "id": "9a90a86c",
   "metadata": {},
   "outputs": [],
   "source": [
    "import cv2\n",
    "\n",
    "def empty(pos):\n",
    "    # pos : trackbark에서 받아오는 값\n",
    "#     print(pos)\n",
    "    pass\n",
    "\n",
    "img = cv2.imread(img_path, cv2.IMREAD_GRAYSCALE)\n",
    "\n",
    "name = 'Trackbar' # 빈 윈도우의 이름\n",
    "cv2.namedWindow(name)\n",
    "\n",
    "# bar 이름, 창의 이름, 초기값, 최대값, 이벤트 처리\n",
    "cv2.createTrackbar('block_size', name, 25, 100, empty) # 1보다 큰 홀수\n",
    "cv2.createTrackbar('c', name, 3, 10, empty) # 일반적으로 양수 사용\n",
    "\n",
    "while True:\n",
    "    block_size = cv2.getTrackbarPos('block_size', name)\n",
    "    c = cv2.getTrackbarPos('c', name)\n",
    "    \n",
    "    # 1보다 작거나 같은 값일 경우 3으로 변경\n",
    "    if block_size <= 1:\n",
    "        block_size = 3\n",
    "        \n",
    "    # 짝수일 경우 홀수로 변경\n",
    "    if block_size % 2 == 0:\n",
    "        block_size += 1\n",
    "    \n",
    "    binary = cv2.adaptiveThreshold(img,\n",
    "                                    255,\n",
    "                                    cv2.ADAPTIVE_THRESH_MEAN_C,\n",
    "                                    cv2.THRESH_BINARY,\n",
    "                                    block_size,\n",
    "                                    c)\n",
    "        \n",
    "    cv2.imshow(name, binary)\n",
    "    if cv2.waitKey(1) == ord('q'):\n",
    "        break\n",
    "    \n",
    "cv2.destroyAllWindows()"
   ]
  },
  {
   "cell_type": "markdown",
   "id": "f4bf1281",
   "metadata": {},
   "source": [
    "### 오츠 알고리즘\n",
    "\n",
    "최적의 임계치 값을 찾는 알고리즘 - Bimodal Image 에 사용하기 적합"
   ]
  },
  {
   "cell_type": "code",
   "execution_count": 8,
   "id": "3b90fb05",
   "metadata": {},
   "outputs": [],
   "source": [
    "import numpy as np\n",
    "import cv2\n",
    "\n",
    "img_path = './Data/book.jpg'"
   ]
  },
  {
   "cell_type": "code",
   "execution_count": 10,
   "id": "3630d5e2",
   "metadata": {
    "scrolled": true
   },
   "outputs": [
    {
     "name": "stdout",
     "output_type": "stream",
     "text": [
      "otsu threshold:  100.0\n"
     ]
    }
   ],
   "source": [
    "img = cv2.imread(img_path, cv2.IMREAD_GRAYSCALE)\n",
    "\n",
    "ret, binary_img = cv2.threshold(img, 127, 255, cv2.THRESH_BINARY)\n",
    "ret, otsu = cv2.threshold(img, -1, 255, cv2.THRESH_BINARY | cv2.THRESH_OTSU)\n",
    "print('otsu threshold: ', ret)\n",
    "\n",
    "cv2.imshow('img', img)\n",
    "cv2.imshow('binary_img', binary_img)\n",
    "cv2.imshow('otsu', otsu)\n",
    "\n",
    "cv2.waitKey(0)\n",
    "cv2.destroyAllWindows()"
   ]
  },
  {
   "cell_type": "markdown",
   "id": "b200a7ec",
   "metadata": {},
   "source": [
    "# - 이미지 변환 (팽창 Dilating)\n",
    "\n",
    "이미지를 확장하여 작은 구멍을 채움\n",
    "\n",
    "흰색 영역의 외곽 픽셀 주변에 흰색을 채움"
   ]
  },
  {
   "cell_type": "code",
   "execution_count": 11,
   "id": "7542b68b",
   "metadata": {},
   "outputs": [],
   "source": [
    "kernel = np.ones((3, 3), dtype = np.uint8)\n",
    "\n",
    "# kernel 을 이용해 각 픽셀에 대해서 중심 픽셀 정보를 주변으로 팽창 시키는 작업\n",
    "dilate = cv2.dilate(img, kernel, iteration = 1) # iteration = 반복 횟수`"
   ]
  },
  {
   "cell_type": "markdown",
   "id": "cacb27ba",
   "metadata": {},
   "source": [
    "# - 이미지 변환 (침식 Eroding)\n",
    "\n",
    "이미지를 깎아서 노이즈 제거\n",
    "\n",
    "흰색 영역의 외곽 픽셀 주변을 검은색으로 변경"
   ]
  },
  {
   "cell_type": "code",
   "execution_count": 13,
   "id": "829144d5",
   "metadata": {},
   "outputs": [
    {
     "name": "stdout",
     "output_type": "stream",
     "text": [
      "[[1 1 1]\n",
      " [1 1 1]\n",
      " [1 1 1]]\n"
     ]
    }
   ],
   "source": [
    "kernel = np.ones((3, 3), dtype = np.uint8)\n",
    "print(kernel)\n",
    "\n",
    "erode = cv2.erode(img, kernel, iterations = 1)"
   ]
  },
  {
   "cell_type": "markdown",
   "id": "8595edfd",
   "metadata": {},
   "source": [
    "# - 이미지 변환 (열림과 닫힘)\n",
    "\n",
    "위 팽창과 침식을 동시에 연산\n",
    "- 열림(Opening) : 침식 후 팽창\n",
    "- 닫힘(Closing) : 팽창 후 침식"
   ]
  }
 ],
 "metadata": {
  "kernelspec": {
   "display_name": "Python 3",
   "language": "python",
   "name": "python3"
  },
  "language_info": {
   "codemirror_mode": {
    "name": "ipython",
    "version": 3
   },
   "file_extension": ".py",
   "mimetype": "text/x-python",
   "name": "python",
   "nbconvert_exporter": "python",
   "pygments_lexer": "ipython3",
   "version": "3.8.10"
  }
 },
 "nbformat": 4,
 "nbformat_minor": 5
}
