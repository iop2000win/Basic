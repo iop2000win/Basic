{
 "cells": [
  {
   "cell_type": "markdown",
   "id": "6de3560a",
   "metadata": {},
   "source": [
    "# - 이미지 변형 (흑백)"
   ]
  },
  {
   "cell_type": "markdown",
   "id": "daa72964",
   "metadata": {},
   "source": [
    "불러온 이미지를 흑백으로 변경"
   ]
  },
  {
   "cell_type": "code",
   "execution_count": 1,
   "id": "05d2c37e",
   "metadata": {},
   "outputs": [],
   "source": [
    "import cv2\n",
    "\n",
    "img_path = './Data/cat_img.jpg'"
   ]
  },
  {
   "cell_type": "code",
   "execution_count": 2,
   "id": "28641d8e",
   "metadata": {},
   "outputs": [],
   "source": [
    "img = cv2.imread(img_path, cv2.IMREAD_GRAYSCALE)\n",
    "cv2.imshow('img', img)\n",
    "cv2.waitKey(0)\n",
    "cv2.destroyAllWindows()"
   ]
  },
  {
   "cell_type": "code",
   "execution_count": 4,
   "id": "bb2c716f",
   "metadata": {},
   "outputs": [],
   "source": [
    "# color로 불러온 이미지를 흑백으로 변형하는 작업\n",
    "img = cv2.imread(img_path)\n",
    "dst = cv2.cvtColor(img, cv2.COLOR_BGR2GRAY)\n",
    "\n",
    "cv2.imshow('img', img)\n",
    "cv2.imshow('gray_img', dst)\n",
    "cv2.waitKey(0)\n",
    "cv2.destroyAllWindows()"
   ]
  },
  {
   "cell_type": "markdown",
   "id": "085b1410",
   "metadata": {},
   "source": [
    "# - 이미지 변형 (흐림)"
   ]
  },
  {
   "cell_type": "code",
   "execution_count": 5,
   "id": "765fb32a",
   "metadata": {},
   "outputs": [],
   "source": [
    "import cv2\n",
    "\n",
    "img_path = './Data/cat_img.jpg'"
   ]
  },
  {
   "cell_type": "markdown",
   "id": "15bfa5f2",
   "metadata": {},
   "source": [
    "### 가우시안 블러"
   ]
  },
  {
   "cell_type": "markdown",
   "id": "5bb60332",
   "metadata": {},
   "source": [
    "커널 사이즈 변화에 따른 흐림"
   ]
  },
  {
   "cell_type": "code",
   "execution_count": 7,
   "id": "66c2e66e",
   "metadata": {},
   "outputs": [],
   "source": [
    "img = cv2.imread(img_path)\n",
    "\n",
    "# (3, 3), (5, 5), (7, 7) <<< 커널 사이즈를 입력하는 형태\n",
    "kernel_3 = cv2.GaussianBlur(img, (3, 3), 0)\n",
    "kernel_5 = cv2.GaussianBlur(img, (5, 5), 0)\n",
    "kernel_7 = cv2.GaussianBlur(img, (7, 7), 0)\n",
    "\n",
    "cv2.imshow('img', img)\n",
    "cv2.imshow('kernel_3', kernel_3)\n",
    "cv2.imshow('kernel_5', kernel_5)\n",
    "cv2.imshow('kernel_7', kernel_7)\n",
    "\n",
    "cv2.waitKey(0)\n",
    "cv2.destroyAllWindows()"
   ]
  },
  {
   "cell_type": "markdown",
   "id": "fb9ecf50",
   "metadata": {},
   "source": [
    "표준 편차 변화에 따른 흐림"
   ]
  },
  {
   "cell_type": "code",
   "execution_count": 8,
   "id": "76128981",
   "metadata": {},
   "outputs": [],
   "source": [
    "img = cv2.imread(img_path)\n",
    "\n",
    "'''\n",
    "가우시안 분포에 따른 값으로 이미지 값을 변환시키는 것\n",
    "주변 픽셀들 값에 대한 가중치 값이다.\n",
    "'''\n",
    "sigma_1 = cv2.GaussianBlur(img, (0, 0), 1) # sigma X - 가우시안 커널의 x 방향의 표준 편차\n",
    "sigma_2 = cv2.GaussianBlur(img, (0, 0), 2)\n",
    "sigma_3 = cv2.GaussianBlur(img, (0, 0), 3)\n",
    "\n",
    "cv2.imshow('img', img)\n",
    "cv2.imshow('kernel_3', sigma_1)\n",
    "cv2.imshow('kernel_5', sigma_2)\n",
    "cv2.imshow('kernel_7', sigma_3)\n",
    "\n",
    "cv2.waitKey(0)\n",
    "cv2.destroyAllWindows()"
   ]
  },
  {
   "cell_type": "markdown",
   "id": "aa347812",
   "metadata": {},
   "source": [
    "# - 이미지 변형 (원근)"
   ]
  },
  {
   "cell_type": "code",
   "execution_count": 3,
   "id": "95230c94",
   "metadata": {},
   "outputs": [],
   "source": [
    "import numpy as np\n",
    "import cv2\n",
    "\n",
    "img_path = './Data/newspaper.jpg'"
   ]
  },
  {
   "cell_type": "markdown",
   "id": "e88fd4db",
   "metadata": {},
   "source": [
    "### 사다리꼴 이미지 펼치기"
   ]
  },
  {
   "cell_type": "code",
   "execution_count": 14,
   "id": "cdd3a4f6",
   "metadata": {},
   "outputs": [],
   "source": [
    "img = cv2.imread(img_path)\n",
    "\n",
    "width, height = 640, 240\n",
    "src = np.array([[511, 352],\n",
    "                [1008, 345],\n",
    "                [1122, 584],\n",
    "                [455, 594],\n",
    "               ], dtype = np.float32) # 4개 지점 지정\n",
    "\n",
    "dest = np.array([[0, 0],\n",
    "                 [width, 0],\n",
    "                 [width, height],\n",
    "                 [0, height]\n",
    "                ], dtype = np.float32)\n",
    "# 좌상, 우상, 우하, 좌하 (시계 방향으로 4개 지점 지정)\n",
    "\n",
    "matrix = cv2.getPerspectiveTransform(src, dest)\n",
    "result = cv2.warpPerspective(img, matrix, (width, height))\n",
    "\n",
    "cv2.imshow('img', img)\n",
    "cv2.imshow('result', result)\n",
    "cv2.waitKey(0)\n",
    "cv2.destroyAllWindows()"
   ]
  },
  {
   "cell_type": "markdown",
   "id": "973ff80d",
   "metadata": {},
   "source": [
    "### 회전된 이미지 세우기"
   ]
  },
  {
   "cell_type": "code",
   "execution_count": 4,
   "id": "ae7533cc",
   "metadata": {},
   "outputs": [],
   "source": [
    "import numpy as np\n",
    "import cv2\n",
    "\n",
    "img_path = './Data/poker.jpg'"
   ]
  },
  {
   "cell_type": "code",
   "execution_count": 5,
   "id": "16b8d213",
   "metadata": {},
   "outputs": [],
   "source": [
    "img = cv2.imread(img_path)\n",
    "\n",
    "width, height = 530, 710\n",
    "\n",
    "src = np.array([[702, 143],\n",
    "                [1133, 414],\n",
    "                [726, 1007],\n",
    "                [276, 700]], dtype = np.float32)\n",
    "\n",
    "dest = np.array([[0, 0],\n",
    "                 [width, 0],\n",
    "                 [width, height],\n",
    "                 [0, height]], dtype = np.float32)\n",
    "\n",
    "matrix = cv2.getPerspectiveTransform(src, dest)\n",
    "result = cv2.warpPerspective(img, matrix, (width, height))\n",
    "\n",
    "cv2.imshow('img', img)\n",
    "cv2.imshow('result', result)\n",
    "cv2.waitKey(0)\n",
    "cv2.destroyAllWindows()"
   ]
  }
 ],
 "metadata": {
  "kernelspec": {
   "display_name": "Python 3",
   "language": "python",
   "name": "python3"
  },
  "language_info": {
   "codemirror_mode": {
    "name": "ipython",
    "version": 3
   },
   "file_extension": ".py",
   "mimetype": "text/x-python",
   "name": "python",
   "nbconvert_exporter": "python",
   "pygments_lexer": "ipython3",
   "version": "3.8.10"
  }
 },
 "nbformat": 4,
 "nbformat_minor": 5
}
