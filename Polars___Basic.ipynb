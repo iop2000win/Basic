{
 "cells": [
  {
   "cell_type": "code",
   "execution_count": 2,
   "id": "b586319f-8830-4ab7-a102-74cbdac6c0d4",
   "metadata": {},
   "outputs": [],
   "source": [
    "import polars as pl\n",
    "import numpy as np"
   ]
  },
  {
   "cell_type": "code",
   "execution_count": 3,
   "id": "0eb99397-3ffc-47e6-811d-18840b6d28e4",
   "metadata": {},
   "outputs": [],
   "source": [
    "pl_df = pl.DataFrame({\n",
    "    \"VendorID\": [\"A\", \"A\", \"B\", \"B\", \"B\"],\n",
    "    \"passenger_count\": [1, 1, 2, 2, 1],\n",
    "    \"trip_distance\": [0.95, 1.2, 2.51, 2.9, 1.53],\n",
    "    \"payment_type\": [\"card\", \"card\", \"cash\", \"cash\", \"card\"],\n",
    "    \"total_amount\": [14.3, 16.9, 34.6, 27.8, 15.2]\n",
    "})\n",
    "# 컬럼에 데이터 타입까지 한 번에 보여준다."
   ]
  },
  {
   "cell_type": "code",
   "execution_count": 4,
   "id": "cc1b4530-ddee-4066-9994-50b892b3f3f4",
   "metadata": {},
   "outputs": [
    {
     "data": {
      "text/html": [
       "<div><style>\n",
       ".dataframe > thead > tr,\n",
       ".dataframe > tbody > tr {\n",
       "  text-align: right;\n",
       "  white-space: pre-wrap;\n",
       "}\n",
       "</style>\n",
       "<small>shape: (5, 5)</small><table border=\"1\" class=\"dataframe\"><thead><tr><th>VendorID</th><th>passenger_count</th><th>trip_distance</th><th>payment_type</th><th>total_amount</th></tr><tr><td>str</td><td>i64</td><td>f64</td><td>str</td><td>f64</td></tr></thead><tbody><tr><td>&quot;A&quot;</td><td>1</td><td>0.95</td><td>&quot;card&quot;</td><td>14.3</td></tr><tr><td>&quot;A&quot;</td><td>1</td><td>1.2</td><td>&quot;card&quot;</td><td>16.9</td></tr><tr><td>&quot;B&quot;</td><td>2</td><td>2.51</td><td>&quot;cash&quot;</td><td>34.6</td></tr><tr><td>&quot;B&quot;</td><td>2</td><td>2.9</td><td>&quot;cash&quot;</td><td>27.8</td></tr><tr><td>&quot;B&quot;</td><td>1</td><td>1.53</td><td>&quot;card&quot;</td><td>15.2</td></tr></tbody></table></div>"
      ],
      "text/plain": [
       "shape: (5, 5)\n",
       "┌──────────┬─────────────────┬───────────────┬──────────────┬──────────────┐\n",
       "│ VendorID ┆ passenger_count ┆ trip_distance ┆ payment_type ┆ total_amount │\n",
       "│ ---      ┆ ---             ┆ ---           ┆ ---          ┆ ---          │\n",
       "│ str      ┆ i64             ┆ f64           ┆ str          ┆ f64          │\n",
       "╞══════════╪═════════════════╪═══════════════╪══════════════╪══════════════╡\n",
       "│ A        ┆ 1               ┆ 0.95          ┆ card         ┆ 14.3         │\n",
       "│ A        ┆ 1               ┆ 1.2           ┆ card         ┆ 16.9         │\n",
       "│ B        ┆ 2               ┆ 2.51          ┆ cash         ┆ 34.6         │\n",
       "│ B        ┆ 2               ┆ 2.9           ┆ cash         ┆ 27.8         │\n",
       "│ B        ┆ 1               ┆ 1.53          ┆ card         ┆ 15.2         │\n",
       "└──────────┴─────────────────┴───────────────┴──────────────┴──────────────┘"
      ]
     },
     "execution_count": 4,
     "metadata": {},
     "output_type": "execute_result"
    }
   ],
   "source": [
    "pl_df"
   ]
  },
  {
   "cell_type": "code",
   "execution_count": null,
   "id": "e76f658d-f1f9-4fcb-80b0-a1c6346bb7bb",
   "metadata": {},
   "outputs": [],
   "source": [
    "# 파일 읽어서 가져오기\n",
    "\n",
    "# csv\n",
    "df_polars = pl.read_csv('file_path')\n",
    "\n",
    "# parquet\n",
    "df_polars = pl.read_parquet('file_path')"
   ]
  },
  {
   "cell_type": "code",
   "execution_count": 23,
   "id": "05af0650-4faf-49ae-be00-4e60587e83d7",
   "metadata": {},
   "outputs": [],
   "source": [
    "# 기본 연산\n",
    "pl_df_calculation = pl_df.select(\n",
    "                                    (pl.col('passenger_count') + 1).alias('with_driver'),\n",
    "                                    (pl.col('trip_distance') - 1).alias('trip_distance - 1'),\n",
    "                                    (pl.col('trip_distance') * 1.60934).alias('trip_distance_km'),\n",
    "                                    (pl.col('total_amount') / pl.col('trip_distance').alias('total_amout / trip_distance'))\n",
    ")\n",
    "# (pl_df['passenger_count'] + 1).alias('with_driver')"
   ]
  },
  {
   "cell_type": "code",
   "execution_count": 34,
   "id": "86500d1c-e417-4214-ae7e-8ba1bc1008a7",
   "metadata": {},
   "outputs": [],
   "source": [
    "# 논리 연산\n",
    "pl_df_logical = pl_df.select(\n",
    "                                (pl.col('passenger_count') > 1).alias('people'),\n",
    "                                (pl.col('trip_distance') <= 1).alias('short_distance'),\n",
    "                                (pl.col('payment_type') != 'cash').alias('not_cash'),\n",
    "                                (pl.col('payment_type') == 'cash').alias('is_cash'),\n",
    "                                (\n",
    "                                    (pl.col('total_amount') <= 20)\n",
    "                                    & (pl.col('payment_type') == 'card')\n",
    "                                ).alias('cheap_card'),\n",
    "                                (\n",
    "                                    (pl.col('total_amount') > 20)\n",
    "                                    | (pl.col('payment_type') == 'cash')\n",
    "                                ).alias('expensive_or_cash')\n",
    ")"
   ]
  },
  {
   "cell_type": "code",
   "execution_count": 41,
   "id": "c5d95d57-7e18-4b5a-90b3-73eaca562c34",
   "metadata": {},
   "outputs": [
    {
     "data": {
      "text/html": [
       "<div><style>\n",
       ".dataframe > thead > tr,\n",
       ".dataframe > tbody > tr {\n",
       "  text-align: right;\n",
       "  white-space: pre-wrap;\n",
       "}\n",
       "</style>\n",
       "<small>shape: (5, 2)</small><table border=\"1\" class=\"dataframe\"><thead><tr><th>VendorID</th><th>passenger_count</th></tr><tr><td>str</td><td>i64</td></tr></thead><tbody><tr><td>&quot;A&quot;</td><td>1</td></tr><tr><td>&quot;A&quot;</td><td>1</td></tr><tr><td>&quot;B&quot;</td><td>2</td></tr><tr><td>&quot;B&quot;</td><td>2</td></tr><tr><td>&quot;B&quot;</td><td>1</td></tr></tbody></table></div>"
      ],
      "text/plain": [
       "shape: (5, 2)\n",
       "┌──────────┬─────────────────┐\n",
       "│ VendorID ┆ passenger_count │\n",
       "│ ---      ┆ ---             │\n",
       "│ str      ┆ i64             │\n",
       "╞══════════╪═════════════════╡\n",
       "│ A        ┆ 1               │\n",
       "│ A        ┆ 1               │\n",
       "│ B        ┆ 2               │\n",
       "│ B        ┆ 2               │\n",
       "│ B        ┆ 1               │\n",
       "└──────────┴─────────────────┘"
      ]
     },
     "metadata": {},
     "output_type": "display_data"
    },
    {
     "data": {
      "text/html": [
       "<div><style>\n",
       ".dataframe > thead > tr,\n",
       ".dataframe > tbody > tr {\n",
       "  text-align: right;\n",
       "  white-space: pre-wrap;\n",
       "}\n",
       "</style>\n",
       "<small>shape: (5, 2)</small><table border=\"1\" class=\"dataframe\"><thead><tr><th>VendorID</th><th>passenger_count</th></tr><tr><td>str</td><td>i64</td></tr></thead><tbody><tr><td>&quot;A&quot;</td><td>1</td></tr><tr><td>&quot;A&quot;</td><td>1</td></tr><tr><td>&quot;B&quot;</td><td>2</td></tr><tr><td>&quot;B&quot;</td><td>2</td></tr><tr><td>&quot;B&quot;</td><td>1</td></tr></tbody></table></div>"
      ],
      "text/plain": [
       "shape: (5, 2)\n",
       "┌──────────┬─────────────────┐\n",
       "│ VendorID ┆ passenger_count │\n",
       "│ ---      ┆ ---             │\n",
       "│ str      ┆ i64             │\n",
       "╞══════════╪═════════════════╡\n",
       "│ A        ┆ 1               │\n",
       "│ A        ┆ 1               │\n",
       "│ B        ┆ 2               │\n",
       "│ B        ┆ 2               │\n",
       "│ B        ┆ 1               │\n",
       "└──────────┴─────────────────┘"
      ]
     },
     "metadata": {},
     "output_type": "display_data"
    },
    {
     "data": {
      "text/html": [
       "<div><style>\n",
       ".dataframe > thead > tr,\n",
       ".dataframe > tbody > tr {\n",
       "  text-align: right;\n",
       "  white-space: pre-wrap;\n",
       "}\n",
       "</style>\n",
       "<small>shape: (5, 2)</small><table border=\"1\" class=\"dataframe\"><thead><tr><th>VendorID</th><th>passenger_count</th></tr><tr><td>str</td><td>i64</td></tr></thead><tbody><tr><td>&quot;A&quot;</td><td>1</td></tr><tr><td>&quot;A&quot;</td><td>1</td></tr><tr><td>&quot;B&quot;</td><td>2</td></tr><tr><td>&quot;B&quot;</td><td>2</td></tr><tr><td>&quot;B&quot;</td><td>1</td></tr></tbody></table></div>"
      ],
      "text/plain": [
       "shape: (5, 2)\n",
       "┌──────────┬─────────────────┐\n",
       "│ VendorID ┆ passenger_count │\n",
       "│ ---      ┆ ---             │\n",
       "│ str      ┆ i64             │\n",
       "╞══════════╪═════════════════╡\n",
       "│ A        ┆ 1               │\n",
       "│ A        ┆ 1               │\n",
       "│ B        ┆ 2               │\n",
       "│ B        ┆ 2               │\n",
       "│ B        ┆ 1               │\n",
       "└──────────┴─────────────────┘"
      ]
     },
     "metadata": {},
     "output_type": "display_data"
    },
    {
     "data": {
      "text/html": [
       "<div><style>\n",
       ".dataframe > thead > tr,\n",
       ".dataframe > tbody > tr {\n",
       "  text-align: right;\n",
       "  white-space: pre-wrap;\n",
       "}\n",
       "</style>\n",
       "<small>shape: (5, 2)</small><table border=\"1\" class=\"dataframe\"><thead><tr><th>VendorID</th><th>passenger_count</th></tr><tr><td>str</td><td>i64</td></tr></thead><tbody><tr><td>&quot;A&quot;</td><td>1</td></tr><tr><td>&quot;A&quot;</td><td>1</td></tr><tr><td>&quot;B&quot;</td><td>2</td></tr><tr><td>&quot;B&quot;</td><td>2</td></tr><tr><td>&quot;B&quot;</td><td>1</td></tr></tbody></table></div>"
      ],
      "text/plain": [
       "shape: (5, 2)\n",
       "┌──────────┬─────────────────┐\n",
       "│ VendorID ┆ passenger_count │\n",
       "│ ---      ┆ ---             │\n",
       "│ str      ┆ i64             │\n",
       "╞══════════╪═════════════════╡\n",
       "│ A        ┆ 1               │\n",
       "│ A        ┆ 1               │\n",
       "│ B        ┆ 2               │\n",
       "│ B        ┆ 2               │\n",
       "│ B        ┆ 1               │\n",
       "└──────────┴─────────────────┘"
      ]
     },
     "metadata": {},
     "output_type": "display_data"
    }
   ],
   "source": [
    "# 열 선택 방법\n",
    "display(pl_df[['VendorID', 'passenger_count']])\n",
    "display(pl_df.select(['VendorID', 'passenger_count']))\n",
    "display(pl_df.select(pl.col(['VendorID', 'passenger_count'])))\n",
    "display(pl_df.select(pl.col('VendorID'), pl.col('passenger_count')))"
   ]
  },
  {
   "cell_type": "code",
   "execution_count": 45,
   "id": "d1693b28-d9db-4fb0-9945-54603538116e",
   "metadata": {},
   "outputs": [
    {
     "data": {
      "text/html": [
       "<div><style>\n",
       ".dataframe > thead > tr,\n",
       ".dataframe > tbody > tr {\n",
       "  text-align: right;\n",
       "  white-space: pre-wrap;\n",
       "}\n",
       "</style>\n",
       "<small>shape: (5, 5)</small><table border=\"1\" class=\"dataframe\"><thead><tr><th>VendorID</th><th>passenger_count</th><th>trip_distance</th><th>payment_type</th><th>total_amount</th></tr><tr><td>str</td><td>i64</td><td>f64</td><td>str</td><td>f64</td></tr></thead><tbody><tr><td>&quot;A&quot;</td><td>1</td><td>0.95</td><td>&quot;card&quot;</td><td>14.3</td></tr><tr><td>&quot;A&quot;</td><td>1</td><td>1.2</td><td>&quot;card&quot;</td><td>16.9</td></tr><tr><td>&quot;B&quot;</td><td>2</td><td>2.51</td><td>&quot;cash&quot;</td><td>34.6</td></tr><tr><td>&quot;B&quot;</td><td>2</td><td>2.9</td><td>&quot;cash&quot;</td><td>27.8</td></tr><tr><td>&quot;B&quot;</td><td>1</td><td>1.53</td><td>&quot;card&quot;</td><td>15.2</td></tr></tbody></table></div>"
      ],
      "text/plain": [
       "shape: (5, 5)\n",
       "┌──────────┬─────────────────┬───────────────┬──────────────┬──────────────┐\n",
       "│ VendorID ┆ passenger_count ┆ trip_distance ┆ payment_type ┆ total_amount │\n",
       "│ ---      ┆ ---             ┆ ---           ┆ ---          ┆ ---          │\n",
       "│ str      ┆ i64             ┆ f64           ┆ str          ┆ f64          │\n",
       "╞══════════╪═════════════════╪═══════════════╪══════════════╪══════════════╡\n",
       "│ A        ┆ 1               ┆ 0.95          ┆ card         ┆ 14.3         │\n",
       "│ A        ┆ 1               ┆ 1.2           ┆ card         ┆ 16.9         │\n",
       "│ B        ┆ 2               ┆ 2.51          ┆ cash         ┆ 34.6         │\n",
       "│ B        ┆ 2               ┆ 2.9           ┆ cash         ┆ 27.8         │\n",
       "│ B        ┆ 1               ┆ 1.53          ┆ card         ┆ 15.2         │\n",
       "└──────────┴─────────────────┴───────────────┴──────────────┴──────────────┘"
      ]
     },
     "metadata": {},
     "output_type": "display_data"
    },
    {
     "data": {
      "text/html": [
       "<div><style>\n",
       ".dataframe > thead > tr,\n",
       ".dataframe > tbody > tr {\n",
       "  text-align: right;\n",
       "  white-space: pre-wrap;\n",
       "}\n",
       "</style>\n",
       "<small>shape: (5, 5)</small><table border=\"1\" class=\"dataframe\"><thead><tr><th>VendorID</th><th>passenger_count</th><th>trip_distance</th><th>payment_type</th><th>total_amount</th></tr><tr><td>str</td><td>i64</td><td>f64</td><td>str</td><td>f64</td></tr></thead><tbody><tr><td>&quot;A&quot;</td><td>1</td><td>0.95</td><td>&quot;card&quot;</td><td>14.3</td></tr><tr><td>&quot;A&quot;</td><td>1</td><td>1.2</td><td>&quot;card&quot;</td><td>16.9</td></tr><tr><td>&quot;B&quot;</td><td>2</td><td>2.51</td><td>&quot;cash&quot;</td><td>34.6</td></tr><tr><td>&quot;B&quot;</td><td>2</td><td>2.9</td><td>&quot;cash&quot;</td><td>27.8</td></tr><tr><td>&quot;B&quot;</td><td>1</td><td>1.53</td><td>&quot;card&quot;</td><td>15.2</td></tr></tbody></table></div>"
      ],
      "text/plain": [
       "shape: (5, 5)\n",
       "┌──────────┬─────────────────┬───────────────┬──────────────┬──────────────┐\n",
       "│ VendorID ┆ passenger_count ┆ trip_distance ┆ payment_type ┆ total_amount │\n",
       "│ ---      ┆ ---             ┆ ---           ┆ ---          ┆ ---          │\n",
       "│ str      ┆ i64             ┆ f64           ┆ str          ┆ f64          │\n",
       "╞══════════╪═════════════════╪═══════════════╪══════════════╪══════════════╡\n",
       "│ A        ┆ 1               ┆ 0.95          ┆ card         ┆ 14.3         │\n",
       "│ A        ┆ 1               ┆ 1.2           ┆ card         ┆ 16.9         │\n",
       "│ B        ┆ 2               ┆ 2.51          ┆ cash         ┆ 34.6         │\n",
       "│ B        ┆ 2               ┆ 2.9           ┆ cash         ┆ 27.8         │\n",
       "│ B        ┆ 1               ┆ 1.53          ┆ card         ┆ 15.2         │\n",
       "└──────────┴─────────────────┴───────────────┴──────────────┴──────────────┘"
      ]
     },
     "metadata": {},
     "output_type": "display_data"
    }
   ],
   "source": [
    "# 모든 열 선택\n",
    "display(pl_df.select(pl.col('*')))\n",
    "display(pl_df.select(pl.all()))"
   ]
  },
  {
   "cell_type": "code",
   "execution_count": 62,
   "id": "775d9401-58fd-4f02-b532-e73b911ada6b",
   "metadata": {},
   "outputs": [
    {
     "data": {
      "text/html": [
       "<div><style>\n",
       ".dataframe > thead > tr,\n",
       ".dataframe > tbody > tr {\n",
       "  text-align: right;\n",
       "  white-space: pre-wrap;\n",
       "}\n",
       "</style>\n",
       "<small>shape: (5, 3)</small><table border=\"1\" class=\"dataframe\"><thead><tr><th>VendorID</th><th>passenger_count</th><th>trip_distance</th></tr><tr><td>str</td><td>i64</td><td>f64</td></tr></thead><tbody><tr><td>&quot;A&quot;</td><td>1</td><td>0.95</td></tr><tr><td>&quot;A&quot;</td><td>1</td><td>1.2</td></tr><tr><td>&quot;B&quot;</td><td>2</td><td>2.51</td></tr><tr><td>&quot;B&quot;</td><td>2</td><td>2.9</td></tr><tr><td>&quot;B&quot;</td><td>1</td><td>1.53</td></tr></tbody></table></div>"
      ],
      "text/plain": [
       "shape: (5, 3)\n",
       "┌──────────┬─────────────────┬───────────────┐\n",
       "│ VendorID ┆ passenger_count ┆ trip_distance │\n",
       "│ ---      ┆ ---             ┆ ---           │\n",
       "│ str      ┆ i64             ┆ f64           │\n",
       "╞══════════╪═════════════════╪═══════════════╡\n",
       "│ A        ┆ 1               ┆ 0.95          │\n",
       "│ A        ┆ 1               ┆ 1.2           │\n",
       "│ B        ┆ 2               ┆ 2.51          │\n",
       "│ B        ┆ 2               ┆ 2.9           │\n",
       "│ B        ┆ 1               ┆ 1.53          │\n",
       "└──────────┴─────────────────┴───────────────┘"
      ]
     },
     "metadata": {},
     "output_type": "display_data"
    },
    {
     "data": {
      "text/html": [
       "<div><style>\n",
       ".dataframe > thead > tr,\n",
       ".dataframe > tbody > tr {\n",
       "  text-align: right;\n",
       "  white-space: pre-wrap;\n",
       "}\n",
       "</style>\n",
       "<small>shape: (5, 3)</small><table border=\"1\" class=\"dataframe\"><thead><tr><th>VendorID</th><th>passenger_count</th><th>trip_distance</th></tr><tr><td>str</td><td>i64</td><td>f64</td></tr></thead><tbody><tr><td>&quot;A&quot;</td><td>1</td><td>0.95</td></tr><tr><td>&quot;A&quot;</td><td>1</td><td>1.2</td></tr><tr><td>&quot;B&quot;</td><td>2</td><td>2.51</td></tr><tr><td>&quot;B&quot;</td><td>2</td><td>2.9</td></tr><tr><td>&quot;B&quot;</td><td>1</td><td>1.53</td></tr></tbody></table></div>"
      ],
      "text/plain": [
       "shape: (5, 3)\n",
       "┌──────────┬─────────────────┬───────────────┐\n",
       "│ VendorID ┆ passenger_count ┆ trip_distance │\n",
       "│ ---      ┆ ---             ┆ ---           │\n",
       "│ str      ┆ i64             ┆ f64           │\n",
       "╞══════════╪═════════════════╪═══════════════╡\n",
       "│ A        ┆ 1               ┆ 0.95          │\n",
       "│ A        ┆ 1               ┆ 1.2           │\n",
       "│ B        ┆ 2               ┆ 2.51          │\n",
       "│ B        ┆ 2               ┆ 2.9           │\n",
       "│ B        ┆ 1               ┆ 1.53          │\n",
       "└──────────┴─────────────────┴───────────────┘"
      ]
     },
     "metadata": {},
     "output_type": "display_data"
    },
    {
     "data": {
      "text/html": [
       "<div><style>\n",
       ".dataframe > thead > tr,\n",
       ".dataframe > tbody > tr {\n",
       "  text-align: right;\n",
       "  white-space: pre-wrap;\n",
       "}\n",
       "</style>\n",
       "<small>shape: (5, 3)</small><table border=\"1\" class=\"dataframe\"><thead><tr><th>VendorID</th><th>passenger_count</th><th>trip_distance</th></tr><tr><td>str</td><td>i64</td><td>f64</td></tr></thead><tbody><tr><td>&quot;A&quot;</td><td>1</td><td>0.95</td></tr><tr><td>&quot;A&quot;</td><td>1</td><td>1.2</td></tr><tr><td>&quot;B&quot;</td><td>2</td><td>2.51</td></tr><tr><td>&quot;B&quot;</td><td>2</td><td>2.9</td></tr><tr><td>&quot;B&quot;</td><td>1</td><td>1.53</td></tr></tbody></table></div>"
      ],
      "text/plain": [
       "shape: (5, 3)\n",
       "┌──────────┬─────────────────┬───────────────┐\n",
       "│ VendorID ┆ passenger_count ┆ trip_distance │\n",
       "│ ---      ┆ ---             ┆ ---           │\n",
       "│ str      ┆ i64             ┆ f64           │\n",
       "╞══════════╪═════════════════╪═══════════════╡\n",
       "│ A        ┆ 1               ┆ 0.95          │\n",
       "│ A        ┆ 1               ┆ 1.2           │\n",
       "│ B        ┆ 2               ┆ 2.51          │\n",
       "│ B        ┆ 2               ┆ 2.9           │\n",
       "│ B        ┆ 1               ┆ 1.53          │\n",
       "└──────────┴─────────────────┴───────────────┘"
      ]
     },
     "metadata": {},
     "output_type": "display_data"
    }
   ],
   "source": [
    "# 특정 열 제거\n",
    "display(pl_df.select(pl.col('*').exclude('payment_type', 'total_amount')))\n",
    "display(pl_df.select(pl.all().exclude('payment_type', 'total_amount')))\n",
    "display(pl_df.drop('payment_type', 'total_amount'))"
   ]
  },
  {
   "cell_type": "code",
   "execution_count": 69,
   "id": "80912a60-813b-43bf-9d41-78871f8f911f",
   "metadata": {},
   "outputs": [
    {
     "data": {
      "text/html": [
       "<div><style>\n",
       ".dataframe > thead > tr,\n",
       ".dataframe > tbody > tr {\n",
       "  text-align: right;\n",
       "  white-space: pre-wrap;\n",
       "}\n",
       "</style>\n",
       "<small>shape: (5, 2)</small><table border=\"1\" class=\"dataframe\"><thead><tr><th>trip_distance</th><th>total_amount</th></tr><tr><td>bool</td><td>bool</td></tr></thead><tbody><tr><td>false</td><td>true</td></tr><tr><td>true</td><td>true</td></tr><tr><td>true</td><td>true</td></tr><tr><td>true</td><td>true</td></tr><tr><td>true</td><td>true</td></tr></tbody></table></div>"
      ],
      "text/plain": [
       "shape: (5, 2)\n",
       "┌───────────────┬──────────────┐\n",
       "│ trip_distance ┆ total_amount │\n",
       "│ ---           ┆ ---          │\n",
       "│ bool          ┆ bool         │\n",
       "╞═══════════════╪══════════════╡\n",
       "│ false         ┆ true         │\n",
       "│ true          ┆ true         │\n",
       "│ true          ┆ true         │\n",
       "│ true          ┆ true         │\n",
       "│ true          ┆ true         │\n",
       "└───────────────┴──────────────┘"
      ]
     },
     "execution_count": 69,
     "metadata": {},
     "output_type": "execute_result"
    }
   ],
   "source": [
    "# 여러 컬럼에 메서드 적용하기\n",
    "pl_df.select(pl.col('trip_distance', 'total_amount').gt(1))"
   ]
  },
  {
   "cell_type": "code",
   "execution_count": 70,
   "id": "ff55bfe2-17bf-457a-8f34-e73e432e466a",
   "metadata": {},
   "outputs": [
    {
     "data": {
      "text/html": [
       "<div><style>\n",
       ".dataframe > thead > tr,\n",
       ".dataframe > tbody > tr {\n",
       "  text-align: right;\n",
       "  white-space: pre-wrap;\n",
       "}\n",
       "</style>\n",
       "<small>shape: (5, 2)</small><table border=\"1\" class=\"dataframe\"><thead><tr><th>passenger_count</th><th>total_amount</th></tr><tr><td>i64</td><td>f64</td></tr></thead><tbody><tr><td>1</td><td>14.3</td></tr><tr><td>1</td><td>16.9</td></tr><tr><td>2</td><td>34.6</td></tr><tr><td>2</td><td>27.8</td></tr><tr><td>1</td><td>15.2</td></tr></tbody></table></div>"
      ],
      "text/plain": [
       "shape: (5, 2)\n",
       "┌─────────────────┬──────────────┐\n",
       "│ passenger_count ┆ total_amount │\n",
       "│ ---             ┆ ---          │\n",
       "│ i64             ┆ f64          │\n",
       "╞═════════════════╪══════════════╡\n",
       "│ 1               ┆ 14.3         │\n",
       "│ 1               ┆ 16.9         │\n",
       "│ 2               ┆ 34.6         │\n",
       "│ 2               ┆ 27.8         │\n",
       "│ 1               ┆ 15.2         │\n",
       "└─────────────────┴──────────────┘"
      ]
     },
     "execution_count": 70,
     "metadata": {},
     "output_type": "execute_result"
    }
   ],
   "source": [
    "# 컬럼에 정규식을 조건으로 사용하기\n",
    "pl_df.select(pl.col(\"^.*(unt)$\"))"
   ]
  },
  {
   "cell_type": "code",
   "execution_count": 76,
   "id": "9cc83608-aaea-4606-953c-30d6409cb5bf",
   "metadata": {},
   "outputs": [
    {
     "data": {
      "text/html": [
       "<div><style>\n",
       ".dataframe > thead > tr,\n",
       ".dataframe > tbody > tr {\n",
       "  text-align: right;\n",
       "  white-space: pre-wrap;\n",
       "}\n",
       "</style>\n",
       "<small>shape: (5, 4)</small><table border=\"1\" class=\"dataframe\"><thead><tr><th>VendorID</th><th>trip_distance</th><th>payment_type</th><th>total_amount</th></tr><tr><td>str</td><td>f64</td><td>str</td><td>f64</td></tr></thead><tbody><tr><td>&quot;A&quot;</td><td>0.95</td><td>&quot;card&quot;</td><td>14.3</td></tr><tr><td>&quot;A&quot;</td><td>1.2</td><td>&quot;card&quot;</td><td>16.9</td></tr><tr><td>&quot;B&quot;</td><td>2.51</td><td>&quot;cash&quot;</td><td>34.6</td></tr><tr><td>&quot;B&quot;</td><td>2.9</td><td>&quot;cash&quot;</td><td>27.8</td></tr><tr><td>&quot;B&quot;</td><td>1.53</td><td>&quot;card&quot;</td><td>15.2</td></tr></tbody></table></div>"
      ],
      "text/plain": [
       "shape: (5, 4)\n",
       "┌──────────┬───────────────┬──────────────┬──────────────┐\n",
       "│ VendorID ┆ trip_distance ┆ payment_type ┆ total_amount │\n",
       "│ ---      ┆ ---           ┆ ---          ┆ ---          │\n",
       "│ str      ┆ f64           ┆ str          ┆ f64          │\n",
       "╞══════════╪═══════════════╪══════════════╪══════════════╡\n",
       "│ A        ┆ 0.95          ┆ card         ┆ 14.3         │\n",
       "│ A        ┆ 1.2           ┆ card         ┆ 16.9         │\n",
       "│ B        ┆ 2.51          ┆ cash         ┆ 34.6         │\n",
       "│ B        ┆ 2.9           ┆ cash         ┆ 27.8         │\n",
       "│ B        ┆ 1.53          ┆ card         ┆ 15.2         │\n",
       "└──────────┴───────────────┴──────────────┴──────────────┘"
      ]
     },
     "metadata": {},
     "output_type": "display_data"
    },
    {
     "data": {
      "text/html": [
       "<div><style>\n",
       ".dataframe > thead > tr,\n",
       ".dataframe > tbody > tr {\n",
       "  text-align: right;\n",
       "  white-space: pre-wrap;\n",
       "}\n",
       "</style>\n",
       "<small>shape: (1, 4)</small><table border=\"1\" class=\"dataframe\"><thead><tr><th>VendorID</th><th>trip_distance</th><th>payment_type</th><th>total_amount</th></tr><tr><td>u32</td><td>u32</td><td>u32</td><td>u32</td></tr></thead><tbody><tr><td>2</td><td>5</td><td>2</td><td>5</td></tr></tbody></table></div>"
      ],
      "text/plain": [
       "shape: (1, 4)\n",
       "┌──────────┬───────────────┬──────────────┬──────────────┐\n",
       "│ VendorID ┆ trip_distance ┆ payment_type ┆ total_amount │\n",
       "│ ---      ┆ ---           ┆ ---          ┆ ---          │\n",
       "│ u32      ┆ u32           ┆ u32          ┆ u32          │\n",
       "╞══════════╪═══════════════╪══════════════╪══════════════╡\n",
       "│ 2        ┆ 5             ┆ 2            ┆ 5            │\n",
       "└──────────┴───────────────┴──────────────┴──────────────┘"
      ]
     },
     "metadata": {},
     "output_type": "display_data"
    }
   ],
   "source": [
    "# 데이터 타입으로 컬럼 선택하기 (pandas에서 select_dtypes 라는 메서드를 제공하고 있다.)\n",
    "display(pl_df.select(pl.col(pl.Float64, pl.String)))\n",
    "display(pl_df.select(pl.col(pl.Float64, pl.String).n_unique()))"
   ]
  },
  {
   "cell_type": "code",
   "execution_count": 89,
   "id": "161ff0bb-c457-479b-af45-67693ec3325f",
   "metadata": {},
   "outputs": [
    {
     "name": "stdout",
     "output_type": "stream",
     "text": [
      "dtype_columns([Int16, UInt32, Int8, UInt16, UInt8, Int128, Int64, Int32, UInt64])\n",
      "dtype_columns([String])\n",
      "dtype_columns([Int16, UInt32, Int8, UInt16, UInt8, Int128, Float64, Int64, Float32, Int32, UInt64, Decimal(None, None)])\n",
      "dtype_columns([Float32, Float64])\n"
     ]
    },
    {
     "data": {
      "text/html": [
       "<div><style>\n",
       ".dataframe > thead > tr,\n",
       ".dataframe > tbody > tr {\n",
       "  text-align: right;\n",
       "  white-space: pre-wrap;\n",
       "}\n",
       "</style>\n",
       "<small>shape: (5, 3)</small><table border=\"1\" class=\"dataframe\"><thead><tr><th>passenger_count</th><th>VendorID</th><th>payment_type</th></tr><tr><td>i64</td><td>str</td><td>str</td></tr></thead><tbody><tr><td>1</td><td>&quot;A&quot;</td><td>&quot;card&quot;</td></tr><tr><td>1</td><td>&quot;A&quot;</td><td>&quot;card&quot;</td></tr><tr><td>2</td><td>&quot;B&quot;</td><td>&quot;cash&quot;</td></tr><tr><td>2</td><td>&quot;B&quot;</td><td>&quot;cash&quot;</td></tr><tr><td>1</td><td>&quot;B&quot;</td><td>&quot;card&quot;</td></tr></tbody></table></div>"
      ],
      "text/plain": [
       "shape: (5, 3)\n",
       "┌─────────────────┬──────────┬──────────────┐\n",
       "│ passenger_count ┆ VendorID ┆ payment_type │\n",
       "│ ---             ┆ ---      ┆ ---          │\n",
       "│ i64             ┆ str      ┆ str          │\n",
       "╞═════════════════╪══════════╪══════════════╡\n",
       "│ 1               ┆ A        ┆ card         │\n",
       "│ 1               ┆ A        ┆ card         │\n",
       "│ 2               ┆ B        ┆ cash         │\n",
       "│ 2               ┆ B        ┆ cash         │\n",
       "│ 1               ┆ B        ┆ card         │\n",
       "└─────────────────┴──────────┴──────────────┘"
      ]
     },
     "metadata": {},
     "output_type": "display_data"
    }
   ],
   "source": [
    "# selector\n",
    "import polars.selectors as cs\n",
    "\n",
    "print(cs.integer())\n",
    "print(cs.string())\n",
    "print(cs.numeric())\n",
    "print(cs.float())\n",
    "\n",
    "display(pl_df.select(cs.integer(), cs.string()))"
   ]
  },
  {
   "cell_type": "code",
   "execution_count": 100,
   "id": "cab85cb0-30b1-453a-a5b0-5d130d5e03f8",
   "metadata": {},
   "outputs": [],
   "source": [
    "# 결측 값 확인하기\n",
    "pl_null_df = pl.DataFrame({\n",
    "    \"VendorID\": [\"A\", \"A\", \"B\", None, \"B\"],\n",
    "    \"passenger_count\": [1, None, None, 2, 1],\n",
    "    \"trip_distance\": [0.95, 1.2, None, 2.9, 1.53],\n",
    "    \"payment_type\": [\"card\", \"card\", None, None, \"card\"],\n",
    "    \"total_amount\": [14.3, 16.9, None, 27.8, 15.2]\n",
    "})\n",
    "\n",
    "pd_null_df = pd.DataFrame({\n",
    "    \"VendorID\": [\"A\", \"A\", \"B\", None, \"B\"],\n",
    "    \"passenger_count\": [1, None, None, 2, 1],\n",
    "    \"trip_distance\": [0.95, 1.2, None, 2.9, 1.53],\n",
    "    \"payment_type\": [\"card\", \"card\", None, None, \"card\"],\n",
    "    \"total_amount\": [14.3, 16.9, None, 27.8, 15.2]\n",
    "})"
   ]
  },
  {
   "cell_type": "code",
   "execution_count": 93,
   "id": "4d8c8919-a071-4299-9080-60d71d845f1f",
   "metadata": {},
   "outputs": [
    {
     "data": {
      "text/html": [
       "<div><style>\n",
       ".dataframe > thead > tr,\n",
       ".dataframe > tbody > tr {\n",
       "  text-align: right;\n",
       "  white-space: pre-wrap;\n",
       "}\n",
       "</style>\n",
       "<small>shape: (1, 5)</small><table border=\"1\" class=\"dataframe\"><thead><tr><th>VendorID</th><th>passenger_count</th><th>trip_distance</th><th>payment_type</th><th>total_amount</th></tr><tr><td>u32</td><td>u32</td><td>u32</td><td>u32</td><td>u32</td></tr></thead><tbody><tr><td>1</td><td>2</td><td>1</td><td>2</td><td>1</td></tr></tbody></table></div>"
      ],
      "text/plain": [
       "shape: (1, 5)\n",
       "┌──────────┬─────────────────┬───────────────┬──────────────┬──────────────┐\n",
       "│ VendorID ┆ passenger_count ┆ trip_distance ┆ payment_type ┆ total_amount │\n",
       "│ ---      ┆ ---             ┆ ---           ┆ ---          ┆ ---          │\n",
       "│ u32      ┆ u32             ┆ u32           ┆ u32          ┆ u32          │\n",
       "╞══════════╪═════════════════╪═══════════════╪══════════════╪══════════════╡\n",
       "│ 1        ┆ 2               ┆ 1             ┆ 2            ┆ 1            │\n",
       "└──────────┴─────────────────┴───────────────┴──────────────┴──────────────┘"
      ]
     },
     "execution_count": 93,
     "metadata": {},
     "output_type": "execute_result"
    }
   ],
   "source": [
    "pl_null_df.null_count() # isnull().sum()"
   ]
  },
  {
   "cell_type": "code",
   "execution_count": 103,
   "id": "b2181d92-abc9-4129-a31f-e697a5981a9f",
   "metadata": {},
   "outputs": [
    {
     "data": {
      "text/plain": [
       "VendorID           1\n",
       "passenger_count    2\n",
       "trip_distance      1\n",
       "payment_type       2\n",
       "total_amount       1\n",
       "dtype: int64"
      ]
     },
     "execution_count": 103,
     "metadata": {},
     "output_type": "execute_result"
    }
   ],
   "source": [
    "pd_null_df.isnull().sum()"
   ]
  },
  {
   "cell_type": "code",
   "execution_count": 105,
   "id": "dbe2e3b1-0a44-4fe7-9035-faf9f785d321",
   "metadata": {},
   "outputs": [
    {
     "data": {
      "text/html": [
       "<div><style>\n",
       ".dataframe > thead > tr,\n",
       ".dataframe > tbody > tr {\n",
       "  text-align: right;\n",
       "  white-space: pre-wrap;\n",
       "}\n",
       "</style>\n",
       "<small>shape: (5, 5)</small><table border=\"1\" class=\"dataframe\"><thead><tr><th>VendorID</th><th>passenger_count</th><th>trip_distance</th><th>payment_type</th><th>total_amount</th></tr><tr><td>bool</td><td>bool</td><td>bool</td><td>bool</td><td>bool</td></tr></thead><tbody><tr><td>false</td><td>false</td><td>false</td><td>false</td><td>false</td></tr><tr><td>false</td><td>true</td><td>false</td><td>false</td><td>false</td></tr><tr><td>false</td><td>true</td><td>true</td><td>true</td><td>true</td></tr><tr><td>true</td><td>false</td><td>false</td><td>true</td><td>false</td></tr><tr><td>false</td><td>false</td><td>false</td><td>false</td><td>false</td></tr></tbody></table></div>"
      ],
      "text/plain": [
       "shape: (5, 5)\n",
       "┌──────────┬─────────────────┬───────────────┬──────────────┬──────────────┐\n",
       "│ VendorID ┆ passenger_count ┆ trip_distance ┆ payment_type ┆ total_amount │\n",
       "│ ---      ┆ ---             ┆ ---           ┆ ---          ┆ ---          │\n",
       "│ bool     ┆ bool            ┆ bool          ┆ bool         ┆ bool         │\n",
       "╞══════════╪═════════════════╪═══════════════╪══════════════╪══════════════╡\n",
       "│ false    ┆ false           ┆ false         ┆ false        ┆ false        │\n",
       "│ false    ┆ true            ┆ false         ┆ false        ┆ false        │\n",
       "│ false    ┆ true            ┆ true          ┆ true         ┆ true         │\n",
       "│ true     ┆ false           ┆ false         ┆ true         ┆ false        │\n",
       "│ false    ┆ false           ┆ false         ┆ false        ┆ false        │\n",
       "└──────────┴─────────────────┴───────────────┴──────────────┴──────────────┘"
      ]
     },
     "execution_count": 105,
     "metadata": {},
     "output_type": "execute_result"
    }
   ],
   "source": [
    "pl_null_df.select(pl.col('*').is_null())"
   ]
  },
  {
   "cell_type": "code",
   "execution_count": 107,
   "id": "feabc217-8563-42e2-bac2-40000f764e22",
   "metadata": {},
   "outputs": [
    {
     "data": {
      "text/html": [
       "<div>\n",
       "<style scoped>\n",
       "    .dataframe tbody tr th:only-of-type {\n",
       "        vertical-align: middle;\n",
       "    }\n",
       "\n",
       "    .dataframe tbody tr th {\n",
       "        vertical-align: top;\n",
       "    }\n",
       "\n",
       "    .dataframe thead th {\n",
       "        text-align: right;\n",
       "    }\n",
       "</style>\n",
       "<table border=\"1\" class=\"dataframe\">\n",
       "  <thead>\n",
       "    <tr style=\"text-align: right;\">\n",
       "      <th></th>\n",
       "      <th>VendorID</th>\n",
       "      <th>passenger_count</th>\n",
       "      <th>trip_distance</th>\n",
       "      <th>payment_type</th>\n",
       "      <th>total_amount</th>\n",
       "    </tr>\n",
       "  </thead>\n",
       "  <tbody>\n",
       "    <tr>\n",
       "      <th>0</th>\n",
       "      <td>False</td>\n",
       "      <td>False</td>\n",
       "      <td>False</td>\n",
       "      <td>False</td>\n",
       "      <td>False</td>\n",
       "    </tr>\n",
       "    <tr>\n",
       "      <th>1</th>\n",
       "      <td>False</td>\n",
       "      <td>True</td>\n",
       "      <td>False</td>\n",
       "      <td>False</td>\n",
       "      <td>False</td>\n",
       "    </tr>\n",
       "    <tr>\n",
       "      <th>2</th>\n",
       "      <td>False</td>\n",
       "      <td>True</td>\n",
       "      <td>True</td>\n",
       "      <td>True</td>\n",
       "      <td>True</td>\n",
       "    </tr>\n",
       "    <tr>\n",
       "      <th>3</th>\n",
       "      <td>True</td>\n",
       "      <td>False</td>\n",
       "      <td>False</td>\n",
       "      <td>True</td>\n",
       "      <td>False</td>\n",
       "    </tr>\n",
       "    <tr>\n",
       "      <th>4</th>\n",
       "      <td>False</td>\n",
       "      <td>False</td>\n",
       "      <td>False</td>\n",
       "      <td>False</td>\n",
       "      <td>False</td>\n",
       "    </tr>\n",
       "  </tbody>\n",
       "</table>\n",
       "</div>"
      ],
      "text/plain": [
       "   VendorID  passenger_count  trip_distance  payment_type  total_amount\n",
       "0     False            False          False         False         False\n",
       "1     False             True          False         False         False\n",
       "2     False             True           True          True          True\n",
       "3      True            False          False          True         False\n",
       "4     False            False          False         False         False"
      ]
     },
     "execution_count": 107,
     "metadata": {},
     "output_type": "execute_result"
    }
   ],
   "source": [
    "pd_null_df.isnull()"
   ]
  },
  {
   "cell_type": "code",
   "execution_count": 123,
   "id": "dac65925-f1a0-4ab6-be2d-dc762352b9d2",
   "metadata": {},
   "outputs": [
    {
     "data": {
      "text/html": [
       "<div><style>\n",
       ".dataframe > thead > tr,\n",
       ".dataframe > tbody > tr {\n",
       "  text-align: right;\n",
       "  white-space: pre-wrap;\n",
       "}\n",
       "</style>\n",
       "<small>shape: (5, 5)</small><table border=\"1\" class=\"dataframe\"><thead><tr><th>VendorID</th><th>passenger_count</th><th>trip_distance</th><th>payment_type</th><th>total_amount</th></tr><tr><td>str</td><td>i64</td><td>f64</td><td>str</td><td>f64</td></tr></thead><tbody><tr><td>&quot;A&quot;</td><td>1</td><td>0.95</td><td>&quot;card&quot;</td><td>14.3</td></tr><tr><td>&quot;A&quot;</td><td>2</td><td>1.2</td><td>&quot;card&quot;</td><td>16.9</td></tr><tr><td>&quot;B&quot;</td><td>2</td><td>2.0</td><td>null</td><td>2.0</td></tr><tr><td>null</td><td>2</td><td>2.9</td><td>null</td><td>27.8</td></tr><tr><td>&quot;B&quot;</td><td>1</td><td>1.53</td><td>&quot;card&quot;</td><td>15.2</td></tr></tbody></table></div>"
      ],
      "text/plain": [
       "shape: (5, 5)\n",
       "┌──────────┬─────────────────┬───────────────┬──────────────┬──────────────┐\n",
       "│ VendorID ┆ passenger_count ┆ trip_distance ┆ payment_type ┆ total_amount │\n",
       "│ ---      ┆ ---             ┆ ---           ┆ ---          ┆ ---          │\n",
       "│ str      ┆ i64             ┆ f64           ┆ str          ┆ f64          │\n",
       "╞══════════╪═════════════════╪═══════════════╪══════════════╪══════════════╡\n",
       "│ A        ┆ 1               ┆ 0.95          ┆ card         ┆ 14.3         │\n",
       "│ A        ┆ 2               ┆ 1.2           ┆ card         ┆ 16.9         │\n",
       "│ B        ┆ 2               ┆ 2.0           ┆ null         ┆ 2.0          │\n",
       "│ null     ┆ 2               ┆ 2.9           ┆ null         ┆ 27.8         │\n",
       "│ B        ┆ 1               ┆ 1.53          ┆ card         ┆ 15.2         │\n",
       "└──────────┴─────────────────┴───────────────┴──────────────┴──────────────┘"
      ]
     },
     "execution_count": 123,
     "metadata": {},
     "output_type": "execute_result"
    }
   ],
   "source": [
    "pl_null_df.fill_null(2) # 입력한 값의 데이터 타입에 대응하는 컬럼의 null 값만 채운다."
   ]
  },
  {
   "cell_type": "code",
   "execution_count": 122,
   "id": "a4110649-ebe1-4e90-9bde-903bff35a307",
   "metadata": {},
   "outputs": [
    {
     "data": {
      "text/html": [
       "<div><style>\n",
       ".dataframe > thead > tr,\n",
       ".dataframe > tbody > tr {\n",
       "  text-align: right;\n",
       "  white-space: pre-wrap;\n",
       "}\n",
       "</style>\n",
       "<small>shape: (5, 5)</small><table border=\"1\" class=\"dataframe\"><thead><tr><th>VendorID</th><th>passenger_count</th><th>trip_distance</th><th>payment_type</th><th>total_amount</th></tr><tr><td>str</td><td>i64</td><td>f64</td><td>str</td><td>f64</td></tr></thead><tbody><tr><td>&quot;A&quot;</td><td>1</td><td>0.95</td><td>&quot;card&quot;</td><td>14.3</td></tr><tr><td>&quot;A&quot;</td><td>2</td><td>1.2</td><td>&quot;card&quot;</td><td>16.9</td></tr><tr><td>&quot;B&quot;</td><td>2</td><td>2.0</td><td>&quot;2&quot;</td><td>2.0</td></tr><tr><td>&quot;2&quot;</td><td>2</td><td>2.9</td><td>&quot;2&quot;</td><td>27.8</td></tr><tr><td>&quot;B&quot;</td><td>1</td><td>1.53</td><td>&quot;card&quot;</td><td>15.2</td></tr></tbody></table></div>"
      ],
      "text/plain": [
       "shape: (5, 5)\n",
       "┌──────────┬─────────────────┬───────────────┬──────────────┬──────────────┐\n",
       "│ VendorID ┆ passenger_count ┆ trip_distance ┆ payment_type ┆ total_amount │\n",
       "│ ---      ┆ ---             ┆ ---           ┆ ---          ┆ ---          │\n",
       "│ str      ┆ i64             ┆ f64           ┆ str          ┆ f64          │\n",
       "╞══════════╪═════════════════╪═══════════════╪══════════════╪══════════════╡\n",
       "│ A        ┆ 1               ┆ 0.95          ┆ card         ┆ 14.3         │\n",
       "│ A        ┆ 2               ┆ 1.2           ┆ card         ┆ 16.9         │\n",
       "│ B        ┆ 2               ┆ 2.0           ┆ 2            ┆ 2.0          │\n",
       "│ 2        ┆ 2               ┆ 2.9           ┆ 2            ┆ 27.8         │\n",
       "│ B        ┆ 1               ┆ 1.53          ┆ card         ┆ 15.2         │\n",
       "└──────────┴─────────────────┴───────────────┴──────────────┴──────────────┘"
      ]
     },
     "execution_count": 122,
     "metadata": {},
     "output_type": "execute_result"
    }
   ],
   "source": [
    "pl_null_df.fill_null(pl.lit(2)) # 해당 컬럼에 맞는 형태로 변형하여 null 값을 채운다."
   ]
  },
  {
   "cell_type": "code",
   "execution_count": 116,
   "id": "3efc7b52-a62e-49cb-b2d0-30951d891dc0",
   "metadata": {},
   "outputs": [
    {
     "data": {
      "text/html": [
       "<div><style>\n",
       ".dataframe > thead > tr,\n",
       ".dataframe > tbody > tr {\n",
       "  text-align: right;\n",
       "  white-space: pre-wrap;\n",
       "}\n",
       "</style>\n",
       "<small>shape: (5, 5)</small><table border=\"1\" class=\"dataframe\"><thead><tr><th>VendorID</th><th>passenger_count</th><th>trip_distance</th><th>payment_type</th><th>total_amount</th></tr><tr><td>str</td><td>i64</td><td>f64</td><td>str</td><td>f64</td></tr></thead><tbody><tr><td>&quot;A&quot;</td><td>1</td><td>0.95</td><td>&quot;card&quot;</td><td>14.3</td></tr><tr><td>&quot;A&quot;</td><td>2</td><td>1.2</td><td>&quot;card&quot;</td><td>16.9</td></tr><tr><td>&quot;B&quot;</td><td>2</td><td>2.0</td><td>&quot;2&quot;</td><td>2.0</td></tr><tr><td>&quot;2&quot;</td><td>2</td><td>2.9</td><td>&quot;2&quot;</td><td>27.8</td></tr><tr><td>&quot;B&quot;</td><td>1</td><td>1.53</td><td>&quot;card&quot;</td><td>15.2</td></tr></tbody></table></div>"
      ],
      "text/plain": [
       "shape: (5, 5)\n",
       "┌──────────┬─────────────────┬───────────────┬──────────────┬──────────────┐\n",
       "│ VendorID ┆ passenger_count ┆ trip_distance ┆ payment_type ┆ total_amount │\n",
       "│ ---      ┆ ---             ┆ ---           ┆ ---          ┆ ---          │\n",
       "│ str      ┆ i64             ┆ f64           ┆ str          ┆ f64          │\n",
       "╞══════════╪═════════════════╪═══════════════╪══════════════╪══════════════╡\n",
       "│ A        ┆ 1               ┆ 0.95          ┆ card         ┆ 14.3         │\n",
       "│ A        ┆ 2               ┆ 1.2           ┆ card         ┆ 16.9         │\n",
       "│ B        ┆ 2               ┆ 2.0           ┆ 2            ┆ 2.0          │\n",
       "│ 2        ┆ 2               ┆ 2.9           ┆ 2            ┆ 27.8         │\n",
       "│ B        ┆ 1               ┆ 1.53          ┆ card         ┆ 15.2         │\n",
       "└──────────┴─────────────────┴───────────────┴──────────────┴──────────────┘"
      ]
     },
     "execution_count": 116,
     "metadata": {},
     "output_type": "execute_result"
    }
   ],
   "source": [
    "# with_columns ? >>> 컬럼을 추가하는 메서드, but! 컬럼명을 지정해주지 않고, 진행할 경우 새로운 컬럼이 생기는 것이 아니라 기존의 컬럼 값이 변경된다(기존 컬럼을 활용한 경우).\n",
    "pl_null_df.select(pl.col('*').fill_null(2))"
   ]
  },
  {
   "cell_type": "code",
   "execution_count": 141,
   "id": "b467980c-1df8-4e2d-82f3-36e913ce2f14",
   "metadata": {},
   "outputs": [
    {
     "data": {
      "text/html": [
       "<div><style>\n",
       ".dataframe > thead > tr,\n",
       ".dataframe > tbody > tr {\n",
       "  text-align: right;\n",
       "  white-space: pre-wrap;\n",
       "}\n",
       "</style>\n",
       "<small>shape: (5, 7)</small><table border=\"1\" class=\"dataframe\"><thead><tr><th>VendorID</th><th>passenger_count</th><th>trip_distance</th><th>payment_type</th><th>total_amount</th><th>a</th><th>b</th></tr><tr><td>str</td><td>i64</td><td>f64</td><td>str</td><td>f64</td><td>i32</td><td>i32</td></tr></thead><tbody><tr><td>&quot;A&quot;</td><td>1</td><td>0.95</td><td>&quot;card&quot;</td><td>14.3</td><td>1</td><td>2</td></tr><tr><td>&quot;A&quot;</td><td>null</td><td>1.2</td><td>&quot;card&quot;</td><td>16.9</td><td>1</td><td>2</td></tr><tr><td>&quot;B&quot;</td><td>null</td><td>null</td><td>null</td><td>null</td><td>1</td><td>2</td></tr><tr><td>null</td><td>2</td><td>2.9</td><td>null</td><td>27.8</td><td>1</td><td>2</td></tr><tr><td>&quot;B&quot;</td><td>1</td><td>1.53</td><td>&quot;card&quot;</td><td>15.2</td><td>1</td><td>2</td></tr></tbody></table></div>"
      ],
      "text/plain": [
       "shape: (5, 7)\n",
       "┌──────────┬─────────────────┬───────────────┬──────────────┬──────────────┬─────┬─────┐\n",
       "│ VendorID ┆ passenger_count ┆ trip_distance ┆ payment_type ┆ total_amount ┆ a   ┆ b   │\n",
       "│ ---      ┆ ---             ┆ ---           ┆ ---          ┆ ---          ┆ --- ┆ --- │\n",
       "│ str      ┆ i64             ┆ f64           ┆ str          ┆ f64          ┆ i32 ┆ i32 │\n",
       "╞══════════╪═════════════════╪═══════════════╪══════════════╪══════════════╪═════╪═════╡\n",
       "│ A        ┆ 1               ┆ 0.95          ┆ card         ┆ 14.3         ┆ 1   ┆ 2   │\n",
       "│ A        ┆ null            ┆ 1.2           ┆ card         ┆ 16.9         ┆ 1   ┆ 2   │\n",
       "│ B        ┆ null            ┆ null          ┆ null         ┆ null         ┆ 1   ┆ 2   │\n",
       "│ null     ┆ 2               ┆ 2.9           ┆ null         ┆ 27.8         ┆ 1   ┆ 2   │\n",
       "│ B        ┆ 1               ┆ 1.53          ┆ card         ┆ 15.2         ┆ 1   ┆ 2   │\n",
       "└──────────┴─────────────────┴───────────────┴──────────────┴──────────────┴─────┴─────┘"
      ]
     },
     "execution_count": 141,
     "metadata": {},
     "output_type": "execute_result"
    }
   ],
   "source": [
    "pl_null_df.with_columns(a = 1, b = 2)"
   ]
  },
  {
   "cell_type": "code",
   "execution_count": 150,
   "id": "644d18cf-7041-4177-b542-e169aee57add",
   "metadata": {},
   "outputs": [
    {
     "data": {
      "text/html": [
       "<div><style>\n",
       ".dataframe > thead > tr,\n",
       ".dataframe > tbody > tr {\n",
       "  text-align: right;\n",
       "  white-space: pre-wrap;\n",
       "}\n",
       "</style>\n",
       "<small>shape: (5, 6)</small><table border=\"1\" class=\"dataframe\"><thead><tr><th>VendorID</th><th>passenger_count</th><th>trip_distance</th><th>payment_type</th><th>total_amount</th><th>test</th></tr><tr><td>str</td><td>i64</td><td>f64</td><td>str</td><td>f64</td><td>i64</td></tr></thead><tbody><tr><td>&quot;A&quot;</td><td>1</td><td>0.95</td><td>&quot;card&quot;</td><td>14.3</td><td>13</td></tr><tr><td>&quot;A&quot;</td><td>null</td><td>1.2</td><td>&quot;card&quot;</td><td>16.9</td><td>20</td></tr><tr><td>&quot;B&quot;</td><td>null</td><td>null</td><td>null</td><td>null</td><td>null</td></tr><tr><td>null</td><td>2</td><td>2.9</td><td>null</td><td>27.8</td><td>80</td></tr><tr><td>&quot;B&quot;</td><td>1</td><td>1.53</td><td>&quot;card&quot;</td><td>15.2</td><td>23</td></tr></tbody></table></div>"
      ],
      "text/plain": [
       "shape: (5, 6)\n",
       "┌──────────┬─────────────────┬───────────────┬──────────────┬──────────────┬──────┐\n",
       "│ VendorID ┆ passenger_count ┆ trip_distance ┆ payment_type ┆ total_amount ┆ test │\n",
       "│ ---      ┆ ---             ┆ ---           ┆ ---          ┆ ---          ┆ ---  │\n",
       "│ str      ┆ i64             ┆ f64           ┆ str          ┆ f64          ┆ i64  │\n",
       "╞══════════╪═════════════════╪═══════════════╪══════════════╪══════════════╪══════╡\n",
       "│ A        ┆ 1               ┆ 0.95          ┆ card         ┆ 14.3         ┆ 13   │\n",
       "│ A        ┆ null            ┆ 1.2           ┆ card         ┆ 16.9         ┆ 20   │\n",
       "│ B        ┆ null            ┆ null          ┆ null         ┆ null         ┆ null │\n",
       "│ null     ┆ 2               ┆ 2.9           ┆ null         ┆ 27.8         ┆ 80   │\n",
       "│ B        ┆ 1               ┆ 1.53          ┆ card         ┆ 15.2         ┆ 23   │\n",
       "└──────────┴─────────────────┴───────────────┴──────────────┴──────────────┴──────┘"
      ]
     },
     "execution_count": 150,
     "metadata": {},
     "output_type": "execute_result"
    }
   ],
   "source": [
    "# alias 메서드르 통해 컬러명 지정 가능\n",
    "# cast 메서드를 통해 데이터 타입 지정 가능\n",
    "pl_null_df.with_columns((pl.col('trip_distance') * pl.col('total_amount')).alias('test').cast(int))"
   ]
  },
  {
   "cell_type": "code",
   "execution_count": 153,
   "id": "b7ce8fd5-e787-45df-89d6-6c49f29730b7",
   "metadata": {},
   "outputs": [
    {
     "data": {
      "text/html": [
       "<div><style>\n",
       ".dataframe > thead > tr,\n",
       ".dataframe > tbody > tr {\n",
       "  text-align: right;\n",
       "  white-space: pre-wrap;\n",
       "}\n",
       "</style>\n",
       "<small>shape: (5, 5)</small><table border=\"1\" class=\"dataframe\"><thead><tr><th>VendorID</th><th>passenger_count</th><th>trip_distance</th><th>payment_type</th><th>total_amount</th></tr><tr><td>str</td><td>i64</td><td>f64</td><td>str</td><td>f64</td></tr></thead><tbody><tr><td>&quot;A&quot;</td><td>1</td><td>0.95</td><td>&quot;card&quot;</td><td>14.3</td></tr><tr><td>&quot;A&quot;</td><td>1</td><td>1.2</td><td>&quot;card&quot;</td><td>16.9</td></tr><tr><td>&quot;B&quot;</td><td>1</td><td>1.2</td><td>&quot;card&quot;</td><td>16.9</td></tr><tr><td>&quot;B&quot;</td><td>2</td><td>2.9</td><td>&quot;card&quot;</td><td>27.8</td></tr><tr><td>&quot;B&quot;</td><td>1</td><td>1.53</td><td>&quot;card&quot;</td><td>15.2</td></tr></tbody></table></div>"
      ],
      "text/plain": [
       "shape: (5, 5)\n",
       "┌──────────┬─────────────────┬───────────────┬──────────────┬──────────────┐\n",
       "│ VendorID ┆ passenger_count ┆ trip_distance ┆ payment_type ┆ total_amount │\n",
       "│ ---      ┆ ---             ┆ ---           ┆ ---          ┆ ---          │\n",
       "│ str      ┆ i64             ┆ f64           ┆ str          ┆ f64          │\n",
       "╞══════════╪═════════════════╪═══════════════╪══════════════╪══════════════╡\n",
       "│ A        ┆ 1               ┆ 0.95          ┆ card         ┆ 14.3         │\n",
       "│ A        ┆ 1               ┆ 1.2           ┆ card         ┆ 16.9         │\n",
       "│ B        ┆ 1               ┆ 1.2           ┆ card         ┆ 16.9         │\n",
       "│ B        ┆ 2               ┆ 2.9           ┆ card         ┆ 27.8         │\n",
       "│ B        ┆ 1               ┆ 1.53          ┆ card         ┆ 15.2         │\n",
       "└──────────┴─────────────────┴───────────────┴──────────────┴──────────────┘"
      ]
     },
     "metadata": {},
     "output_type": "display_data"
    },
    {
     "data": {
      "text/html": [
       "<div><style>\n",
       ".dataframe > thead > tr,\n",
       ".dataframe > tbody > tr {\n",
       "  text-align: right;\n",
       "  white-space: pre-wrap;\n",
       "}\n",
       "</style>\n",
       "<small>shape: (5, 5)</small><table border=\"1\" class=\"dataframe\"><thead><tr><th>VendorID</th><th>passenger_count</th><th>trip_distance</th><th>payment_type</th><th>total_amount</th></tr><tr><td>str</td><td>i64</td><td>f64</td><td>str</td><td>f64</td></tr></thead><tbody><tr><td>&quot;A&quot;</td><td>1</td><td>0.95</td><td>&quot;card&quot;</td><td>14.3</td></tr><tr><td>&quot;A&quot;</td><td>2</td><td>1.2</td><td>&quot;card&quot;</td><td>16.9</td></tr><tr><td>&quot;B&quot;</td><td>2</td><td>2.9</td><td>&quot;card&quot;</td><td>27.8</td></tr><tr><td>&quot;B&quot;</td><td>2</td><td>2.9</td><td>&quot;card&quot;</td><td>27.8</td></tr><tr><td>&quot;B&quot;</td><td>1</td><td>1.53</td><td>&quot;card&quot;</td><td>15.2</td></tr></tbody></table></div>"
      ],
      "text/plain": [
       "shape: (5, 5)\n",
       "┌──────────┬─────────────────┬───────────────┬──────────────┬──────────────┐\n",
       "│ VendorID ┆ passenger_count ┆ trip_distance ┆ payment_type ┆ total_amount │\n",
       "│ ---      ┆ ---             ┆ ---           ┆ ---          ┆ ---          │\n",
       "│ str      ┆ i64             ┆ f64           ┆ str          ┆ f64          │\n",
       "╞══════════╪═════════════════╪═══════════════╪══════════════╪══════════════╡\n",
       "│ A        ┆ 1               ┆ 0.95          ┆ card         ┆ 14.3         │\n",
       "│ A        ┆ 2               ┆ 1.2           ┆ card         ┆ 16.9         │\n",
       "│ B        ┆ 2               ┆ 2.9           ┆ card         ┆ 27.8         │\n",
       "│ B        ┆ 2               ┆ 2.9           ┆ card         ┆ 27.8         │\n",
       "│ B        ┆ 1               ┆ 1.53          ┆ card         ┆ 15.2         │\n",
       "└──────────┴─────────────────┴───────────────┴──────────────┴──────────────┘"
      ]
     },
     "metadata": {},
     "output_type": "display_data"
    }
   ],
   "source": [
    "# Strategy를 이용한 결측값 채우기 - strategy = 'forward', 'backward', 'min', 'max', 'mean', 'zero', 'one'\n",
    "display(pl_null_df.with_columns(pl.col('*').fill_null(strategy = 'forward')))\n",
    "display(pl_null_df.with_columns(pl.col('*').fill_null(strategy = 'backward')))"
   ]
  },
  {
   "cell_type": "code",
   "execution_count": 155,
   "id": "6858f960-4e2d-4e16-89b9-0cf8e3eb6f70",
   "metadata": {},
   "outputs": [
    {
     "data": {
      "text/html": [
       "<div><style>\n",
       ".dataframe > thead > tr,\n",
       ".dataframe > tbody > tr {\n",
       "  text-align: right;\n",
       "  white-space: pre-wrap;\n",
       "}\n",
       "</style>\n",
       "<small>shape: (5, 5)</small><table border=\"1\" class=\"dataframe\"><thead><tr><th>VendorID</th><th>passenger_count</th><th>trip_distance</th><th>payment_type</th><th>total_amount</th></tr><tr><td>str</td><td>f64</td><td>f64</td><td>str</td><td>f64</td></tr></thead><tbody><tr><td>&quot;A&quot;</td><td>1.0</td><td>0.95</td><td>&quot;card&quot;</td><td>14.3</td></tr><tr><td>&quot;A&quot;</td><td>1.0</td><td>1.2</td><td>&quot;card&quot;</td><td>16.9</td></tr><tr><td>&quot;B&quot;</td><td>1.0</td><td>1.365</td><td>null</td><td>16.05</td></tr><tr><td>null</td><td>2.0</td><td>2.9</td><td>null</td><td>27.8</td></tr><tr><td>&quot;B&quot;</td><td>1.0</td><td>1.53</td><td>&quot;card&quot;</td><td>15.2</td></tr></tbody></table></div>"
      ],
      "text/plain": [
       "shape: (5, 5)\n",
       "┌──────────┬─────────────────┬───────────────┬──────────────┬──────────────┐\n",
       "│ VendorID ┆ passenger_count ┆ trip_distance ┆ payment_type ┆ total_amount │\n",
       "│ ---      ┆ ---             ┆ ---           ┆ ---          ┆ ---          │\n",
       "│ str      ┆ f64             ┆ f64           ┆ str          ┆ f64          │\n",
       "╞══════════╪═════════════════╪═══════════════╪══════════════╪══════════════╡\n",
       "│ A        ┆ 1.0             ┆ 0.95          ┆ card         ┆ 14.3         │\n",
       "│ A        ┆ 1.0             ┆ 1.2           ┆ card         ┆ 16.9         │\n",
       "│ B        ┆ 1.0             ┆ 1.365         ┆ null         ┆ 16.05        │\n",
       "│ null     ┆ 2.0             ┆ 2.9           ┆ null         ┆ 27.8         │\n",
       "│ B        ┆ 1.0             ┆ 1.53          ┆ card         ┆ 15.2         │\n",
       "└──────────┴─────────────────┴───────────────┴──────────────┴──────────────┘"
      ]
     },
     "execution_count": 155,
     "metadata": {},
     "output_type": "execute_result"
    }
   ],
   "source": [
    "pl_null_df.with_columns(pl.col(['passenger_count', 'trip_distance', 'total_amount']).fill_null(pl.median(['passenger_count', 'trip_distance', 'total_amount'])))"
   ]
  },
  {
   "cell_type": "code",
   "execution_count": 162,
   "id": "e319f3b8-fa33-4294-b0ba-30ce6263a452",
   "metadata": {},
   "outputs": [
    {
     "data": {
      "text/html": [
       "<div><style>\n",
       ".dataframe > thead > tr,\n",
       ".dataframe > tbody > tr {\n",
       "  text-align: right;\n",
       "  white-space: pre-wrap;\n",
       "}\n",
       "</style>\n",
       "<small>shape: (5, 5)</small><table border=\"1\" class=\"dataframe\"><thead><tr><th>VendorID</th><th>passenger_count</th><th>trip_distance</th><th>payment_type</th><th>total_amount</th></tr><tr><td>str</td><td>f64</td><td>f64</td><td>str</td><td>f64</td></tr></thead><tbody><tr><td>&quot;A&quot;</td><td>1.0</td><td>0.95</td><td>&quot;card&quot;</td><td>14.3</td></tr><tr><td>&quot;A&quot;</td><td>1.333333</td><td>1.2</td><td>&quot;card&quot;</td><td>16.9</td></tr><tr><td>&quot;B&quot;</td><td>1.666667</td><td>2.05</td><td>null</td><td>22.35</td></tr><tr><td>null</td><td>2.0</td><td>2.9</td><td>null</td><td>27.8</td></tr><tr><td>&quot;B&quot;</td><td>1.0</td><td>1.53</td><td>&quot;card&quot;</td><td>15.2</td></tr></tbody></table></div>"
      ],
      "text/plain": [
       "shape: (5, 5)\n",
       "┌──────────┬─────────────────┬───────────────┬──────────────┬──────────────┐\n",
       "│ VendorID ┆ passenger_count ┆ trip_distance ┆ payment_type ┆ total_amount │\n",
       "│ ---      ┆ ---             ┆ ---           ┆ ---          ┆ ---          │\n",
       "│ str      ┆ f64             ┆ f64           ┆ str          ┆ f64          │\n",
       "╞══════════╪═════════════════╪═══════════════╪══════════════╪══════════════╡\n",
       "│ A        ┆ 1.0             ┆ 0.95          ┆ card         ┆ 14.3         │\n",
       "│ A        ┆ 1.333333        ┆ 1.2           ┆ card         ┆ 16.9         │\n",
       "│ B        ┆ 1.666667        ┆ 2.05          ┆ null         ┆ 22.35        │\n",
       "│ null     ┆ 2.0             ┆ 2.9           ┆ null         ┆ 27.8         │\n",
       "│ B        ┆ 1.0             ┆ 1.53          ┆ card         ┆ 15.2         │\n",
       "└──────────┴─────────────────┴───────────────┴──────────────┴──────────────┘"
      ]
     },
     "execution_count": 162,
     "metadata": {},
     "output_type": "execute_result"
    }
   ],
   "source": [
    "pl_null_df.with_columns(pl.col(['passenger_count', 'trip_distance', 'total_amount']).interpolate())"
   ]
  },
  {
   "cell_type": "code",
   "execution_count": 166,
   "id": "30715d79-cdf3-4b7c-a86b-37f3c2630e4e",
   "metadata": {},
   "outputs": [],
   "source": [
    "# join\n",
    "# pandas\n",
    "pd_menu = pd.DataFrame(\n",
    "    {\n",
    "        \"item\": [\"coffee\", \"latte\", \"ade\", \"cake\", \"bread\", \"chocolate\"],\n",
    "        \"type\": [\"beverage\", \"beverage\", \"beverage\", \"dessert\", \"dessert\", \"dessert\"],\n",
    "        \"price\": [3000, 4000, 5000, 6000, 7500, 4500]\n",
    "    }\n",
    ")\n",
    "\n",
    "pd_orders = pd.DataFrame(\n",
    "    {\n",
    "        \"item\": [\"coffee\", \"ade\", \"coffee\", \"cake\", \"chocolate\"],\n",
    "        \"number_of_orders\": [1, 3, 7, 2, 5]\n",
    "    }\n",
    ")\n",
    "\n",
    "# polars\n",
    "menu = pl.from_pandas(pd_menu)\n",
    "orders = pl.from_pandas(pd_orders)"
   ]
  },
  {
   "cell_type": "code",
   "execution_count": 168,
   "id": "40c5e0e9-399d-4c46-82d1-f1bad39d312f",
   "metadata": {},
   "outputs": [
    {
     "data": {
      "text/html": [
       "<div><style>\n",
       ".dataframe > thead > tr,\n",
       ".dataframe > tbody > tr {\n",
       "  text-align: right;\n",
       "  white-space: pre-wrap;\n",
       "}\n",
       "</style>\n",
       "<small>shape: (6, 3)</small><table border=\"1\" class=\"dataframe\"><thead><tr><th>item</th><th>type</th><th>price</th></tr><tr><td>str</td><td>str</td><td>i64</td></tr></thead><tbody><tr><td>&quot;coffee&quot;</td><td>&quot;beverage&quot;</td><td>3000</td></tr><tr><td>&quot;latte&quot;</td><td>&quot;beverage&quot;</td><td>4000</td></tr><tr><td>&quot;ade&quot;</td><td>&quot;beverage&quot;</td><td>5000</td></tr><tr><td>&quot;cake&quot;</td><td>&quot;dessert&quot;</td><td>6000</td></tr><tr><td>&quot;bread&quot;</td><td>&quot;dessert&quot;</td><td>7500</td></tr><tr><td>&quot;chocolate&quot;</td><td>&quot;dessert&quot;</td><td>4500</td></tr></tbody></table></div>"
      ],
      "text/plain": [
       "shape: (6, 3)\n",
       "┌───────────┬──────────┬───────┐\n",
       "│ item      ┆ type     ┆ price │\n",
       "│ ---       ┆ ---      ┆ ---   │\n",
       "│ str       ┆ str      ┆ i64   │\n",
       "╞═══════════╪══════════╪═══════╡\n",
       "│ coffee    ┆ beverage ┆ 3000  │\n",
       "│ latte     ┆ beverage ┆ 4000  │\n",
       "│ ade       ┆ beverage ┆ 5000  │\n",
       "│ cake      ┆ dessert  ┆ 6000  │\n",
       "│ bread     ┆ dessert  ┆ 7500  │\n",
       "│ chocolate ┆ dessert  ┆ 4500  │\n",
       "└───────────┴──────────┴───────┘"
      ]
     },
     "metadata": {},
     "output_type": "display_data"
    },
    {
     "data": {
      "text/html": [
       "<div><style>\n",
       ".dataframe > thead > tr,\n",
       ".dataframe > tbody > tr {\n",
       "  text-align: right;\n",
       "  white-space: pre-wrap;\n",
       "}\n",
       "</style>\n",
       "<small>shape: (5, 2)</small><table border=\"1\" class=\"dataframe\"><thead><tr><th>item</th><th>number_of_orders</th></tr><tr><td>str</td><td>i64</td></tr></thead><tbody><tr><td>&quot;coffee&quot;</td><td>1</td></tr><tr><td>&quot;ade&quot;</td><td>3</td></tr><tr><td>&quot;coffee&quot;</td><td>7</td></tr><tr><td>&quot;cake&quot;</td><td>2</td></tr><tr><td>&quot;chocolate&quot;</td><td>5</td></tr></tbody></table></div>"
      ],
      "text/plain": [
       "shape: (5, 2)\n",
       "┌───────────┬──────────────────┐\n",
       "│ item      ┆ number_of_orders │\n",
       "│ ---       ┆ ---              │\n",
       "│ str       ┆ i64              │\n",
       "╞═══════════╪══════════════════╡\n",
       "│ coffee    ┆ 1                │\n",
       "│ ade       ┆ 3                │\n",
       "│ coffee    ┆ 7                │\n",
       "│ cake      ┆ 2                │\n",
       "│ chocolate ┆ 5                │\n",
       "└───────────┴──────────────────┘"
      ]
     },
     "metadata": {},
     "output_type": "display_data"
    },
    {
     "data": {
      "text/plain": [
       "(None, None)"
      ]
     },
     "execution_count": 168,
     "metadata": {},
     "output_type": "execute_result"
    }
   ],
   "source": [
    "display(menu), display(orders)"
   ]
  },
  {
   "cell_type": "code",
   "execution_count": 175,
   "id": "7b65dc7f-20de-4c5d-ae32-1d01b78fed80",
   "metadata": {},
   "outputs": [
    {
     "data": {
      "text/html": [
       "<div><style>\n",
       ".dataframe > thead > tr,\n",
       ".dataframe > tbody > tr {\n",
       "  text-align: right;\n",
       "  white-space: pre-wrap;\n",
       "}\n",
       "</style>\n",
       "<small>shape: (5, 4)</small><table border=\"1\" class=\"dataframe\"><thead><tr><th>item</th><th>type</th><th>price</th><th>number_of_orders</th></tr><tr><td>str</td><td>str</td><td>i64</td><td>i64</td></tr></thead><tbody><tr><td>&quot;coffee&quot;</td><td>&quot;beverage&quot;</td><td>3000</td><td>1</td></tr><tr><td>&quot;coffee&quot;</td><td>&quot;beverage&quot;</td><td>3000</td><td>7</td></tr><tr><td>&quot;ade&quot;</td><td>&quot;beverage&quot;</td><td>5000</td><td>3</td></tr><tr><td>&quot;cake&quot;</td><td>&quot;dessert&quot;</td><td>6000</td><td>2</td></tr><tr><td>&quot;chocolate&quot;</td><td>&quot;dessert&quot;</td><td>4500</td><td>5</td></tr></tbody></table></div>"
      ],
      "text/plain": [
       "shape: (5, 4)\n",
       "┌───────────┬──────────┬───────┬──────────────────┐\n",
       "│ item      ┆ type     ┆ price ┆ number_of_orders │\n",
       "│ ---       ┆ ---      ┆ ---   ┆ ---              │\n",
       "│ str       ┆ str      ┆ i64   ┆ i64              │\n",
       "╞═══════════╪══════════╪═══════╪══════════════════╡\n",
       "│ coffee    ┆ beverage ┆ 3000  ┆ 1                │\n",
       "│ coffee    ┆ beverage ┆ 3000  ┆ 7                │\n",
       "│ ade       ┆ beverage ┆ 5000  ┆ 3                │\n",
       "│ cake      ┆ dessert  ┆ 6000  ┆ 2                │\n",
       "│ chocolate ┆ dessert  ┆ 4500  ┆ 5                │\n",
       "└───────────┴──────────┴───────┴──────────────────┘"
      ]
     },
     "execution_count": 175,
     "metadata": {},
     "output_type": "execute_result"
    }
   ],
   "source": [
    "menu.join(orders,\n",
    "          on = ['item'],\n",
    "          how = 'inner')"
   ]
  },
  {
   "cell_type": "code",
   "execution_count": 226,
   "id": "831a7124-7148-4c6f-988f-951770d77534",
   "metadata": {},
   "outputs": [
    {
     "data": {
      "text/html": [
       "<div><style>\n",
       ".dataframe > thead > tr,\n",
       ".dataframe > tbody > tr {\n",
       "  text-align: right;\n",
       "  white-space: pre-wrap;\n",
       "}\n",
       "</style>\n",
       "<small>shape: (7, 4)</small><table border=\"1\" class=\"dataframe\"><thead><tr><th>item</th><th>type</th><th>price</th><th>number_of_orders</th></tr><tr><td>str</td><td>str</td><td>i64</td><td>i64</td></tr></thead><tbody><tr><td>&quot;coffee&quot;</td><td>&quot;beverage&quot;</td><td>3000</td><td>1</td></tr><tr><td>&quot;coffee&quot;</td><td>&quot;beverage&quot;</td><td>3000</td><td>7</td></tr><tr><td>&quot;latte&quot;</td><td>&quot;beverage&quot;</td><td>4000</td><td>null</td></tr><tr><td>&quot;ade&quot;</td><td>&quot;beverage&quot;</td><td>5000</td><td>3</td></tr><tr><td>&quot;cake&quot;</td><td>&quot;dessert&quot;</td><td>6000</td><td>2</td></tr><tr><td>&quot;bread&quot;</td><td>&quot;dessert&quot;</td><td>7500</td><td>null</td></tr><tr><td>&quot;chocolate&quot;</td><td>&quot;dessert&quot;</td><td>4500</td><td>5</td></tr></tbody></table></div>"
      ],
      "text/plain": [
       "shape: (7, 4)\n",
       "┌───────────┬──────────┬───────┬──────────────────┐\n",
       "│ item      ┆ type     ┆ price ┆ number_of_orders │\n",
       "│ ---       ┆ ---      ┆ ---   ┆ ---              │\n",
       "│ str       ┆ str      ┆ i64   ┆ i64              │\n",
       "╞═══════════╪══════════╪═══════╪══════════════════╡\n",
       "│ coffee    ┆ beverage ┆ 3000  ┆ 1                │\n",
       "│ coffee    ┆ beverage ┆ 3000  ┆ 7                │\n",
       "│ latte     ┆ beverage ┆ 4000  ┆ null             │\n",
       "│ ade       ┆ beverage ┆ 5000  ┆ 3                │\n",
       "│ cake      ┆ dessert  ┆ 6000  ┆ 2                │\n",
       "│ bread     ┆ dessert  ┆ 7500  ┆ null             │\n",
       "│ chocolate ┆ dessert  ┆ 4500  ┆ 5                │\n",
       "└───────────┴──────────┴───────┴──────────────────┘"
      ]
     },
     "execution_count": 226,
     "metadata": {},
     "output_type": "execute_result"
    }
   ],
   "source": [
    "menu.join(orders,\n",
    "          on = ['item'],\n",
    "          how = 'left')"
   ]
  },
  {
   "cell_type": "code",
   "execution_count": 227,
   "id": "017d8b6c-56a2-4d7c-b86c-5038b7657f05",
   "metadata": {},
   "outputs": [
    {
     "data": {
      "text/html": [
       "<div><style>\n",
       ".dataframe > thead > tr,\n",
       ".dataframe > tbody > tr {\n",
       "  text-align: right;\n",
       "  white-space: pre-wrap;\n",
       "}\n",
       "</style>\n",
       "<small>shape: (5, 4)</small><table border=\"1\" class=\"dataframe\"><thead><tr><th>type</th><th>price</th><th>item</th><th>number_of_orders</th></tr><tr><td>str</td><td>i64</td><td>str</td><td>i64</td></tr></thead><tbody><tr><td>&quot;beverage&quot;</td><td>3000</td><td>&quot;coffee&quot;</td><td>1</td></tr><tr><td>&quot;beverage&quot;</td><td>5000</td><td>&quot;ade&quot;</td><td>3</td></tr><tr><td>&quot;beverage&quot;</td><td>3000</td><td>&quot;coffee&quot;</td><td>7</td></tr><tr><td>&quot;dessert&quot;</td><td>6000</td><td>&quot;cake&quot;</td><td>2</td></tr><tr><td>&quot;dessert&quot;</td><td>4500</td><td>&quot;chocolate&quot;</td><td>5</td></tr></tbody></table></div>"
      ],
      "text/plain": [
       "shape: (5, 4)\n",
       "┌──────────┬───────┬───────────┬──────────────────┐\n",
       "│ type     ┆ price ┆ item      ┆ number_of_orders │\n",
       "│ ---      ┆ ---   ┆ ---       ┆ ---              │\n",
       "│ str      ┆ i64   ┆ str       ┆ i64              │\n",
       "╞══════════╪═══════╪═══════════╪══════════════════╡\n",
       "│ beverage ┆ 3000  ┆ coffee    ┆ 1                │\n",
       "│ beverage ┆ 5000  ┆ ade       ┆ 3                │\n",
       "│ beverage ┆ 3000  ┆ coffee    ┆ 7                │\n",
       "│ dessert  ┆ 6000  ┆ cake      ┆ 2                │\n",
       "│ dessert  ┆ 4500  ┆ chocolate ┆ 5                │\n",
       "└──────────┴───────┴───────────┴──────────────────┘"
      ]
     },
     "execution_count": 227,
     "metadata": {},
     "output_type": "execute_result"
    }
   ],
   "source": [
    "menu.join(orders,\n",
    "          on = ['item'],\n",
    "          how = 'right')"
   ]
  },
  {
   "cell_type": "code",
   "execution_count": 177,
   "id": "3c1eec82-8dde-4cfb-b830-4ea5e15cf1c4",
   "metadata": {},
   "outputs": [
    {
     "data": {
      "text/html": [
       "<div><style>\n",
       ".dataframe > thead > tr,\n",
       ".dataframe > tbody > tr {\n",
       "  text-align: right;\n",
       "  white-space: pre-wrap;\n",
       "}\n",
       "</style>\n",
       "<small>shape: (7, 5)</small><table border=\"1\" class=\"dataframe\"><thead><tr><th>item</th><th>type</th><th>price</th><th>item_right</th><th>number_of_orders</th></tr><tr><td>str</td><td>str</td><td>i64</td><td>str</td><td>i64</td></tr></thead><tbody><tr><td>&quot;coffee&quot;</td><td>&quot;beverage&quot;</td><td>3000</td><td>&quot;coffee&quot;</td><td>1</td></tr><tr><td>&quot;coffee&quot;</td><td>&quot;beverage&quot;</td><td>3000</td><td>&quot;coffee&quot;</td><td>7</td></tr><tr><td>&quot;latte&quot;</td><td>&quot;beverage&quot;</td><td>4000</td><td>null</td><td>null</td></tr><tr><td>&quot;ade&quot;</td><td>&quot;beverage&quot;</td><td>5000</td><td>&quot;ade&quot;</td><td>3</td></tr><tr><td>&quot;cake&quot;</td><td>&quot;dessert&quot;</td><td>6000</td><td>&quot;cake&quot;</td><td>2</td></tr><tr><td>&quot;bread&quot;</td><td>&quot;dessert&quot;</td><td>7500</td><td>null</td><td>null</td></tr><tr><td>&quot;chocolate&quot;</td><td>&quot;dessert&quot;</td><td>4500</td><td>&quot;chocolate&quot;</td><td>5</td></tr></tbody></table></div>"
      ],
      "text/plain": [
       "shape: (7, 5)\n",
       "┌───────────┬──────────┬───────┬────────────┬──────────────────┐\n",
       "│ item      ┆ type     ┆ price ┆ item_right ┆ number_of_orders │\n",
       "│ ---       ┆ ---      ┆ ---   ┆ ---        ┆ ---              │\n",
       "│ str       ┆ str      ┆ i64   ┆ str        ┆ i64              │\n",
       "╞═══════════╪══════════╪═══════╪════════════╪══════════════════╡\n",
       "│ coffee    ┆ beverage ┆ 3000  ┆ coffee     ┆ 1                │\n",
       "│ coffee    ┆ beverage ┆ 3000  ┆ coffee     ┆ 7                │\n",
       "│ latte     ┆ beverage ┆ 4000  ┆ null       ┆ null             │\n",
       "│ ade       ┆ beverage ┆ 5000  ┆ ade        ┆ 3                │\n",
       "│ cake      ┆ dessert  ┆ 6000  ┆ cake       ┆ 2                │\n",
       "│ bread     ┆ dessert  ┆ 7500  ┆ null       ┆ null             │\n",
       "│ chocolate ┆ dessert  ┆ 4500  ┆ chocolate  ┆ 5                │\n",
       "└───────────┴──────────┴───────┴────────────┴──────────────────┘"
      ]
     },
     "execution_count": 177,
     "metadata": {},
     "output_type": "execute_result"
    }
   ],
   "source": [
    "menu.join(orders,\n",
    "          on = ['item'],\n",
    "          how = 'full')"
   ]
  },
  {
   "cell_type": "code",
   "execution_count": 179,
   "id": "24c6afe5-9e61-4678-b41c-656277c6b3f3",
   "metadata": {},
   "outputs": [
    {
     "data": {
      "text/html": [
       "<div><style>\n",
       ".dataframe > thead > tr,\n",
       ".dataframe > tbody > tr {\n",
       "  text-align: right;\n",
       "  white-space: pre-wrap;\n",
       "}\n",
       "</style>\n",
       "<small>shape: (7, 4)</small><table border=\"1\" class=\"dataframe\"><thead><tr><th>item</th><th>type</th><th>price</th><th>number_of_orders</th></tr><tr><td>str</td><td>str</td><td>i64</td><td>i64</td></tr></thead><tbody><tr><td>&quot;coffee&quot;</td><td>&quot;beverage&quot;</td><td>3000</td><td>1</td></tr><tr><td>&quot;coffee&quot;</td><td>&quot;beverage&quot;</td><td>3000</td><td>7</td></tr><tr><td>&quot;latte&quot;</td><td>&quot;beverage&quot;</td><td>4000</td><td>null</td></tr><tr><td>&quot;ade&quot;</td><td>&quot;beverage&quot;</td><td>5000</td><td>3</td></tr><tr><td>&quot;cake&quot;</td><td>&quot;dessert&quot;</td><td>6000</td><td>2</td></tr><tr><td>&quot;bread&quot;</td><td>&quot;dessert&quot;</td><td>7500</td><td>null</td></tr><tr><td>&quot;chocolate&quot;</td><td>&quot;dessert&quot;</td><td>4500</td><td>5</td></tr></tbody></table></div>"
      ],
      "text/plain": [
       "shape: (7, 4)\n",
       "┌───────────┬──────────┬───────┬──────────────────┐\n",
       "│ item      ┆ type     ┆ price ┆ number_of_orders │\n",
       "│ ---       ┆ ---      ┆ ---   ┆ ---              │\n",
       "│ str       ┆ str      ┆ i64   ┆ i64              │\n",
       "╞═══════════╪══════════╪═══════╪══════════════════╡\n",
       "│ coffee    ┆ beverage ┆ 3000  ┆ 1                │\n",
       "│ coffee    ┆ beverage ┆ 3000  ┆ 7                │\n",
       "│ latte     ┆ beverage ┆ 4000  ┆ null             │\n",
       "│ ade       ┆ beverage ┆ 5000  ┆ 3                │\n",
       "│ cake      ┆ dessert  ┆ 6000  ┆ 2                │\n",
       "│ bread     ┆ dessert  ┆ 7500  ┆ null             │\n",
       "│ chocolate ┆ dessert  ┆ 4500  ┆ 5                │\n",
       "└───────────┴──────────┴───────┴──────────────────┘"
      ]
     },
     "execution_count": 179,
     "metadata": {},
     "output_type": "execute_result"
    }
   ],
   "source": [
    "menu.join(orders,\n",
    "          on = ['item'],\n",
    "          how = 'full',\n",
    "          coalesce = True)"
   ]
  },
  {
   "cell_type": "code",
   "execution_count": 180,
   "id": "3412e915-5174-4afa-859d-93d145901bcd",
   "metadata": {},
   "outputs": [
    {
     "data": {
      "text/html": [
       "<div><style>\n",
       ".dataframe > thead > tr,\n",
       ".dataframe > tbody > tr {\n",
       "  text-align: right;\n",
       "  white-space: pre-wrap;\n",
       "}\n",
       "</style>\n",
       "<small>shape: (4, 3)</small><table border=\"1\" class=\"dataframe\"><thead><tr><th>item</th><th>type</th><th>price</th></tr><tr><td>str</td><td>str</td><td>i64</td></tr></thead><tbody><tr><td>&quot;coffee&quot;</td><td>&quot;beverage&quot;</td><td>3000</td></tr><tr><td>&quot;ade&quot;</td><td>&quot;beverage&quot;</td><td>5000</td></tr><tr><td>&quot;cake&quot;</td><td>&quot;dessert&quot;</td><td>6000</td></tr><tr><td>&quot;chocolate&quot;</td><td>&quot;dessert&quot;</td><td>4500</td></tr></tbody></table></div>"
      ],
      "text/plain": [
       "shape: (4, 3)\n",
       "┌───────────┬──────────┬───────┐\n",
       "│ item      ┆ type     ┆ price │\n",
       "│ ---       ┆ ---      ┆ ---   │\n",
       "│ str       ┆ str      ┆ i64   │\n",
       "╞═══════════╪══════════╪═══════╡\n",
       "│ coffee    ┆ beverage ┆ 3000  │\n",
       "│ ade       ┆ beverage ┆ 5000  │\n",
       "│ cake      ┆ dessert  ┆ 6000  │\n",
       "│ chocolate ┆ dessert  ┆ 4500  │\n",
       "└───────────┴──────────┴───────┘"
      ]
     },
     "execution_count": 180,
     "metadata": {},
     "output_type": "execute_result"
    }
   ],
   "source": [
    "menu.join(orders,\n",
    "          on = ['item'],\n",
    "          how = 'semi')\n",
    "\n",
    "# pd_menu.loc[pd_menu['item'].isin(pd_orders['item'])]"
   ]
  },
  {
   "cell_type": "code",
   "execution_count": 191,
   "id": "7b2bf8a8-b6c4-4b98-ba74-763c846f8146",
   "metadata": {},
   "outputs": [
    {
     "data": {
      "text/html": [
       "<div><style>\n",
       ".dataframe > thead > tr,\n",
       ".dataframe > tbody > tr {\n",
       "  text-align: right;\n",
       "  white-space: pre-wrap;\n",
       "}\n",
       "</style>\n",
       "<small>shape: (2, 3)</small><table border=\"1\" class=\"dataframe\"><thead><tr><th>item</th><th>type</th><th>price</th></tr><tr><td>str</td><td>str</td><td>i64</td></tr></thead><tbody><tr><td>&quot;latte&quot;</td><td>&quot;beverage&quot;</td><td>4000</td></tr><tr><td>&quot;bread&quot;</td><td>&quot;dessert&quot;</td><td>7500</td></tr></tbody></table></div>"
      ],
      "text/plain": [
       "shape: (2, 3)\n",
       "┌───────┬──────────┬───────┐\n",
       "│ item  ┆ type     ┆ price │\n",
       "│ ---   ┆ ---      ┆ ---   │\n",
       "│ str   ┆ str      ┆ i64   │\n",
       "╞═══════╪══════════╪═══════╡\n",
       "│ latte ┆ beverage ┆ 4000  │\n",
       "│ bread ┆ dessert  ┆ 7500  │\n",
       "└───────┴──────────┴───────┘"
      ]
     },
     "execution_count": 191,
     "metadata": {},
     "output_type": "execute_result"
    }
   ],
   "source": [
    "menu.join(orders,\n",
    "          on = ['item'],\n",
    "          how = 'anti')\n",
    "\n",
    "# pd_menu.loc[~pd_menu['item'].isin(pd_orders['item'])]"
   ]
  },
  {
   "cell_type": "code",
   "execution_count": 224,
   "id": "5914e164-c0dd-4379-9aca-f4bd6169c08e",
   "metadata": {},
   "outputs": [
    {
     "data": {
      "text/html": [
       "<div><style>\n",
       ".dataframe > thead > tr,\n",
       ".dataframe > tbody > tr {\n",
       "  text-align: right;\n",
       "  white-space: pre-wrap;\n",
       "}\n",
       "</style>\n",
       "<small>shape: (2, 2)</small><table border=\"1\" class=\"dataframe\"><thead><tr><th>type</th><th>price</th></tr><tr><td>str</td><td>f64</td></tr></thead><tbody><tr><td>&quot;beverage&quot;</td><td>4000.0</td></tr><tr><td>&quot;dessert&quot;</td><td>6000.0</td></tr></tbody></table></div>"
      ],
      "text/plain": [
       "shape: (2, 2)\n",
       "┌──────────┬────────┐\n",
       "│ type     ┆ price  │\n",
       "│ ---      ┆ ---    │\n",
       "│ str      ┆ f64    │\n",
       "╞══════════╪════════╡\n",
       "│ beverage ┆ 4000.0 │\n",
       "│ dessert  ┆ 6000.0 │\n",
       "└──────────┴────────┘"
      ]
     },
     "metadata": {},
     "output_type": "display_data"
    },
    {
     "data": {
      "text/html": [
       "<div><style>\n",
       ".dataframe > thead > tr,\n",
       ".dataframe > tbody > tr {\n",
       "  text-align: right;\n",
       "  white-space: pre-wrap;\n",
       "}\n",
       "</style>\n",
       "<small>shape: (2, 2)</small><table border=\"1\" class=\"dataframe\"><thead><tr><th>type</th><th>price</th></tr><tr><td>str</td><td>i64</td></tr></thead><tbody><tr><td>&quot;beverage&quot;</td><td>5000</td></tr><tr><td>&quot;dessert&quot;</td><td>7500</td></tr></tbody></table></div>"
      ],
      "text/plain": [
       "shape: (2, 2)\n",
       "┌──────────┬───────┐\n",
       "│ type     ┆ price │\n",
       "│ ---      ┆ ---   │\n",
       "│ str      ┆ i64   │\n",
       "╞══════════╪═══════╡\n",
       "│ beverage ┆ 5000  │\n",
       "│ dessert  ┆ 7500  │\n",
       "└──────────┴───────┘"
      ]
     },
     "metadata": {},
     "output_type": "display_data"
    },
    {
     "data": {
      "text/html": [
       "<div><style>\n",
       ".dataframe > thead > tr,\n",
       ".dataframe > tbody > tr {\n",
       "  text-align: right;\n",
       "  white-space: pre-wrap;\n",
       "}\n",
       "</style>\n",
       "<small>shape: (2, 2)</small><table border=\"1\" class=\"dataframe\"><thead><tr><th>type</th><th>price</th></tr><tr><td>str</td><td>f64</td></tr></thead><tbody><tr><td>&quot;dessert&quot;</td><td>6000.0</td></tr><tr><td>&quot;beverage&quot;</td><td>4000.0</td></tr></tbody></table></div>"
      ],
      "text/plain": [
       "shape: (2, 2)\n",
       "┌──────────┬────────┐\n",
       "│ type     ┆ price  │\n",
       "│ ---      ┆ ---    │\n",
       "│ str      ┆ f64    │\n",
       "╞══════════╪════════╡\n",
       "│ dessert  ┆ 6000.0 │\n",
       "│ beverage ┆ 4000.0 │\n",
       "└──────────┴────────┘"
      ]
     },
     "metadata": {},
     "output_type": "display_data"
    }
   ],
   "source": [
    "# 그룹 연산 메서드\n",
    "# count(=len), n_unique, max, min, mean, median, quantile(n), sum\n",
    "# first, head, last, tail\n",
    "display(menu.select('type', 'price').group_by('type').mean())\n",
    "display(menu.select('type', 'price').group_by('type').max())\n",
    "display(menu.select('type', 'price').group_by('type').quantile(0.5))"
   ]
  },
  {
   "cell_type": "code",
   "execution_count": 217,
   "id": "c2c621a0-58c5-45a6-a35c-26f024f3927a",
   "metadata": {},
   "outputs": [
    {
     "data": {
      "text/html": [
       "<div><style>\n",
       ".dataframe > thead > tr,\n",
       ".dataframe > tbody > tr {\n",
       "  text-align: right;\n",
       "  white-space: pre-wrap;\n",
       "}\n",
       "</style>\n",
       "<small>shape: (2, 2)</small><table border=\"1\" class=\"dataframe\"><thead><tr><th>type</th><th>price</th></tr><tr><td>str</td><td>i64</td></tr></thead><tbody><tr><td>&quot;dessert&quot;</td><td>6000</td></tr><tr><td>&quot;beverage&quot;</td><td>3000</td></tr></tbody></table></div>"
      ],
      "text/plain": [
       "shape: (2, 2)\n",
       "┌──────────┬───────┐\n",
       "│ type     ┆ price │\n",
       "│ ---      ┆ ---   │\n",
       "│ str      ┆ i64   │\n",
       "╞══════════╪═══════╡\n",
       "│ dessert  ┆ 6000  │\n",
       "│ beverage ┆ 3000  │\n",
       "└──────────┴───────┘"
      ]
     },
     "metadata": {},
     "output_type": "display_data"
    },
    {
     "data": {
      "text/html": [
       "<div><style>\n",
       ".dataframe > thead > tr,\n",
       ".dataframe > tbody > tr {\n",
       "  text-align: right;\n",
       "  white-space: pre-wrap;\n",
       "}\n",
       "</style>\n",
       "<small>shape: (2, 2)</small><table border=\"1\" class=\"dataframe\"><thead><tr><th>type</th><th>price</th></tr><tr><td>str</td><td>i64</td></tr></thead><tbody><tr><td>&quot;dessert&quot;</td><td>6000</td></tr><tr><td>&quot;beverage&quot;</td><td>3000</td></tr></tbody></table></div>"
      ],
      "text/plain": [
       "shape: (2, 2)\n",
       "┌──────────┬───────┐\n",
       "│ type     ┆ price │\n",
       "│ ---      ┆ ---   │\n",
       "│ str      ┆ i64   │\n",
       "╞══════════╪═══════╡\n",
       "│ dessert  ┆ 6000  │\n",
       "│ beverage ┆ 3000  │\n",
       "└──────────┴───────┘"
      ]
     },
     "metadata": {},
     "output_type": "display_data"
    }
   ],
   "source": [
    "display(menu.select('type', 'price').group_by('type').first())\n",
    "display(menu.select('type', 'price').group_by('type').head(1))"
   ]
  },
  {
   "cell_type": "code",
   "execution_count": 234,
   "id": "95364a3b-f0b4-4ccb-87a0-5dabcbf92c16",
   "metadata": {},
   "outputs": [
    {
     "data": {
      "text/html": [
       "<div><style>\n",
       ".dataframe > thead > tr,\n",
       ".dataframe > tbody > tr {\n",
       "  text-align: right;\n",
       "  white-space: pre-wrap;\n",
       "}\n",
       "</style>\n",
       "<small>shape: (2, 3)</small><table border=\"1\" class=\"dataframe\"><thead><tr><th>type</th><th>total_orders</th><th>mean_orders</th></tr><tr><td>str</td><td>i64</td><td>f64</td></tr></thead><tbody><tr><td>&quot;dessert&quot;</td><td>7</td><td>2.333333</td></tr><tr><td>&quot;beverage&quot;</td><td>11</td><td>2.75</td></tr></tbody></table></div>"
      ],
      "text/plain": [
       "shape: (2, 3)\n",
       "┌──────────┬──────────────┬─────────────┐\n",
       "│ type     ┆ total_orders ┆ mean_orders │\n",
       "│ ---      ┆ ---          ┆ ---         │\n",
       "│ str      ┆ i64          ┆ f64         │\n",
       "╞══════════╪══════════════╪═════════════╡\n",
       "│ dessert  ┆ 7            ┆ 2.333333    │\n",
       "│ beverage ┆ 11           ┆ 2.75        │\n",
       "└──────────┴──────────────┴─────────────┘"
      ]
     },
     "execution_count": 234,
     "metadata": {},
     "output_type": "execute_result"
    }
   ],
   "source": [
    "# agg 메서드\n",
    "# agg_groups, arg_max, arg_min\n",
    "# count(null 제외), len(null 포함), first, last, max, min, mean, median, quantile(n), sum, std, var, implode, product, nan_max, nan_min\n",
    "menu.join(orders,\n",
    "          on = ['item'],\n",
    "          how = 'left').group_by(['type']).agg(\n",
    "                                                pl.col('number_of_orders').fill_null(0).sum().alias('total_orders'),\n",
    "                                                pl.col('number_of_orders').fill_null(0).mean().alias('mean_orders')\n",
    ")"
   ]
  },
  {
   "cell_type": "code",
   "execution_count": 236,
   "id": "e4a59b7d-62fb-496a-a607-8531a60f825f",
   "metadata": {},
   "outputs": [
    {
     "data": {
      "text/html": [
       "<div><style>\n",
       ".dataframe > thead > tr,\n",
       ".dataframe > tbody > tr {\n",
       "  text-align: right;\n",
       "  white-space: pre-wrap;\n",
       "}\n",
       "</style>\n",
       "<small>shape: (1, 2)</small><table border=\"1\" class=\"dataframe\"><thead><tr><th>type</th><th>total_orders</th></tr><tr><td>str</td><td>i64</td></tr></thead><tbody><tr><td>&quot;beverage&quot;</td><td>11</td></tr></tbody></table></div>"
      ],
      "text/plain": [
       "shape: (1, 2)\n",
       "┌──────────┬──────────────┐\n",
       "│ type     ┆ total_orders │\n",
       "│ ---      ┆ ---          │\n",
       "│ str      ┆ i64          │\n",
       "╞══════════╪══════════════╡\n",
       "│ beverage ┆ 11           │\n",
       "└──────────┴──────────────┘"
      ]
     },
     "execution_count": 236,
     "metadata": {},
     "output_type": "execute_result"
    }
   ],
   "source": [
    "menu.join(orders,\n",
    "          on = ['item'],\n",
    "          how = 'left').group_by(['type']).agg(\n",
    "                                                pl.col('number_of_orders').fill_null(0).sum().alias('total_orders'),\n",
    "                                                pl.col('number_of_orders').fill_null(0).mean().alias('mean_orders')\n",
    "        ).filter(\n",
    "                    pl.col('total_orders') > 10\n",
    ").select('type', 'total_orders')"
   ]
  },
  {
   "cell_type": "code",
   "execution_count": 242,
   "id": "5c42c1da-0359-4f7b-9720-02ee03be6537",
   "metadata": {},
   "outputs": [
    {
     "data": {
      "text/html": [
       "<div><style>\n",
       ".dataframe > thead > tr,\n",
       ".dataframe > tbody > tr {\n",
       "  text-align: right;\n",
       "  white-space: pre-wrap;\n",
       "}\n",
       "</style>\n",
       "<small>shape: (2, 2)</small><table border=\"1\" class=\"dataframe\"><thead><tr><th>type</th><th>item</th></tr><tr><td>str</td><td>u32</td></tr></thead><tbody><tr><td>&quot;beverage&quot;</td><td>3</td></tr><tr><td>&quot;dessert&quot;</td><td>3</td></tr></tbody></table></div>"
      ],
      "text/plain": [
       "shape: (2, 2)\n",
       "┌──────────┬──────┐\n",
       "│ type     ┆ item │\n",
       "│ ---      ┆ ---  │\n",
       "│ str      ┆ u32  │\n",
       "╞══════════╪══════╡\n",
       "│ beverage ┆ 3    │\n",
       "│ dessert  ┆ 3    │\n",
       "└──────────┴──────┘"
      ]
     },
     "execution_count": 242,
     "metadata": {},
     "output_type": "execute_result"
    }
   ],
   "source": [
    "menu.join(orders,\n",
    "          on = ['item'],\n",
    "          how = 'left').group_by('type').agg(pl.col('item').unique().count()) # n_unique()는 먹히지 않는다."
   ]
  },
  {
   "cell_type": "code",
   "execution_count": 254,
   "id": "98e8848a-f387-44a3-8a74-5345f9ca4436",
   "metadata": {},
   "outputs": [],
   "source": [
    "# 샘플 데이터 적용\n",
    "pl_taxi = pl.read_parquet('./data/yellow_tripdata_2024-12.parquet')"
   ]
  },
  {
   "cell_type": "code",
   "execution_count": 299,
   "id": "5b0132bd-70b6-4799-8367-405cac9f62a1",
   "metadata": {},
   "outputs": [
    {
     "data": {
      "text/html": [
       "<div><style>\n",
       ".dataframe > thead > tr,\n",
       ".dataframe > tbody > tr {\n",
       "  text-align: right;\n",
       "  white-space: pre-wrap;\n",
       "}\n",
       "</style>\n",
       "<small>shape: (5, 19)</small><table border=\"1\" class=\"dataframe\"><thead><tr><th>VendorID</th><th>tpep_pickup_datetime</th><th>tpep_dropoff_datetime</th><th>passenger_count</th><th>trip_distance</th><th>RatecodeID</th><th>store_and_fwd_flag</th><th>PULocationID</th><th>DOLocationID</th><th>payment_type</th><th>fare_amount</th><th>extra</th><th>mta_tax</th><th>tip_amount</th><th>tolls_amount</th><th>improvement_surcharge</th><th>total_amount</th><th>congestion_surcharge</th><th>Airport_fee</th></tr><tr><td>i32</td><td>datetime[μs]</td><td>datetime[μs]</td><td>i64</td><td>f64</td><td>i64</td><td>str</td><td>i32</td><td>i32</td><td>i64</td><td>f64</td><td>f64</td><td>f64</td><td>f64</td><td>f64</td><td>f64</td><td>f64</td><td>f64</td><td>f64</td></tr></thead><tbody><tr><td>2</td><td>2024-12-01 00:12:27</td><td>2024-12-01 00:31:12</td><td>1</td><td>9.76</td><td>1</td><td>&quot;N&quot;</td><td>138</td><td>33</td><td>1</td><td>38.0</td><td>6.0</td><td>0.5</td><td>4.72</td><td>0.0</td><td>1.0</td><td>51.97</td><td>0.0</td><td>1.75</td></tr><tr><td>2</td><td>2024-11-30 23:56:04</td><td>2024-12-01 00:28:15</td><td>1</td><td>7.62</td><td>1</td><td>&quot;N&quot;</td><td>158</td><td>42</td><td>1</td><td>37.3</td><td>1.0</td><td>0.5</td><td>8.46</td><td>0.0</td><td>1.0</td><td>50.76</td><td>2.5</td><td>0.0</td></tr><tr><td>2</td><td>2024-12-01 00:50:35</td><td>2024-12-01 01:24:46</td><td>4</td><td>20.07</td><td>2</td><td>&quot;N&quot;</td><td>132</td><td>236</td><td>2</td><td>70.0</td><td>0.0</td><td>0.5</td><td>0.0</td><td>6.94</td><td>1.0</td><td>82.69</td><td>2.5</td><td>1.75</td></tr><tr><td>2</td><td>2024-12-01 00:18:16</td><td>2024-12-01 00:33:16</td><td>3</td><td>2.34</td><td>1</td><td>&quot;N&quot;</td><td>142</td><td>186</td><td>1</td><td>15.6</td><td>1.0</td><td>0.5</td><td>4.12</td><td>0.0</td><td>1.0</td><td>24.72</td><td>2.5</td><td>0.0</td></tr><tr><td>2</td><td>2024-12-01 00:56:13</td><td>2024-12-01 01:18:25</td><td>1</td><td>5.05</td><td>1</td><td>&quot;N&quot;</td><td>107</td><td>80</td><td>1</td><td>26.8</td><td>1.0</td><td>0.5</td><td>5.0</td><td>0.0</td><td>1.0</td><td>36.8</td><td>2.5</td><td>0.0</td></tr></tbody></table></div>"
      ],
      "text/plain": [
       "shape: (5, 19)\n",
       "┌──────────┬───────────┬───────────┬───────────┬───┬───────────┬───────────┬───────────┬───────────┐\n",
       "│ VendorID ┆ tpep_pick ┆ tpep_drop ┆ passenger ┆ … ┆ improveme ┆ total_amo ┆ congestio ┆ Airport_f │\n",
       "│ ---      ┆ up_dateti ┆ off_datet ┆ _count    ┆   ┆ nt_surcha ┆ unt       ┆ n_surchar ┆ ee        │\n",
       "│ i32      ┆ me        ┆ ime       ┆ ---       ┆   ┆ rge       ┆ ---       ┆ ge        ┆ ---       │\n",
       "│          ┆ ---       ┆ ---       ┆ i64       ┆   ┆ ---       ┆ f64       ┆ ---       ┆ f64       │\n",
       "│          ┆ datetime[ ┆ datetime[ ┆           ┆   ┆ f64       ┆           ┆ f64       ┆           │\n",
       "│          ┆ μs]       ┆ μs]       ┆           ┆   ┆           ┆           ┆           ┆           │\n",
       "╞══════════╪═══════════╪═══════════╪═══════════╪═══╪═══════════╪═══════════╪═══════════╪═══════════╡\n",
       "│ 2        ┆ 2024-12-0 ┆ 2024-12-0 ┆ 1         ┆ … ┆ 1.0       ┆ 51.97     ┆ 0.0       ┆ 1.75      │\n",
       "│          ┆ 1         ┆ 1         ┆           ┆   ┆           ┆           ┆           ┆           │\n",
       "│          ┆ 00:12:27  ┆ 00:31:12  ┆           ┆   ┆           ┆           ┆           ┆           │\n",
       "│ 2        ┆ 2024-11-3 ┆ 2024-12-0 ┆ 1         ┆ … ┆ 1.0       ┆ 50.76     ┆ 2.5       ┆ 0.0       │\n",
       "│          ┆ 0         ┆ 1         ┆           ┆   ┆           ┆           ┆           ┆           │\n",
       "│          ┆ 23:56:04  ┆ 00:28:15  ┆           ┆   ┆           ┆           ┆           ┆           │\n",
       "│ 2        ┆ 2024-12-0 ┆ 2024-12-0 ┆ 4         ┆ … ┆ 1.0       ┆ 82.69     ┆ 2.5       ┆ 1.75      │\n",
       "│          ┆ 1         ┆ 1         ┆           ┆   ┆           ┆           ┆           ┆           │\n",
       "│          ┆ 00:50:35  ┆ 01:24:46  ┆           ┆   ┆           ┆           ┆           ┆           │\n",
       "│ 2        ┆ 2024-12-0 ┆ 2024-12-0 ┆ 3         ┆ … ┆ 1.0       ┆ 24.72     ┆ 2.5       ┆ 0.0       │\n",
       "│          ┆ 1         ┆ 1         ┆           ┆   ┆           ┆           ┆           ┆           │\n",
       "│          ┆ 00:18:16  ┆ 00:33:16  ┆           ┆   ┆           ┆           ┆           ┆           │\n",
       "│ 2        ┆ 2024-12-0 ┆ 2024-12-0 ┆ 1         ┆ … ┆ 1.0       ┆ 36.8      ┆ 2.5       ┆ 0.0       │\n",
       "│          ┆ 1         ┆ 1         ┆           ┆   ┆           ┆           ┆           ┆           │\n",
       "│          ┆ 00:56:13  ┆ 01:18:25  ┆           ┆   ┆           ┆           ┆           ┆           │\n",
       "└──────────┴───────────┴───────────┴───────────┴───┴───────────┴───────────┴───────────┴───────────┘"
      ]
     },
     "execution_count": 299,
     "metadata": {},
     "output_type": "execute_result"
    }
   ],
   "source": [
    "# 24년 12월 데이터\n",
    "# 일별 승객 수의 합/평균, 주행 거리의 합/평균\n",
    "pl_taxi.head()"
   ]
  },
  {
   "cell_type": "code",
   "execution_count": 309,
   "id": "58cfb26e-e8b4-415a-a592-48184b9ad2af",
   "metadata": {},
   "outputs": [],
   "source": [
    "pl_taxi_filtered = pl_taxi.filter(\n",
    "                (pl.col('tpep_pickup_datetime') >= datetime.datetime(2024, 12, 1))\n",
    "                & (pl.col('tpep_pickup_datetime') < datetime.datetime(2025, 1, 1))\n",
    ")"
   ]
  },
  {
   "cell_type": "code",
   "execution_count": 310,
   "id": "9e8345ea-34f9-4168-8b49-367f55eec120",
   "metadata": {},
   "outputs": [],
   "source": [
    "pl_taxi_filtered = pl_taxi_filtered.with_columns(pl.col(['tpep_pickup_datetime']).cast(pl.Date).alias('pickup_date'))"
   ]
  },
  {
   "cell_type": "code",
   "execution_count": 311,
   "id": "a2c6d26e-c9b6-421a-b563-94b6a9be6261",
   "metadata": {},
   "outputs": [],
   "source": [
    "pl_taxi_filtered = pl_taxi_filtered.select(pl.col(['pickup_date', 'passenger_count', 'trip_distance'])).fill_null(0)"
   ]
  },
  {
   "cell_type": "code",
   "execution_count": 312,
   "id": "a3198e26-301f-4ff6-bf92-fdfe7c247b4b",
   "metadata": {},
   "outputs": [],
   "source": [
    "pl_taxi_grouped = pl_taxi_filtered.group_by(['pickup_date']).agg(\n",
    "                                                                    pl.col('passenger_count').sum().alias('total_passenger'),\n",
    "                                                                    pl.col('passenger_count').mean().alias('mean_passenger'),\n",
    "                                                                    pl.col('trip_distance').sum().alias('total_distance'),\n",
    "                                                                    pl.col('trip_distance').mean().alias('mean_distance')\n",
    "                                                                ).sort('pickup_date')"
   ]
  },
  {
   "cell_type": "code",
   "execution_count": 359,
   "id": "4f17b3c0-1466-4c31-89c9-fc4ec40105a1",
   "metadata": {
    "collapsed": true,
    "jupyter": {
     "outputs_hidden": true
    },
    "tags": []
   },
   "outputs": [
    {
     "data": {
      "text/plain": [
       "(0.0, 205925.1)"
      ]
     },
     "execution_count": 359,
     "metadata": {},
     "output_type": "execute_result"
    },
    {
     "data": {
      "image/png": "[encoded data removed]",
      "text/plain": [
       "<Figure size 640x480 with 1 Axes>"
      ]
     },
     "metadata": {},
     "output_type": "display_data"
    }
   ],
   "source": [
    "plt.plot(pl_taxi_grouped.select(pl.col('pickup_date')),\n",
    "         pl_taxi_grouped.select(pl.col('total_passenger'))\n",
    ")\n",
    "\n",
    "plt.xticks(rotation = 45)\n",
    "plt.ylim(0,)"
   ]
  },
  {
   "cell_type": "markdown",
   "id": "2a69938b-043a-4a02-8c79-ef48d0bfb2e6",
   "metadata": {},
   "source": [
    "### Window function"
   ]
  },
  {
   "cell_type": "code",
   "execution_count": 363,
   "id": "a78fd6da-0ab7-470d-b481-3166f3b8e6ed",
   "metadata": {},
   "outputs": [
    {
     "name": "stdout",
     "output_type": "stream",
     "text": [
      "shape: (7, 2)\n",
      "┌───────────┬──────────────────┐\n",
      "│ item      ┆ number_of_orders │\n",
      "│ ---       ┆ ---              │\n",
      "│ str       ┆ i64              │\n",
      "╞═══════════╪══════════════════╡\n",
      "│ coffe     ┆ 1                │\n",
      "│ ade       ┆ 3                │\n",
      "│ coffe     ┆ 7                │\n",
      "│ cake      ┆ 2                │\n",
      "│ chocolate ┆ 5                │\n",
      "│ ade       ┆ 4                │\n",
      "│ bread     ┆ 10               │\n",
      "└───────────┴──────────────────┘\n"
     ]
    }
   ],
   "source": [
    "orders = pl.DataFrame(\n",
    "    {\n",
    "        \"item\": [\"coffe\", \"ade\", \"coffe\", \"cake\", \"chocolate\", \"ade\", \"bread\"],\n",
    "        \"number_of_orders\": [1, 3, 7, 2, 5, 4, 10]\n",
    "    }\n",
    ")\n",
    "print(orders)"
   ]
  },
  {
   "cell_type": "code",
   "execution_count": 382,
   "id": "3ea93e34-902f-43de-9130-e0bb1e2789ec",
   "metadata": {
    "tags": []
   },
   "outputs": [
    {
     "name": "stdout",
     "output_type": "stream",
     "text": [
      "shape: (7, 2)\n",
      "┌───────────┬──────────────────┐\n",
      "│ item      ┆ number_of_orders │\n",
      "│ ---       ┆ ---              │\n",
      "│ str       ┆ i64              │\n",
      "╞═══════════╪══════════════════╡\n",
      "│ bread     ┆ 10               │\n",
      "│ coffe     ┆ 7                │\n",
      "│ chocolate ┆ 5                │\n",
      "│ ade       ┆ 4                │\n",
      "│ ade       ┆ 3                │\n",
      "│ cake      ┆ 2                │\n",
      "│ coffe     ┆ 1                │\n",
      "└───────────┴──────────────────┘\n",
      "shape: (7, 2)\n",
      "┌───────────┬──────────────────┐\n",
      "│ item      ┆ number_of_orders │\n",
      "│ ---       ┆ ---              │\n",
      "│ str       ┆ i64              │\n",
      "╞═══════════╪══════════════════╡\n",
      "│ bread     ┆ 10               │\n",
      "│ coffe     ┆ 7                │\n",
      "│ chocolate ┆ 5                │\n",
      "│ ade       ┆ 4                │\n",
      "│ ade       ┆ 3                │\n",
      "│ cake      ┆ 2                │\n",
      "│ coffe     ┆ 1                │\n",
      "└───────────┴──────────────────┘\n",
      "shape: (7, 2)\n",
      "┌───────────┬──────────────────┐\n",
      "│ item      ┆ number_of_orders │\n",
      "│ ---       ┆ ---              │\n",
      "│ str       ┆ i64              │\n",
      "╞═══════════╪══════════════════╡\n",
      "│ coffe     ┆ 7                │\n",
      "│ coffe     ┆ 1                │\n",
      "│ chocolate ┆ 5                │\n",
      "│ cake      ┆ 2                │\n",
      "│ bread     ┆ 10               │\n",
      "│ ade       ┆ 4                │\n",
      "│ ade       ┆ 3                │\n",
      "└───────────┴──────────────────┘\n",
      "shape: (7, 2)\n",
      "┌───────────┬──────────────────┐\n",
      "│ item      ┆ number_of_orders │\n",
      "│ ---       ┆ ---              │\n",
      "│ str       ┆ i64              │\n",
      "╞═══════════╪══════════════════╡\n",
      "│ coffe     ┆ 7                │\n",
      "│ ade       ┆ 4                │\n",
      "│ coffe     ┆ 1                │\n",
      "│ cake      ┆ 2                │\n",
      "│ chocolate ┆ 5                │\n",
      "│ ade       ┆ 3                │\n",
      "│ bread     ┆ 10               │\n",
      "└───────────┴──────────────────┘\n"
     ]
    }
   ],
   "source": [
    "print(orders.sort('number_of_orders', descending = True))\n",
    "print(orders.select(pl.col('*').sort_by('number_of_orders', descending = True)))\n",
    "print(orders.select(pl.col('*').sort_by(('item', 'number_of_orders'), descending = True)))\n",
    "print(orders.select(pl.col('*').sort_by('number_of_orders', descending = True).over('item')))"
   ]
  },
  {
   "cell_type": "code",
   "execution_count": 385,
   "id": "f741b79b-e323-4dbd-9649-7165ac4c40bf",
   "metadata": {},
   "outputs": [
    {
     "name": "stdout",
     "output_type": "stream",
     "text": [
      "shape: (7, 2)\n",
      "┌───────────┬──────────────────┐\n",
      "│ item      ┆ number_of_orders │\n",
      "│ ---       ┆ ---              │\n",
      "│ str       ┆ i64              │\n",
      "╞═══════════╪══════════════════╡\n",
      "│ coffe     ┆ 7                │\n",
      "│ ade       ┆ 4                │\n",
      "│ coffe     ┆ 1                │\n",
      "│ cake      ┆ 2                │\n",
      "│ chocolate ┆ 5                │\n",
      "│ ade       ┆ 3                │\n",
      "│ bread     ┆ 10               │\n",
      "└───────────┴──────────────────┘\n",
      "shape: (7, 2)\n",
      "┌────────────────────┬──────────────────┐\n",
      "│ item               ┆ number_of_orders │\n",
      "│ ---                ┆ ---              │\n",
      "│ list[str]          ┆ list[i64]        │\n",
      "╞════════════════════╪══════════════════╡\n",
      "│ [\"coffe\", \"coffe\"] ┆ [7, 1]           │\n",
      "│ [\"ade\", \"ade\"]     ┆ [4, 3]           │\n",
      "│ [\"coffe\", \"coffe\"] ┆ [7, 1]           │\n",
      "│ [\"cake\"]           ┆ [2]              │\n",
      "│ [\"chocolate\"]      ┆ [5]              │\n",
      "│ [\"ade\", \"ade\"]     ┆ [4, 3]           │\n",
      "│ [\"bread\"]          ┆ [10]             │\n",
      "└────────────────────┴──────────────────┘\n",
      "shape: (7, 2)\n",
      "┌───────────┬──────────────────┐\n",
      "│ item      ┆ number_of_orders │\n",
      "│ ---       ┆ ---              │\n",
      "│ str       ┆ i64              │\n",
      "╞═══════════╪══════════════════╡\n",
      "│ coffe     ┆ 7                │\n",
      "│ coffe     ┆ 1                │\n",
      "│ ade       ┆ 4                │\n",
      "│ ade       ┆ 3                │\n",
      "│ cake      ┆ 2                │\n",
      "│ chocolate ┆ 5                │\n",
      "│ bread     ┆ 10               │\n",
      "└───────────┴──────────────────┘\n"
     ]
    }
   ],
   "source": [
    "# mapping strategy\n",
    "# group_to_rows / join / explode\n",
    "print(orders.select(pl.col('*').sort_by('number_of_orders', descending = True).over('item', mapping_strategy = 'group_to_rows')))\n",
    "print(orders.select(pl.col('*').sort_by('number_of_orders', descending = True).over('item', mapping_strategy = 'join')))\n",
    "print(orders.select(pl.col('*').sort_by('number_of_orders', descending = True).over('item', mapping_strategy = 'explode')))"
   ]
  },
  {
   "cell_type": "code",
   "execution_count": 397,
   "id": "ef32cdd6-cbe6-468b-9291-c297c3deb79f",
   "metadata": {},
   "outputs": [],
   "source": [
    "# 주별로 택시에 탑승한 승객 수, 금액을 지불하기 위해 가장 많이 사용한 방식 계산\n",
    "pl_taxi_filtered = pl_taxi.filter(\n",
    "                                    (pl.col('tpep_pickup_datetime') >= datetime.datetime(2024, 12, 1))\n",
    "                                    & (pl.col('tpep_pickup_datetime') < datetime.datetime(2025, 1, 1))\n",
    "                                    & (pl.col('payment_type') != 5)\n",
    "                                    & (pl.col('payment_type').is_not_null())\n",
    ")"
   ]
  },
  {
   "cell_type": "code",
   "execution_count": null,
   "id": "61617b3b-e5eb-443b-90c5-fed7bfd15ebf",
   "metadata": {},
   "outputs": [],
   "source": [
    "pl_taxi_filtered = pl_taxi_filtered.select(pl.col('tpep_pickup_datetime', 'tpep_dropoff_datetime',\n",
    "                                                   'passenger_count', 'payment_type'),\n",
    "                                            pl.col('tpep_pickup_datetime').dt.weekday().alias('pickup_weekday'),\n",
    "                                            pl.col('tpep_pickup_datetime').dt.week().alias('pickup_week')\n",
    "                                           )"
   ]
  },
  {
   "cell_type": "code",
   "execution_count": 432,
   "id": "76d5d60b-0f5a-4516-b4b5-aafe2e669c1f",
   "metadata": {},
   "outputs": [],
   "source": [
    "standard_df = pl_taxi_filtered.with_columns(pl.col('tpep_pickup_datetime').min().dt.strftime('%Y-%m-%d').over('pickup_week').alias('standard_date'))"
   ]
  },
  {
   "cell_type": "code",
   "execution_count": 437,
   "id": "55268fa8-7937-4d6c-86f7-c34fa8209d93",
   "metadata": {},
   "outputs": [
    {
     "name": "stdout",
     "output_type": "stream",
     "text": [
      "shape: (3_668_337, 7)\n",
      "┌──────────────┬─────────────┬─────────────┬─────────────┬─────────────┬─────────────┬─────────────┐\n",
      "│ tpep_pickup_ ┆ tpep_dropof ┆ passenger_c ┆ payment_typ ┆ pickup_week ┆ pickup_week ┆ standard_da │\n",
      "│ datetime     ┆ f_datetime  ┆ ount        ┆ e           ┆ day         ┆ ---         ┆ te          │\n",
      "│ ---          ┆ ---         ┆ ---         ┆ ---         ┆ ---         ┆ i8          ┆ ---         │\n",
      "│ datetime[μs] ┆ datetime[μs ┆ i64         ┆ i64         ┆ i8          ┆             ┆ str         │\n",
      "│              ┆ ]           ┆             ┆             ┆             ┆             ┆             │\n",
      "╞══════════════╪═════════════╪═════════════╪═════════════╪═════════════╪═════════════╪═════════════╡\n",
      "│ 2024-12-01   ┆ 2024-12-01  ┆ 1           ┆ 1           ┆ 7           ┆ 48          ┆ 2024-12-01  │\n",
      "│ 00:12:27     ┆ 00:31:12    ┆             ┆             ┆             ┆             ┆             │\n",
      "│ 2024-12-01   ┆ 2024-12-01  ┆ 4           ┆ 2           ┆ 7           ┆ 48          ┆ 2024-12-01  │\n",
      "│ 00:50:35     ┆ 01:24:46    ┆             ┆             ┆             ┆             ┆             │\n",
      "│ 2024-12-01   ┆ 2024-12-01  ┆ 3           ┆ 1           ┆ 7           ┆ 48          ┆ 2024-12-01  │\n",
      "│ 00:18:16     ┆ 00:33:16    ┆             ┆             ┆             ┆             ┆             │\n",
      "│ 2024-12-01   ┆ 2024-12-01  ┆ 1           ┆ 1           ┆ 7           ┆ 48          ┆ 2024-12-01  │\n",
      "│ 00:56:13     ┆ 01:18:25    ┆             ┆             ┆             ┆             ┆             │\n",
      "│ 2024-12-01   ┆ 2024-12-01  ┆ 1           ┆ 1           ┆ 7           ┆ 48          ┆ 2024-12-01  │\n",
      "│ 00:21:17     ┆ 00:37:22    ┆             ┆             ┆             ┆             ┆             │\n",
      "│ …            ┆ …           ┆ …           ┆ …           ┆ …           ┆ …           ┆ …           │\n",
      "│ 2024-12-31   ┆ 2024-12-31  ┆ null        ┆ 0           ┆ 2           ┆ 1           ┆ 2024-12-30  │\n",
      "│ 23:32:00     ┆ 23:56:00    ┆             ┆             ┆             ┆             ┆             │\n",
      "│ 2024-12-31   ┆ 2024-12-31  ┆ null        ┆ 0           ┆ 2           ┆ 1           ┆ 2024-12-30  │\n",
      "│ 23:05:00     ┆ 23:18:00    ┆             ┆             ┆             ┆             ┆             │\n",
      "│ 2024-12-31   ┆ 2024-12-31  ┆ null        ┆ 0           ┆ 2           ┆ 1           ┆ 2024-12-30  │\n",
      "│ 23:03:16     ┆ 23:28:35    ┆             ┆             ┆             ┆             ┆             │\n",
      "│ 2024-12-31   ┆ 2024-12-31  ┆ null        ┆ 0           ┆ 2           ┆ 1           ┆ 2024-12-30  │\n",
      "│ 23:15:33     ┆ 23:36:29    ┆             ┆             ┆             ┆             ┆             │\n",
      "│ 2024-12-31   ┆ 2024-12-31  ┆ null        ┆ 0           ┆ 2           ┆ 1           ┆ 2024-12-30  │\n",
      "│ 23:04:36     ┆ 23:33:34    ┆             ┆             ┆             ┆             ┆             │\n",
      "└──────────────┴─────────────┴─────────────┴─────────────┴─────────────┴─────────────┴─────────────┘\n"
     ]
    }
   ],
   "source": [
    "print(standard_df)"
   ]
  },
  {
   "cell_type": "code",
   "execution_count": 442,
   "id": "fa1b6504-e474-45ce-a2c0-7021e4d09f05",
   "metadata": {},
   "outputs": [],
   "source": [
    "stat_df = standard_df.group_by(['pickup_week', 'standard_date', 'pickup_weekday', 'payment_type']).agg(pl.col(['passenger_count']).sum().alias('passenger'))"
   ]
  },
  {
   "cell_type": "code",
   "execution_count": 469,
   "id": "362a852d-84a1-4686-b4e6-443ef6ba0553",
   "metadata": {},
   "outputs": [],
   "source": [
    "stat_df = stat_df.with_columns(pl.col('passenger').sum().over('pickup_week').alias('week_passenger'),\n",
    "                               pl.col('passenger').rank(descending = True).over('pickup_week').alias('rank'))"
   ]
  },
  {
   "cell_type": "code",
   "execution_count": 473,
   "id": "d77e6498-0613-47ce-880e-e197f392cf29",
   "metadata": {},
   "outputs": [
    {
     "data": {
      "text/html": [
       "<div><style>\n",
       ".dataframe > thead > tr,\n",
       ".dataframe > tbody > tr {\n",
       "  text-align: right;\n",
       "  white-space: pre-wrap;\n",
       "}\n",
       "</style>\n",
       "<small>shape: (6, 7)</small><table border=\"1\" class=\"dataframe\"><thead><tr><th>pickup_week</th><th>standard_date</th><th>pickup_weekday</th><th>payment_type</th><th>passenger</th><th>week_passenger</th><th>rank</th></tr><tr><td>i8</td><td>str</td><td>i8</td><td>i64</td><td>i64</td><td>i64</td><td>f64</td></tr></thead><tbody><tr><td>48</td><td>&quot;2024-12-01&quot;</td><td>7</td><td>1</td><td>100330</td><td>125760</td><td>1.0</td></tr><tr><td>49</td><td>&quot;2024-12-02&quot;</td><td>6</td><td>1</td><td>156234</td><td>1139156</td><td>1.0</td></tr><tr><td>50</td><td>&quot;2024-12-09&quot;</td><td>6</td><td>1</td><td>166578</td><td>1190761</td><td>1.0</td></tr><tr><td>51</td><td>&quot;2024-12-16&quot;</td><td>4</td><td>1</td><td>140348</td><td>1092236</td><td>1.0</td></tr><tr><td>52</td><td>&quot;2024-12-23&quot;</td><td>6</td><td>1</td><td>93583</td><td>776533</td><td>1.0</td></tr><tr><td>1</td><td>&quot;2024-12-30&quot;</td><td>1</td><td>1</td><td>85677</td><td>228899</td><td>1.0</td></tr></tbody></table></div>"
      ],
      "text/plain": [
       "shape: (6, 7)\n",
       "┌─────────────┬───────────────┬────────────────┬──────────────┬───────────┬────────────────┬──────┐\n",
       "│ pickup_week ┆ standard_date ┆ pickup_weekday ┆ payment_type ┆ passenger ┆ week_passenger ┆ rank │\n",
       "│ ---         ┆ ---           ┆ ---            ┆ ---          ┆ ---       ┆ ---            ┆ ---  │\n",
       "│ i8          ┆ str           ┆ i8             ┆ i64          ┆ i64       ┆ i64            ┆ f64  │\n",
       "╞═════════════╪═══════════════╪════════════════╪══════════════╪═══════════╪════════════════╪══════╡\n",
       "│ 48          ┆ 2024-12-01    ┆ 7              ┆ 1            ┆ 100330    ┆ 125760         ┆ 1.0  │\n",
       "│ 49          ┆ 2024-12-02    ┆ 6              ┆ 1            ┆ 156234    ┆ 1139156        ┆ 1.0  │\n",
       "│ 50          ┆ 2024-12-09    ┆ 6              ┆ 1            ┆ 166578    ┆ 1190761        ┆ 1.0  │\n",
       "│ 51          ┆ 2024-12-16    ┆ 4              ┆ 1            ┆ 140348    ┆ 1092236        ┆ 1.0  │\n",
       "│ 52          ┆ 2024-12-23    ┆ 6              ┆ 1            ┆ 93583     ┆ 776533         ┆ 1.0  │\n",
       "│ 1           ┆ 2024-12-30    ┆ 1              ┆ 1            ┆ 85677     ┆ 228899         ┆ 1.0  │\n",
       "└─────────────┴───────────────┴────────────────┴──────────────┴───────────┴────────────────┴──────┘"
      ]
     },
     "execution_count": 473,
     "metadata": {},
     "output_type": "execute_result"
    }
   ],
   "source": [
    "stat_df.filter(pl.col('rank') == 1).sort('standard_date')"
   ]
  }
 ],
 "metadata": {
  "kernelspec": {
   "display_name": "Python 3 (ipykernel)",
   "language": "python",
   "name": "python3"
  },
  "language_info": {
   "codemirror_mode": {
    "name": "ipython",
    "version": 3
   },
   "file_extension": ".py",
   "mimetype": "text/x-python",
   "name": "python",
   "nbconvert_exporter": "python",
   "pygments_lexer": "ipython3",
   "version": "3.9.16"
  }
 },
 "nbformat": 4,
 "nbformat_minor": 5
}
