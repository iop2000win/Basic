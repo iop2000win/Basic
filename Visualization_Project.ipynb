{
 "cells": [
  {
   "cell_type": "markdown",
   "id": "f53d293f",
   "metadata": {},
   "source": [
    "# 1. 인구 피라미드"
   ]
  },
  {
   "cell_type": "code",
   "execution_count": 1,
   "id": "d5d0ee20",
   "metadata": {},
   "outputs": [],
   "source": [
    "import numpy as np\n",
    "import pandas as pd\n",
    "\n",
    "import matplotlib\n",
    "import matplotlib.pyplot as plt\n",
    "# 그래프 출력 관련 옵션 설정\n",
    "matplotlib.rcParams['font.family'] = 'Malgun Gothic'\n",
    "matplotlib.rcParams['font.size'] = 10\n",
    "matplotlib.rcParams['axes.unicode_minus'] = False"
   ]
  },
  {
   "cell_type": "code",
   "execution_count": 96,
   "id": "cc501d9e",
   "metadata": {},
   "outputs": [
    {
     "name": "stderr",
     "output_type": "stream",
     "text": [
      "C:\\Users\\Andrew Kei\\anaconda3\\envs\\andrew_kei\\lib\\site-packages\\openpyxl\\styles\\stylesheet.py:226: UserWarning: Workbook contains no default style, apply openpyxl's default\n",
      "  warn(\"Workbook contains no default style, apply openpyxl's default\")\n"
     ]
    }
   ],
   "source": [
    "df = pd.read_excel('./Data/2022_01_인구현황.xlsx')\n",
    "\n",
    "# 읽어올 때, 데이터 필터링 하기\n",
    "df_m = pd.read_excel('./Data/2022_01_인구현황.xlsx',\n",
    "                     skiprows = 3,\n",
    "                     index_col = '행정기관',\n",
    "                     usecols = 'B,E:Y')"
   ]
  },
  {
   "cell_type": "code",
   "execution_count": 27,
   "id": "d6235463",
   "metadata": {},
   "outputs": [
    {
     "data": {
      "text/plain": [
       "25"
      ]
     },
     "execution_count": 27,
     "metadata": {},
     "output_type": "execute_result"
    }
   ],
   "source": [
    "list(df.iloc[1]).index('여')"
   ]
  },
  {
   "cell_type": "code",
   "execution_count": 98,
   "id": "4d7c6930",
   "metadata": {},
   "outputs": [],
   "source": [
    "columns = list(df.iloc[2])\n",
    "df = df[3:].copy()\n",
    "df.columns = columns"
   ]
  },
  {
   "cell_type": "code",
   "execution_count": 119,
   "id": "135954c3",
   "metadata": {},
   "outputs": [],
   "source": [
    "male_df = df.iloc[:, 4:25]\n",
    "male_df.index = df['행정기관']\n",
    "\n",
    "female_df = df.iloc[:, 27:]\n",
    "female_df.index = df['행정기관']"
   ]
  },
  {
   "cell_type": "code",
   "execution_count": 127,
   "id": "0a04f70e",
   "metadata": {},
   "outputs": [
    {
     "name": "stdout",
     "output_type": "stream",
     "text": [
      "(18, 21) (18, 21)\n"
     ]
    },
    {
     "data": {
      "text/html": [
       "<div>\n",
       "<style scoped>\n",
       "    .dataframe tbody tr th:only-of-type {\n",
       "        vertical-align: middle;\n",
       "    }\n",
       "\n",
       "    .dataframe tbody tr th {\n",
       "        vertical-align: top;\n",
       "    }\n",
       "\n",
       "    .dataframe thead th {\n",
       "        text-align: right;\n",
       "    }\n",
       "</style>\n",
       "<table border=\"1\" class=\"dataframe\">\n",
       "  <thead>\n",
       "    <tr style=\"text-align: right;\">\n",
       "      <th></th>\n",
       "      <th>0~4세</th>\n",
       "      <th>5~9세</th>\n",
       "      <th>10~14세</th>\n",
       "      <th>15~19세</th>\n",
       "      <th>20~24세</th>\n",
       "      <th>25~29세</th>\n",
       "      <th>30~34세</th>\n",
       "      <th>35~39세</th>\n",
       "      <th>40~44세</th>\n",
       "      <th>45~49세</th>\n",
       "      <th>...</th>\n",
       "      <th>55~59세</th>\n",
       "      <th>60~64세</th>\n",
       "      <th>65~69세</th>\n",
       "      <th>70~74세</th>\n",
       "      <th>75~79세</th>\n",
       "      <th>80~84세</th>\n",
       "      <th>85~89세</th>\n",
       "      <th>90~94세</th>\n",
       "      <th>95~99세</th>\n",
       "      <th>100세 이상</th>\n",
       "    </tr>\n",
       "    <tr>\n",
       "      <th>행정기관</th>\n",
       "      <th></th>\n",
       "      <th></th>\n",
       "      <th></th>\n",
       "      <th></th>\n",
       "      <th></th>\n",
       "      <th></th>\n",
       "      <th></th>\n",
       "      <th></th>\n",
       "      <th></th>\n",
       "      <th></th>\n",
       "      <th></th>\n",
       "      <th></th>\n",
       "      <th></th>\n",
       "      <th></th>\n",
       "      <th></th>\n",
       "      <th></th>\n",
       "      <th></th>\n",
       "      <th></th>\n",
       "      <th></th>\n",
       "      <th></th>\n",
       "      <th></th>\n",
       "    </tr>\n",
       "  </thead>\n",
       "  <tbody>\n",
       "    <tr>\n",
       "      <th>전국</th>\n",
       "      <td>778,266</td>\n",
       "      <td>1,137,135</td>\n",
       "      <td>1,216,746</td>\n",
       "      <td>1,212,320</td>\n",
       "      <td>1,616,561</td>\n",
       "      <td>1,862,891</td>\n",
       "      <td>1,679,387</td>\n",
       "      <td>1,784,229</td>\n",
       "      <td>2,035,381</td>\n",
       "      <td>2,114,019</td>\n",
       "      <td>...</td>\n",
       "      <td>2,082,375</td>\n",
       "      <td>2,053,427</td>\n",
       "      <td>1,472,075</td>\n",
       "      <td>992,362</td>\n",
       "      <td>697,893</td>\n",
       "      <td>463,734</td>\n",
       "      <td>198,740</td>\n",
       "      <td>50,759</td>\n",
       "      <td>9,148</td>\n",
       "      <td>1,423</td>\n",
       "    </tr>\n",
       "    <tr>\n",
       "      <th>서울특별시</th>\n",
       "      <td>124,880</td>\n",
       "      <td>172,822</td>\n",
       "      <td>188,912</td>\n",
       "      <td>198,167</td>\n",
       "      <td>284,873</td>\n",
       "      <td>396,975</td>\n",
       "      <td>368,139</td>\n",
       "      <td>349,617</td>\n",
       "      <td>362,532</td>\n",
       "      <td>370,189</td>\n",
       "      <td>...</td>\n",
       "      <td>347,181</td>\n",
       "      <td>344,833</td>\n",
       "      <td>264,329</td>\n",
       "      <td>183,033</td>\n",
       "      <td>134,354</td>\n",
       "      <td>84,626</td>\n",
       "      <td>33,627</td>\n",
       "      <td>8,977</td>\n",
       "      <td>1,819</td>\n",
       "      <td>398</td>\n",
       "    </tr>\n",
       "    <tr>\n",
       "      <th>부산광역시</th>\n",
       "      <td>44,691</td>\n",
       "      <td>67,451</td>\n",
       "      <td>68,484</td>\n",
       "      <td>68,547</td>\n",
       "      <td>99,309</td>\n",
       "      <td>114,958</td>\n",
       "      <td>100,632</td>\n",
       "      <td>106,805</td>\n",
       "      <td>126,676</td>\n",
       "      <td>126,648</td>\n",
       "      <td>...</td>\n",
       "      <td>131,229</td>\n",
       "      <td>144,390</td>\n",
       "      <td>115,206</td>\n",
       "      <td>80,732</td>\n",
       "      <td>54,526</td>\n",
       "      <td>33,380</td>\n",
       "      <td>12,373</td>\n",
       "      <td>2,911</td>\n",
       "      <td>467</td>\n",
       "      <td>67</td>\n",
       "    </tr>\n",
       "  </tbody>\n",
       "</table>\n",
       "<p>3 rows × 21 columns</p>\n",
       "</div>"
      ],
      "text/plain": [
       "            0~4세       5~9세     10~14세     15~19세     20~24세     25~29세  \\\n",
       "행정기관                                                                      \n",
       "전국       778,266  1,137,135  1,216,746  1,212,320  1,616,561  1,862,891   \n",
       "서울특별시    124,880    172,822    188,912    198,167    284,873    396,975   \n",
       "부산광역시     44,691     67,451     68,484     68,547     99,309    114,958   \n",
       "\n",
       "            30~34세     35~39세     40~44세     45~49세  ...     55~59세  \\\n",
       "행정기관                                                 ...              \n",
       "전국       1,679,387  1,784,229  2,035,381  2,114,019  ...  2,082,375   \n",
       "서울특별시      368,139    349,617    362,532    370,189  ...    347,181   \n",
       "부산광역시      100,632    106,805    126,676    126,648  ...    131,229   \n",
       "\n",
       "            60~64세     65~69세   70~74세   75~79세   80~84세   85~89세  90~94세  \\\n",
       "행정기관                                                                        \n",
       "전국       2,053,427  1,472,075  992,362  697,893  463,734  198,740  50,759   \n",
       "서울특별시      344,833    264,329  183,033  134,354   84,626   33,627   8,977   \n",
       "부산광역시      144,390    115,206   80,732   54,526   33,380   12,373   2,911   \n",
       "\n",
       "        95~99세 100세 이상  \n",
       "행정기관                    \n",
       "전국       9,148   1,423  \n",
       "서울특별시    1,819     398  \n",
       "부산광역시      467      67  \n",
       "\n",
       "[3 rows x 21 columns]"
      ]
     },
     "metadata": {},
     "output_type": "display_data"
    }
   ],
   "source": [
    "print(male_df.shape, female_df.shape)\n",
    "\n",
    "display(male_df.head(3))"
   ]
  },
  {
   "cell_type": "code",
   "execution_count": 180,
   "id": "8e2cbc33",
   "metadata": {},
   "outputs": [],
   "source": [
    "# apply ??\n",
    "\n",
    "# male_df = male_df.replace(',', '', regex = True)\n",
    "# male_df = male_df.astype(int)\n",
    "\n",
    "female_df = female_df.replace(',', '', regex = True)\n",
    "female_df = female_df.astype(int)"
   ]
  },
  {
   "cell_type": "markdown",
   "id": "40b4c595",
   "metadata": {},
   "source": [
    "### 그래프 작성"
   ]
  },
  {
   "cell_type": "code",
   "execution_count": 197,
   "id": "6199cfdb",
   "metadata": {},
   "outputs": [
    {
     "data": {
      "image/png": "[encoded data removed]",
      "text/plain": [
       "<Figure size 1000x700 with 1 Axes>"
      ]
     },
     "metadata": {
      "needs_background": "light"
     },
     "output_type": "display_data"
    }
   ],
   "source": [
    "fig, ax = plt.subplots(figsize = (10, 7), dpi = 100)\n",
    "\n",
    "ax.barh(male_df.columns, -male_df.iloc[0] // 1000) # 단위 천명\n",
    "ax.barh(female_df.columns, female_df.iloc[0] // 1000)\n",
    "\n",
    "fig.suptitle('2022.01 대한민국 인구 피라미드')\n",
    "ax.grid(axis = 'x')\n",
    "\n",
    "plt.show()"
   ]
  },
  {
   "cell_type": "markdown",
   "id": "a03af1c0",
   "metadata": {},
   "source": [
    "# 2. 출생아 수 및 합계 출산율"
   ]
  },
  {
   "cell_type": "code",
   "execution_count": 200,
   "id": "7b51590d",
   "metadata": {},
   "outputs": [],
   "source": [
    "df = pd.read_excel('./Data/출생아_통계.xls',\n",
    "                   skiprows = 2,\n",
    "                   nrows = 2,\n",
    "                   index_col = 0)"
   ]
  },
  {
   "cell_type": "code",
   "execution_count": 210,
   "id": "7c39ce85",
   "metadata": {},
   "outputs": [],
   "source": [
    "# df.index = ['출생아 수', '합계 출산율']\n",
    "\n",
    "# rename을 통한 수정 (몇몇 값만 바꿀 때 사용하면 유용)\n",
    "df.rename(index = {'출생아\\xa0수': '출생아 수',\n",
    "                   '합계\\xa0출산율': '합계 출산율'}, inplace = True)"
   ]
  },
  {
   "cell_type": "code",
   "execution_count": 214,
   "id": "81d9b27b",
   "metadata": {},
   "outputs": [],
   "source": [
    "df = df.T"
   ]
  },
  {
   "cell_type": "code",
   "execution_count": 255,
   "id": "9016dd11",
   "metadata": {},
   "outputs": [
    {
     "data": {
      "image/png": "[encoded data removed]",
      "text/plain": [
       "<Figure size 936x360 with 2 Axes>"
      ]
     },
     "metadata": {
      "needs_background": "light"
     },
     "output_type": "display_data"
    }
   ],
   "source": [
    "fig, ax = plt.subplots(figsize = (13, 5))\n",
    "\n",
    "ax.bar(df.index, df['출생아 수'],\n",
    "       color = '#ff812d')\n",
    "\n",
    "ax.set_ylabel('출생아 수(천 명)')\n",
    "ax.set_yticks([300, 400, 500, 600])\n",
    "ax.set_ylim(250, 700)\n",
    "ax.grid(axis = 'y')\n",
    "for idx, val in enumerate(df['출생아 수']):\n",
    "    ax.text(idx, val + 10, val,\n",
    "            ha = 'center', va = 'bottom')\n",
    "\n",
    "ax_ = ax.twinx() # x 축을 공유하는 그래프 축\n",
    "ax_.plot(df.index, df['합계 출산율'],\n",
    "         color = '#ffd100',\n",
    "         marker = 'o',\n",
    "         markersize = 10,\n",
    "         markeredgecolor = 'w',\n",
    "         markeredgewidth = 2,\n",
    "         linewidth = 3)\n",
    "\n",
    "ax_.set_ylabel('합계 출산율 (가임여성 1명당 명)')\n",
    "ax_.set_yticks([0, 1])\n",
    "ax_.set_ylim(0, 2)\n",
    "for idx, val in enumerate(df['합계 출산율']):\n",
    "    ax_.text(idx, val + 0.05, val,\n",
    "             ha = 'center', va = 'bottom')\n",
    "\n",
    "fig.suptitle('출생아 수 및 합계 출산율')\n",
    "plt.show()"
   ]
  }
 ],
 "metadata": {
  "kernelspec": {
   "display_name": "Python 3",
   "language": "python",
   "name": "python3"
  },
  "language_info": {
   "codemirror_mode": {
    "name": "ipython",
    "version": 3
   },
   "file_extension": ".py",
   "mimetype": "text/x-python",
   "name": "python",
   "nbconvert_exporter": "python",
   "pygments_lexer": "ipython3",
   "version": "3.8.10"
  }
 },
 "nbformat": 4,
 "nbformat_minor": 5
}
